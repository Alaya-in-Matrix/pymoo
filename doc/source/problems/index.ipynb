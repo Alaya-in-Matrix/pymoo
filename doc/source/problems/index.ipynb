{
 "cells": [
  {
   "cell_type": "raw",
   "metadata": {
    "raw_mimetype": "text/restructuredtext"
   },
   "source": [
    ".. _nb_problems:"
   ]
  },
  {
   "cell_type": "raw",
   "metadata": {
    "raw_mimetype": "text/restructuredtext"
   },
   "source": [
    ".. toctree::\n",
    "   :hidden:\n",
    "   :maxdepth: 1\n",
    "   \n",
    "   custom.ipynb\n",
    "   gradients.ipynb\n",
    "   parallelization.ipynb\n",
    "\n",
    "   single/ackley.ipynb\n",
    "   single/griewank.ipynb\n",
    "   single/zakharov.ipynb\n",
    "   single/rastrigin.ipynb\n",
    "   single/rosenbrock.ipynb\n",
    "   \n",
    "   multi/bnh.ipynb\n",
    "   multi/zdt.ipynb\n",
    "   multi/osy.ipynb\n",
    "   multi/tnk.ipynb\n",
    "   multi/truss2d.ipynb\n",
    "   multi/welded_beam.ipynb\n",
    "   \n",
    "   many/dtlz.ipynb\n",
    "   \n",
    "   "
   ]
  },
  {
   "cell_type": "markdown",
   "metadata": {},
   "source": [
    "## Test Problems\n",
    "\n",
    "In the future we are planning to provide a comprehensive overview of problems. So far we have managed to describe a view of them and plot the functions. Please note, that we have used for some problems the descriptions from [here](https://www.sfu.ca/~ssurjano/).\n",
    "\n",
    "We would like to keep the function definitions as error free as possible and matching with the implementation. If you find any deviation please let us know.\n"
   ]
  },
  {
   "cell_type": "markdown",
   "metadata": {},
   "source": [
    "### Single-Objective"
   ]
  },
  {
   "cell_type": "markdown",
   "metadata": {},
   "source": [
    "|Problem|Variables|Constraints|Type|\n",
    "|-|-|-|-|\n",
    "|[Ackley](single/ackley.ipynb)|s|&nbsp;||\n",
    "|Cantilevered Beams|4|2||\n",
    "|[Griewank](single/griewank.ipynb)|s|&nbsp;||\n",
    "|Himmelblau|2|&nbsp;||\n",
    "|Knapsack|s|1||\n",
    "|Pressure Vessel|4|4||\n",
    "|[Rastrigin](single/rastrigin.ipynb)|s|&nbsp;||\n",
    "|[Rosenbrock](single/rosenbrock.ipynb)|s|&nbsp;||\n",
    "|Schwefel|s|&nbsp;||\n",
    "|Sphere|s|&nbsp;||\n",
    "|[Zakharov](single/zakharov.ipynb)|s|&nbsp;||\n",
    "|G01|13|9||\n",
    "|G02|20|2||\n",
    "|G03|10|1||\n",
    "|G04|5|6||\n",
    "|G05|4|5||\n",
    "|G06|2|2||\n",
    "|G07|10|8||\n",
    "|G08|2|2||\n",
    "|G09|8|6||\n"
   ]
  },
  {
   "cell_type": "markdown",
   "metadata": {},
   "source": [
    "### Multi-Objective"
   ]
  },
  {
   "cell_type": "markdown",
   "metadata": {},
   "source": [
    "|Problem|Variables|Objectives|Constraints|Description\n",
    "|:---|:---|:---|:---|:---|\n",
    "|[BNH](multi/bnh.ipynb)|2|2|2||\n",
    "|Carside|7|3|10||\n",
    "|Kursawe|3|2|&nbsp;||\n",
    "|[OSY](multi/osy.ipynb)|6|2|6||\n",
    "|[TNK](multi/tnk.ipynb)|2|2|2||\n",
    "|[Truss2D](multi/truss2d.ipynb)|3|2|1||\n",
    "|[Welded Beam](multi/welded_beam.ipynb)|4|2|4||\n",
    "|CTP1|2|2|(s)||\n",
    "|CTP2|2|2|(s)||\n",
    "|CTP3|2|2|(s)||\n",
    "|CTP4|2|2|(s)||\n",
    "|CTP5|2|2|(s)||\n",
    "|CTP6|2|2|(s)||\n",
    "|CTP7|2|2|(s)||\n",
    "|CTP8|2|2|(s)||\n",
    "|[ZDT1](multi/zdt.ipynb#zdt1)|30|2|&nbsp;||\n",
    "|[ZDT2](multi/zdt.ipynb#zdt2)|30|2|&nbsp;||\n",
    "|[ZDT3](multi/zdt.ipynb#zdt3)|30|2|&nbsp;||\n",
    "|[ZDT4](multi/zdt.ipynb#zdt4)|10|2|&nbsp;||\n",
    "|[ZDT5](multi/zdt.ipynb#zdt5)|80|2|&nbsp;||\n",
    "|[ZDT6](multi/zdt.ipynb#zdt6)|10|2|&nbsp;||"
   ]
  },
  {
   "cell_type": "markdown",
   "metadata": {},
   "source": [
    "### Many-Objective"
   ]
  },
  {
   "cell_type": "markdown",
   "metadata": {},
   "source": [
    "|Problem|Description|\n",
    "|-|-|\n",
    "|[DTLZ1](many/dtlz.ipynb#dtlz1)||\n",
    "|[DTLZ2](many/dtlz.ipynb#dtlz2)||\n",
    "|[DTLZ3](many/dtlz.ipynb#dtlz3)||\n",
    "|[DTLZ4](many/dtlz.ipynb#dtlz4)||\n",
    "|[DTLZ5](many/dtlz.ipynb#dtlz5)||\n",
    "|[DTLZ6](many/dtlz.ipynb#dtlz6)||\n",
    "|[DTLZ7](many/dtlz.ipynb#dtlz7)||\n",
    "|DTLZ1^-1||\n",
    "|Scaled DTLZ||\n",
    "|Convex DTLZ||"
   ]
  }
 ],
 "metadata": {
  "kernelspec": {
   "display_name": "Python 3",
   "language": "python",
   "name": "python3"
  },
  "language_info": {
   "codemirror_mode": {
    "name": "ipython",
    "version": 3
   },
   "file_extension": ".py",
   "mimetype": "text/x-python",
   "name": "python",
   "nbconvert_exporter": "python",
   "pygments_lexer": "ipython3",
   "version": "3.7.3"
  }
 },
 "nbformat": 4,
 "nbformat_minor": 4
}
