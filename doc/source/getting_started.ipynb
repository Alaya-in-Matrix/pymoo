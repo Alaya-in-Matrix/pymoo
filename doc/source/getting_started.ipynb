{
 "cells": [
  {
   "cell_type": "raw",
   "metadata": {
    "raw_mimetype": "text/restructuredtext"
   },
   "source": [
    ".. _nb_getting_started:"
   ]
  },
  {
   "cell_type": "markdown",
   "metadata": {},
   "source": [
    "## Getting Started"
   ]
  },
  {
   "cell_type": "markdown",
   "metadata": {},
   "source": [
    "This is a guide how to get started solving an example problem using *pymoo*. The problem definition is outsourced to another library called [pymop](https://github.com/msu-coinlab/pymop). There, various test problems (single- as well as multi-objective) are defined. In addition to the objective values gradients are available as well. For details we refer to the corresping [documentation](https://www.egr.msu.edu/coinlab/blankjul/pymop/)."
   ]
  },
  {
   "cell_type": "markdown",
   "metadata": {},
   "source": [
    "In this guide we are going to solve a bi-objective problem with the following definition:\n",
    "\n",
    "\n",
    "$$\\begin{align*} \n",
    "\\text{Minimize} \\;\\; & f_1(x) = (x_1^2 + x_2^2) \\\\ \n",
    "\\text{Maxmize} \\;\\; & f_2(x) = -(x_1-1)^2 - x_2^2 \\\\\n",
    "\\text{subject to} \\;\\; & g_1(x) = x_1^2 - x_1 \\geq - \\frac{3}{16} \\\\ \n",
    "& -2 < x_1 < 2 \\\\\n",
    "& -2 < x_2 < 2\n",
    "\\end{align*}$$\n"
   ]
  },
  {
   "cell_type": "markdown",
   "metadata": {},
   "source": [
    "### Define a Problem\n",
    "\n",
    "In *pymoo* all functions are supposed to be **minimized**. However, in case of maximization (as you might alread now), you can simply multiply the objective by -1 and then minimize it. In our case, the second objective $f_2(x) = -(x_1-1)^2 - x_2^2$ to be maximized will become $f_2(x) = (x_1-1)^2 + x_2^2$ to be minimized.\n",
    "\n",
    "Most of the algorithms in *pymoo* are able to handle constraints. A solution is defined to be feasible or infeasible as follows:\n",
    "\n",
    "\n",
    "$$ \\begin{cases}\n",
    "\\text{feasible,} \\quad \\quad \\sum_i^n \\langle g_i(x)\\rangle = 0\\\\\n",
    "\\text{infeasbile,} \\quad \\quad \\quad \\text{otherwise}\\\\\n",
    "\\end{cases}\n",
    "$$\n",
    "\n",
    "$$\n",
    "\\text{where} \\quad \\langle g_i(x)\\rangle =\n",
    "\\begin{cases}\n",
    "0, \\quad \\quad \\; \\text{if} \\; g_i(x) \\leq 0\\\\\n",
    "g_i(x), \\quad  \\text{otherwise}\\\\\n",
    "\\end{cases}\n",
    "$$\n",
    "\n"
   ]
  },
  {
   "cell_type": "markdown",
   "metadata": {},
   "source": [
    "Therefore, a constraint counts as violated when $g_i(x)$ is *positive* for at least one constraint. For the purpose of convergence it is useful to make sure the positive value corresponds to the amount of infeasibility. If $g_i(x)$ returns a negative value no constraint violation does exist and the solution is considered as feasible. \n",
    "In *pymoo* \n",
    "Therefore, the constraint function $g_i(x)$ needs to be converted to a $\\leq 0$ constraint: $g_1(x) = -(x_1^2 - x_1 +\\frac{3}{16}) \\leq 0$.\n",
    "\n",
    "Finally, the problem to be defined is:\n",
    "\n",
    "$$\\begin{align*} \n",
    "\\text{Minimize} \\;\\; & f_1(x) = (x_1^2 + x_2^2) \\\\ \n",
    "\\text{Minimize} \\;\\; & f_2(x) = (x_1-1)^2 + x_2^2 \\\\\n",
    "\\text{subject to} \\;\\; & g_1(x) = - (x_1^2 - x_1 + \\frac{3}{16}) \\leq 0\\\\ \n",
    "& -2 < x_1 < 2 \\\\\n",
    "& -2 < x_2 < 2\n",
    "\\end{align*}$$\n",
    "\n",
    "\n",
    "The implementation of this problem is the follows: First, the problem class needs to be defined. One way to do that is by defining an object which inherits from the Problem class. The instructor needs to set the number of variables *n_var*, the number of objectives *n_obj*, the number of constraints *n_constr* and the variable boundaries (if applicable to the variable type). Moverover, the *\\_evaluate* function needs to be overwritten. The input *x* is a 2d-array, where each row represents an entry to be evaluated."
   ]
  },
  {
   "cell_type": "code",
   "execution_count": 1,
   "metadata": {},
   "outputs": [],
   "source": [
    "import numpy as np\n",
    "from pymop.problem import Problem\n",
    "\n",
    "class MyProblem(Problem):\n",
    "\n",
    "    def __init__(self):\n",
    "        super().__init__(n_var=2, n_obj=2, n_constr=1, \n",
    "                         xl=np.array([-2,-2]), xu=np.array([2,2]))\n",
    "\n",
    "    def _evaluate(self, x, out, *args, **kwargs):\n",
    "        f1 = x[:,0]**2 + x[:,1]**2\n",
    "        f2 = (x[:,0]-1)**2 + x[:,1]**2\n",
    "        out[\"F\"] = np.column_stack([f1, f2])\n",
    "        out[\"G\"] = - (x[:,0]**2 - x[:,0] + 3/16)\n",
    "        \n",
    "problem = MyProblem()\n"
   ]
  },
  {
   "cell_type": "markdown",
   "metadata": {},
   "source": [
    "### Initialize an Algorithm\n",
    "\n",
    "\n"
   ]
  },
  {
   "cell_type": "markdown",
   "metadata": {},
   "source": [
    "Second, an algorithm to solve the problem need to be defined. Depending on the optimization problem different algorithms can be used to optimize the problem. Choosing an apropriate algorithm with suitable hyperparameters is a challange itself.\n",
    "In our example, a bi-objective problem with one constraint can solved by using the well-known [NSGA-II](/algorithms/nsga2.html)."
   ]
  },
  {
   "cell_type": "code",
   "execution_count": 2,
   "metadata": {},
   "outputs": [],
   "source": [
    "from pymoo.factory import get_algorithm\n",
    "\n",
    "method = get_algorithm(\"nsga2\", pop_size=20)"
   ]
  },
  {
   "cell_type": "markdown",
   "metadata": {},
   "source": [
    "### Optimize and Visualize"
   ]
  },
  {
   "cell_type": "markdown",
   "metadata": {},
   "source": [
    "Third, we are solving the problem with the method we have just defined. The [Result](/api/model.html#pymoo.model.result.Result) object provides the corresponding *X* and *F* values and much more information. For instance, because we have enabled the *save_history* flag, we can analyze the optimization run over time and track the performance."
   ]
  },
  {
   "cell_type": "code",
   "execution_count": 5,
   "metadata": {},
   "outputs": [
    {
     "name": "stdout",
     "output_type": "stream",
     "text": [
      "\n",
      "Design Space\n"
     ]
    },
    {
     "data": {
      "image/png": "[encoded data removed]",
      "text/plain": [
       "<Figure size 432x288 with 1 Axes>"
      ]
     },
     "metadata": {},
     "output_type": "display_data"
    },
    {
     "name": "stdout",
     "output_type": "stream",
     "text": [
      "\n",
      "Objective Space\n"
     ]
    },
    {
     "data": {
      "image/png": "[encoded data removed]",
      "text/plain": [
       "<Figure size 432x288 with 1 Axes>"
      ]
     },
     "metadata": {},
     "output_type": "display_data"
    }
   ],
   "source": [
    "from pymoo.optimize import minimize\n",
    "import matplotlib.pyplot as plt\n",
    "from pymoo.util import plotting\n",
    "\n",
    "res = minimize(problem,\n",
    "               method,\n",
    "               termination=('n_gen', 20),\n",
    "               seed=1,\n",
    "               save_history=True,\n",
    "               disp=False)\n",
    "\n",
    "print(\"\\nDesign Space\")\n",
    "plotting.plot(res.X, show=False, no_fill=True)\n",
    "plt.ylim(-2, 2)\n",
    "plt.xlim(-2, 2)\n",
    "plt.show()\n",
    "\n",
    "print(\"\\nObjective Space\")\n",
    "plotting.plot(res.F, no_fill=True)\n"
   ]
  },
  {
   "cell_type": "markdown",
   "metadata": {},
   "source": [
    "### Performance Tracking\n",
    "\n",
    "Because we also saved the history, we can now analyze the convergence over time. To measure the performance we need to decide what metric to be used. Here, we have using Hypervolume."
   ]
  },
  {
   "cell_type": "code",
   "execution_count": 6,
   "metadata": {},
   "outputs": [
    {
     "data": {
      "image/png": "[encoded data removed]",
      "text/plain": [
       "<Figure size 432x288 with 1 Axes>"
      ]
     },
     "metadata": {},
     "output_type": "display_data"
    }
   ],
   "source": [
    "from pymoo.indicators.hv import Hypervolume\n",
    "\n",
    "# create the performance indicator object with reference point (4,4)\n",
    "_hv = Hypervolume(ref_point=np.array([1.0, 1.0]))\n",
    "\n",
    "# collect the population in each generation\n",
    "pop_each_gen = [a.pop for a in res.history]\n",
    "\n",
    "# receive the population in each generation\n",
    "obj_and_feasible_each_gen = [pop[pop.get(\"feasible\")[:,0]].get(\"F\") for pop in pop_each_gen]\n",
    "\n",
    "# calculate for each generation the HV metric\n",
    "hv = [_hv.calc(f) for f in obj_and_feasible_each_gen]\n",
    "\n",
    "# visualze the convergence curve \n",
    "plt.plot(np.arange(len(hv)), hv, '-o')\n",
    "plt.title(\"Convergence\")\n",
    "plt.xlabel(\"Generation\")\n",
    "plt.ylabel(\"Hypervolume\")\n",
    "plt.show()\n"
   ]
  }
 ],
 "metadata": {
  "celltoolbar": "Raw Cell Format",
  "kernelspec": {
   "display_name": "Python 3",
   "language": "python",
   "name": "python3"
  },
  "language_info": {
   "codemirror_mode": {
    "name": "ipython",
    "version": 3
   },
   "file_extension": ".py",
   "mimetype": "text/x-python",
   "name": "python",
   "nbconvert_exporter": "python",
   "pygments_lexer": "ipython3",
   "version": "3.6.5"
  }
 },
 "nbformat": 4,
 "nbformat_minor": 2
}
