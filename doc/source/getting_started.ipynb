{
 "cells": [
  {
   "cell_type": "raw",
   "metadata": {
    "raw_mimetype": "text/restructuredtext"
   },
   "source": [
    ".. _nb_getting_started:"
   ]
  },
  {
   "cell_type": "markdown",
   "metadata": {},
   "source": [
    "## Getting Started"
   ]
  },
  {
   "cell_type": "markdown",
   "metadata": {},
   "source": [
    "This is a guide how to get started solving an example problem using *pymoo*. The problem definition is outsourced to another library called [pymop](https://github.com/msu-coinlab/pymop). There, various test problems (single- as well as multi-objective) are defined. In addition to the objective values gradients are available as well. For details we refer to the corresping [documentation](https://www.egr.msu.edu/coinlab/blankjul/pymop/).\n",
    "\n",
    "It is worth to mention that in *pymoo* all functions are supposed to be **minimized**. However, in case of maximization (as you might alread now), you can simply multiply the objective by -1 and then minimize it."
   ]
  },
  {
   "cell_type": "markdown",
   "metadata": {},
   "source": [
    "In this guide we are going to solve a bi-objective problem with the following definition:\n",
    "\n",
    "$$ F = \\min_x \\; (f_1(x), f_2(x))$$\n",
    "$$ G = (g_1(x))$$\n",
    "\n",
    "\n",
    "$$f_1(x) = \\frac{1}{n} \\sum_i^n (x_i - 2)^2$$\n",
    "$$f_2(x) = \\frac{1}{n} \\sum_i^n (x_i + 2)^2$$\n",
    "\n",
    "\n",
    "$$g_1(x) = (\\frac{1}{n} \\sum_i^n x_i^2)> 0.5$$\n",
    "\n",
    "$$-5 < x_i < 5 \\quad \\forall i \\in (1, ... n) $$"
   ]
  },
  {
   "cell_type": "markdown",
   "metadata": {},
   "source": [
    "### Define a Problem\n",
    "\n",
    "First, the problem needs to be defined. One way to do that is by defining an object which inherits from the Problem class. The instructor needs to set the number of variables *n_var*, the number of objectives *n_obj*, the number of constraints *n_constr* and the variable boundaries (if applicable to the variable type).\n",
    "\n",
    "Moverover, the *_evaluate* function needs to be overwritten. The input *x* is a 2d-array, where each row represents an entry to be evaluated."
   ]
  },
  {
   "cell_type": "code",
   "execution_count": 1,
   "metadata": {},
   "outputs": [],
   "source": [
    "import numpy as np\n",
    "from pymop.problem import Problem\n",
    "\n",
    "class MyProblem(Problem):\n",
    "\n",
    "    def __init__(self, n_var):\n",
    "        super().__init__(n_var=n_var, n_obj=2, n_constr=1, \n",
    "                         xl=np.full(n_var, -5), xu=np.full(n_var, 5))\n",
    "\n",
    "    def _evaluate(self, x, out, *args, **kwargs):\n",
    "        f1 = np.sqrt(np.sum(np.square(x - 2), axis=1) / self.n_var)\n",
    "        f2 = np.sqrt(np.sum(np.square(x + 2), axis=1) / self.n_var)\n",
    "        out[\"F\"] = np.column_stack([f1, f2])\n",
    "        #out[\"G\"] = np.sum(np.square(x), axis=1) / self.n_var - 0.5\n",
    "        out[\"G\"] = np.full(len(x), 0)\n",
    "        \n",
    "problem = MyProblem(10)\n"
   ]
  },
  {
   "cell_type": "markdown",
   "metadata": {},
   "source": [
    "### Initialize an Algorithm\n",
    "\n",
    "\n"
   ]
  },
  {
   "cell_type": "markdown",
   "metadata": {},
   "source": [
    "Second, an algorithm to solve the problem need to be defined. Depending on the optimization problem different algorithms can be used to optimize the problem. In our example, a bi-objective problem with one constraint can solved by using the well-known [NSGA-II](/algorithms/nsga2.html)."
   ]
  },
  {
   "cell_type": "code",
   "execution_count": 2,
   "metadata": {},
   "outputs": [],
   "source": [
    "from pymoo.factory import get_algorithm\n",
    "\n",
    "method = get_algorithm(\"nsga2\",\n",
    "                      pop_size=100,\n",
    "                      elimate_duplicates=True)\n"
   ]
  },
  {
   "cell_type": "markdown",
   "metadata": {},
   "source": [
    "### Optimize and Visualize"
   ]
  },
  {
   "cell_type": "markdown",
   "metadata": {},
   "source": [
    "Third, we are solving the problem with the method we have just defined. The [Result](/api/model.html#pymoo.model.result.Result) object provides the corresponding *X* and *F* values and much more information. For instance, because we have enabled the *save_history* flag, we can analyze the optimization run over time and track the performance."
   ]
  },
  {
   "cell_type": "code",
   "execution_count": 3,
   "metadata": {},
   "outputs": [
    {
     "data": {
      "image/png": "[encoded data removed]",
      "text/plain": [
       "<Figure size 432x288 with 1 Axes>"
      ]
     },
     "metadata": {},
     "output_type": "display_data"
    }
   ],
   "source": [
    "from pymoo.optimize import minimize\n",
    "from pymoo.util import plotting\n",
    "\n",
    "res = minimize(problem,\n",
    "               method,\n",
    "               termination=('n_gen', 150),\n",
    "               seed=1,\n",
    "               save_history=True,\n",
    "               disp=False)\n",
    "\n",
    "plotting.plot(res.F)\n"
   ]
  },
  {
   "cell_type": "markdown",
   "metadata": {},
   "source": [
    "### Performance Tracking\n",
    "\n",
    "Because we also saved the history, we can now analyze the convergence over time. To measure the performance we need to decide what metric to be used. Here, we have using Hypervolume."
   ]
  },
  {
   "cell_type": "code",
   "execution_count": 6,
   "metadata": {},
   "outputs": [
    {
     "data": {
      "image/png": "[encoded data removed]",
      "text/plain": [
       "<Figure size 432x288 with 1 Axes>"
      ]
     },
     "metadata": {},
     "output_type": "display_data"
    }
   ],
   "source": [
    "from pymoo.indicators.hv import Hypervolume\n",
    "\n",
    "# create the performance indicator object with reference point (4,4)\n",
    "_hv = Hypervolume(ref_point=np.array([4,4]))\n",
    "\n",
    "# calculate for each generation the HV metric\n",
    "hv = [_hv.calc(a.pop.get(\"F\")) for a in res.history]\n",
    "\n",
    "# visualze the convergence curve \n",
    "plotting.plot(np.column_stack([np.arange(len(hv)), hv]))\n"
   ]
  }
 ],
 "metadata": {
  "celltoolbar": "Raw Cell Format",
  "kernelspec": {
   "display_name": "Python 3",
   "language": "python",
   "name": "python3"
  },
  "language_info": {
   "codemirror_mode": {
    "name": "ipython",
    "version": 3
   },
   "file_extension": ".py",
   "mimetype": "text/x-python",
   "name": "python",
   "nbconvert_exporter": "python",
   "pygments_lexer": "ipython3",
   "version": "3.6.5"
  }
 },
 "nbformat": 4,
 "nbformat_minor": 2
}
