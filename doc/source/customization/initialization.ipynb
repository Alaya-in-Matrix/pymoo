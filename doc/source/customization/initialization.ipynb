{
 "cells": [
  {
   "cell_type": "markdown",
   "metadata": {
    "raw_mimetype": "text/restructuredtext"
   },
   "source": [
    ".. _nb_initialization:"
   ]
  },
  {
   "cell_type": "markdown",
   "metadata": {},
   "source": [
    "# Biased Initialization\n",
    "\n",
    "\n"
   ]
  },
  {
   "cell_type": "markdown",
   "metadata": {},
   "source": [
    "One way of customizing an algorithm is a biased initial population. This can be very helpful if expert knowledge already exists and known solutions should be improved. In the following two different ways of initialization are provided: **a)** just providing the design space of the variables and **b)** a `Population` object where the objectives and constraints are provided and are not needed to be calculated again.\n",
    "\n",
    "**NOTE:** This works with all **population-based** algorithms in *pymoo*. Technically speaking all algorithms which inherit from `GeneticAlgorithm`. For **local-search** based algorithm the initial solution can be provided by setting `x0` instead of `sampling`."
   ]
  },
  {
   "cell_type": "markdown",
   "metadata": {},
   "source": [
    "## By Array"
   ]
  },
  {
   "cell_type": "code",
   "execution_count": 1,
   "metadata": {
    "code": "algorithms/usage_initial_array.py"
   },
   "outputs": [
    {
     "name": "stdout",
     "output_type": "stream",
     "text": [
      "============================================================\n",
      "n_gen |  n_eval |     igd      |      gd      |      hv     \n",
      "============================================================\n",
      "    1 |     300 |  3.630976687 |  3.776132697 |  0.00000E+00\n",
      "    2 |     400 |  3.630259816 |  3.752439367 |  0.00000E+00\n",
      "    3 |     500 |  3.418933759 |  3.753184244 |  0.00000E+00\n",
      "    4 |     600 |  3.231550622 |  3.253141750 |  0.00000E+00\n",
      "    5 |     700 |  2.948499804 |  3.112957878 |  0.00000E+00\n",
      "    6 |     800 |  2.863306628 |  3.027713279 |  0.00000E+00\n",
      "    7 |     900 |  2.616071760 |  2.966628798 |  0.00000E+00\n",
      "    8 |    1000 |  2.003671745 |  2.773862398 |  0.00000E+00\n",
      "    9 |    1100 |  1.698135333 |  2.539436269 |  0.00000E+00\n",
      "   10 |    1200 |  1.697809742 |  2.399161265 |  0.00000E+00\n"
     ]
    },
    {
     "data": {
      "text/plain": [
       "<pymoo.model.result.Result at 0x126760f50>"
      ]
     },
     "execution_count": 1,
     "metadata": {},
     "output_type": "execute_result"
    }
   ],
   "source": [
    "import numpy as np\n",
    "\n",
    "from pymoo.algorithms.nsga2 import NSGA2\n",
    "from pymoo.factory import get_problem\n",
    "from pymoo.optimize import minimize\n",
    "\n",
    "problem = get_problem(\"zdt2\")\n",
    "\n",
    "X = np.random.random((300, problem.n_var))\n",
    "\n",
    "algorithm = NSGA2(pop_size=100, sampling=X)\n",
    "\n",
    "minimize(problem,\n",
    "         algorithm,\n",
    "         ('n_gen', 10),\n",
    "         seed=1,\n",
    "         verbose=True)\n",
    "\n",
    "\n"
   ]
  },
  {
   "cell_type": "markdown",
   "metadata": {},
   "source": [
    "## By Population (pre-evaluated)"
   ]
  },
  {
   "cell_type": "code",
   "execution_count": 2,
   "metadata": {
    "code": "algorithms/usage_initial_pop.py"
   },
   "outputs": [
    {
     "name": "stdout",
     "output_type": "stream",
     "text": [
      "============================================================\n",
      "n_gen |  n_eval |     igd      |      gd      |      hv     \n",
      "============================================================\n",
      "    1 |       0 |  3.564541316 |  3.691610570 |  0.00000E+00\n",
      "    2 |     100 |  3.564541316 |  3.697683560 |  0.00000E+00\n",
      "    3 |     200 |  3.093660354 |  3.796400408 |  0.00000E+00\n",
      "    4 |     300 |  2.960831587 |  3.363980086 |  0.00000E+00\n",
      "    5 |     400 |  2.951726529 |  3.131239167 |  0.00000E+00\n",
      "    6 |     500 |  2.795768696 |  2.988585578 |  0.00000E+00\n",
      "    7 |     600 |  2.581943136 |  2.459043404 |  0.00000E+00\n",
      "    8 |     700 |  2.471446790 |  2.360115523 |  0.00000E+00\n",
      "    9 |     800 |  2.428839630 |  2.310259426 |  0.00000E+00\n",
      "   10 |     900 |  2.304383703 |  2.135678386 |  0.00000E+00\n"
     ]
    },
    {
     "data": {
      "text/plain": [
       "<pymoo.model.result.Result at 0x118955610>"
      ]
     },
     "execution_count": 2,
     "metadata": {},
     "output_type": "execute_result"
    }
   ],
   "source": [
    "import numpy as np\n",
    "\n",
    "from pymoo.algorithms.nsga2 import NSGA2\n",
    "from pymoo.factory import get_problem\n",
    "from pymoo.model.evaluator import Evaluator\n",
    "from pymoo.model.population import Population\n",
    "from pymoo.optimize import minimize\n",
    "\n",
    "problem = get_problem(\"zdt2\")\n",
    "\n",
    "# create initial data and set to the population object\n",
    "X = np.random.random((300, problem.n_var))\n",
    "pop = Population().new(\"X\", X)\n",
    "Evaluator().eval(problem, pop)\n",
    "\n",
    "algorithm = NSGA2(pop_size=100, sampling=pop)\n",
    "\n",
    "minimize(problem,\n",
    "         algorithm,\n",
    "         ('n_gen', 10),\n",
    "         seed=1,\n",
    "         verbose=True)\n"
   ]
  }
 ],
 "metadata": {
  "kernelspec": {
   "display_name": "Python 3",
   "language": "python",
   "name": "python3"
  },
  "language_info": {
   "codemirror_mode": {
    "name": "ipython",
    "version": 3
   },
   "file_extension": ".py",
   "mimetype": "text/x-python",
   "name": "python",
   "nbconvert_exporter": "python",
   "pygments_lexer": "ipython3",
   "version": "3.7.4"
  }
 },
 "nbformat": 4,
 "nbformat_minor": 4
}
