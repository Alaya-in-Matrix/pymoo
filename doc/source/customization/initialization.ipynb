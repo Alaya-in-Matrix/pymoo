{
 "cells": [
  {
   "cell_type": "markdown",
   "metadata": {
    "raw_mimetype": "text/restructuredtext"
   },
   "source": [
    ".. _nb_initialization:"
   ]
  },
  {
   "cell_type": "markdown",
   "metadata": {},
   "source": [
    "# Biased Initialization\n",
    "\n",
    "\n"
   ]
  },
  {
   "cell_type": "markdown",
   "metadata": {},
   "source": [
    "One way of customizing an algorithm is a biased initial population. This can be very helpful if expert knowledge already exists, and known solutions should be improved. In the following, two different ways of initialization are provided: **a)** just providing the design space of the variables and **b)** a `Population` object where the objectives and constraints are provided and are not needed to be calculated again.\n",
    "\n",
    "**NOTE:** This works with all **population-based** algorithms in *pymoo*. Technically speaking, all algorithms which inherit from `GeneticAlgorithm`. For **local-search** based algorithm, the initial solution can be provided by setting `x0` instead of `sampling`."
   ]
  },
  {
   "cell_type": "markdown",
   "metadata": {},
   "source": [
    "## By Array"
   ]
  },
  {
   "cell_type": "code",
   "execution_count": 1,
   "metadata": {
    "code": "algorithms/usage_initial_array.py"
   },
   "outputs": [
    {
     "name": "stdout",
     "output_type": "stream",
     "text": [
      "============================================================\n",
      "n_gen |  n_eval |     igd      |      gd      |      hv     \n",
      "============================================================\n",
      "    1 |     300 |  3.471768692 |  3.587430605 |  0.00000E+00\n",
      "    2 |     400 |  3.250182194 |  3.366942490 |  0.00000E+00\n",
      "    3 |     500 |  3.018163811 |  3.135302044 |  0.00000E+00\n",
      "    4 |     600 |  2.966398381 |  3.068969788 |  0.00000E+00\n",
      "    5 |     700 |  2.966398381 |  2.891308016 |  0.00000E+00\n",
      "    6 |     800 |  2.591037835 |  2.661727088 |  0.00000E+00\n",
      "    7 |     900 |  2.501132824 |  2.609785978 |  0.00000E+00\n",
      "    8 |    1000 |  2.304690641 |  2.277467098 |  0.00000E+00\n",
      "    9 |    1100 |  2.192357202 |  2.015241496 |  0.00000E+00\n",
      "   10 |    1200 |  2.091910951 |  1.893455937 |  0.00000E+00\n"
     ]
    },
    {
     "data": {
      "text/plain": [
       "<pymoo.model.result.Result at 0x7ff64fa00550>"
      ]
     },
     "execution_count": 1,
     "metadata": {},
     "output_type": "execute_result"
    }
   ],
   "source": [
    "import numpy as np\n",
    "\n",
    "from pymoo.algorithms.nsga2 import NSGA2\n",
    "from pymoo.factory import get_problem\n",
    "from pymoo.optimize import minimize\n",
    "\n",
    "problem = get_problem(\"zdt2\")\n",
    "\n",
    "X = np.random.random((300, problem.n_var))\n",
    "\n",
    "algorithm = NSGA2(pop_size=100, sampling=X)\n",
    "\n",
    "minimize(problem,\n",
    "         algorithm,\n",
    "         ('n_gen', 10),\n",
    "         seed=1,\n",
    "         verbose=True)"
   ]
  },
  {
   "cell_type": "markdown",
   "metadata": {},
   "source": [
    "## By Population (pre-evaluated)"
   ]
  },
  {
   "cell_type": "code",
   "execution_count": 2,
   "metadata": {
    "code": "algorithms/usage_initial_pop.py"
   },
   "outputs": [
    {
     "name": "stdout",
     "output_type": "stream",
     "text": [
      "============================================================\n",
      "n_gen |  n_eval |     igd      |      gd      |      hv     \n",
      "============================================================\n",
      "    1 |       0 |  3.508830371 |  3.842622666 |  0.00000E+00\n",
      "    2 |     100 |  3.508830371 |  3.762053267 |  0.00000E+00\n",
      "    3 |     200 |  3.232274122 |  3.492602355 |  0.00000E+00\n",
      "    4 |     300 |  3.224748750 |  3.276434248 |  0.00000E+00\n",
      "    5 |     400 |  2.999424499 |  3.089373128 |  0.00000E+00\n",
      "    6 |     500 |  2.889836744 |  2.878663281 |  0.00000E+00\n",
      "    7 |     600 |  2.532291653 |  2.723713067 |  0.00000E+00\n",
      "    8 |     700 |  2.250234735 |  2.782304442 |  0.00000E+00\n"
     ]
    },
    {
     "name": "stdout",
     "output_type": "stream",
     "text": [
      "    9 |     800 |  2.125667798 |  2.677990232 |  0.00000E+00\n",
      "   10 |     900 |  2.125667798 |  2.510500998 |  0.00000E+00\n"
     ]
    },
    {
     "data": {
      "text/plain": [
       "<pymoo.model.result.Result at 0x7ff6514465d0>"
      ]
     },
     "execution_count": 2,
     "metadata": {},
     "output_type": "execute_result"
    }
   ],
   "source": [
    "import numpy as np\n",
    "\n",
    "from pymoo.algorithms.nsga2 import NSGA2\n",
    "from pymoo.factory import get_problem\n",
    "from pymoo.model.evaluator import Evaluator\n",
    "from pymoo.model.population import Population\n",
    "from pymoo.optimize import minimize\n",
    "\n",
    "problem = get_problem(\"zdt2\")\n",
    "\n",
    "# create initial data and set to the population object\n",
    "X = np.random.random((300, problem.n_var))\n",
    "pop = Population.new(\"X\", X)\n",
    "Evaluator().eval(problem, pop)\n",
    "\n",
    "algorithm = NSGA2(pop_size=100, sampling=pop)\n",
    "\n",
    "minimize(problem,\n",
    "         algorithm,\n",
    "         ('n_gen', 10),\n",
    "         seed=1,\n",
    "         verbose=True)"
   ]
  }
 ],
 "metadata": {
  "kernelspec": {
   "display_name": "Python 3",
   "language": "python",
   "name": "python3"
  },
  "language_info": {
   "codemirror_mode": {
    "name": "ipython",
    "version": 3
   },
   "file_extension": ".py",
   "mimetype": "text/x-python",
   "name": "python",
   "nbconvert_exporter": "python",
   "pygments_lexer": "ipython3",
   "version": "3.7.4"
  }
 },
 "nbformat": 4,
 "nbformat_minor": 4
}
