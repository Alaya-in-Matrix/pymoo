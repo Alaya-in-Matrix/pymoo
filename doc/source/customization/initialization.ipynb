{
 "cells": [
  {
   "cell_type": "markdown",
   "metadata": {
    "raw_mimetype": "text/restructuredtext"
   },
   "source": [
    ".. _nb_initialization:"
   ]
  },
  {
   "cell_type": "markdown",
   "metadata": {},
   "source": [
    "# Biased Initialization\n",
    "\n",
    "\n"
   ]
  },
  {
   "cell_type": "markdown",
   "metadata": {},
   "source": [
    "One way of customizing an algorithm is a biased initial population. This can be very helpful if expert knowledge already exists, and known solutions should be improved. In the following, two different ways of initialization are provided: **a)** just providing the design space of the variables and **b)** a `Population` object where the objectives and constraints are provided and are not needed to be calculated again.\n",
    "\n",
    "**NOTE:** This works with all **population-based** algorithms in *pymoo*. Technically speaking, all algorithms which inherit from `GeneticAlgorithm`. For **local-search** based algorithm, the initial solution can be provided by setting `x0` instead of `sampling`."
   ]
  },
  {
   "cell_type": "markdown",
   "metadata": {},
   "source": [
    "## By Array"
   ]
  },
  {
   "cell_type": "code",
   "execution_count": 1,
   "metadata": {
    "code": "algorithms/usage_initial_array.py"
   },
   "outputs": [
    {
     "name": "stdout",
     "output_type": "stream",
     "text": [
      "============================================================\n",
      "n_gen |  n_eval |     igd      |      gd      |      hv     \n",
      "============================================================\n",
      "    1 |     300 |  3.443717746 |  3.762600615 |  0.00000E+00\n",
      "    2 |     400 |  3.443717746 |  3.762600615 |  0.00000E+00\n",
      "    3 |     500 |  3.057516701 |  3.487110743 |  0.00000E+00\n",
      "    4 |     600 |  3.057516701 |  3.476768263 |  0.00000E+00\n",
      "    5 |     700 |  2.808102713 |  3.523349529 |  0.00000E+00\n",
      "    6 |     800 |  2.808102713 |  3.435702647 |  0.00000E+00\n",
      "    7 |     900 |  2.773508196 |  3.150769607 |  0.00000E+00\n",
      "    8 |    1000 |  2.664893558 |  3.113141731 |  0.00000E+00\n",
      "    9 |    1100 |  2.439983478 |  2.747830079 |  0.00000E+00\n",
      "   10 |    1200 |  2.178822629 |  2.646700739 |  0.00000E+00\n"
     ]
    },
    {
     "data": {
      "text/plain": [
       "<pymoo.model.result.Result at 0x7f9a0306ebd0>"
      ]
     },
     "execution_count": 1,
     "metadata": {},
     "output_type": "execute_result"
    }
   ],
   "source": [
    "import numpy as np\n",
    "\n",
    "from pymoo.algorithms.nsga2 import NSGA2\n",
    "from pymoo.factory import get_problem\n",
    "from pymoo.optimize import minimize\n",
    "\n",
    "problem = get_problem(\"zdt2\")\n",
    "\n",
    "X = np.random.random((300, problem.n_var))\n",
    "\n",
    "algorithm = NSGA2(pop_size=100, sampling=X)\n",
    "\n",
    "minimize(problem,\n",
    "         algorithm,\n",
    "         ('n_gen', 10),\n",
    "         seed=1,\n",
    "         verbose=True)"
   ]
  },
  {
   "cell_type": "markdown",
   "metadata": {},
   "source": [
    "## By Population (pre-evaluated)"
   ]
  },
  {
   "cell_type": "code",
   "execution_count": 2,
   "metadata": {
    "code": "algorithms/usage_initial_pop.py"
   },
   "outputs": [
    {
     "name": "stdout",
     "output_type": "stream",
     "text": [
      "============================================================\n",
      "n_gen |  n_eval |     igd      |      gd      |      hv     \n",
      "============================================================\n",
      "    1 |       0 |  3.551348758 |  4.023384902 |  0.00000E+00\n",
      "    2 |     100 |  3.180370036 |  3.798751508 |  0.00000E+00\n",
      "    3 |     200 |  3.075825536 |  3.635062935 |  0.00000E+00\n",
      "    4 |     300 |  3.075825536 |  3.286647724 |  0.00000E+00\n",
      "    5 |     400 |  3.082726752 |  3.492707776 |  0.00000E+00\n",
      "    6 |     500 |  2.956522256 |  3.427147112 |  0.00000E+00\n",
      "    7 |     600 |  2.615557460 |  2.545342706 |  0.00000E+00\n",
      "    8 |     700 |  2.503068509 |  2.488037052 |  0.00000E+00\n"
     ]
    },
    {
     "name": "stdout",
     "output_type": "stream",
     "text": [
      "    9 |     800 |  2.413203659 |  2.467725613 |  0.00000E+00\n",
      "   10 |     900 |  2.174807207 |  2.043325832 |  0.00000E+00\n"
     ]
    },
    {
     "data": {
      "text/plain": [
       "<pymoo.model.result.Result at 0x7f9a034ce950>"
      ]
     },
     "execution_count": 2,
     "metadata": {},
     "output_type": "execute_result"
    }
   ],
   "source": [
    "import numpy as np\n",
    "\n",
    "from pymoo.algorithms.nsga2 import NSGA2\n",
    "from pymoo.factory import get_problem\n",
    "from pymoo.model.evaluator import Evaluator\n",
    "from pymoo.model.population import Population\n",
    "from pymoo.optimize import minimize\n",
    "\n",
    "problem = get_problem(\"zdt2\")\n",
    "\n",
    "# create initial data and set to the population object\n",
    "X = np.random.random((300, problem.n_var))\n",
    "pop = Population.new(\"X\", X)\n",
    "Evaluator().eval(problem, pop)\n",
    "\n",
    "algorithm = NSGA2(pop_size=100, sampling=pop)\n",
    "\n",
    "minimize(problem,\n",
    "         algorithm,\n",
    "         ('n_gen', 10),\n",
    "         seed=1,\n",
    "         verbose=True)"
   ]
  }
 ],
 "metadata": {
  "kernelspec": {
   "display_name": "Python 3",
   "language": "python",
   "name": "python3"
  },
  "language_info": {
   "codemirror_mode": {
    "name": "ipython",
    "version": 3
   },
   "file_extension": ".py",
   "mimetype": "text/x-python",
   "name": "python",
   "nbconvert_exporter": "python",
   "pygments_lexer": "ipython3",
   "version": "3.7.4"
  }
 },
 "nbformat": 4,
 "nbformat_minor": 4
}
