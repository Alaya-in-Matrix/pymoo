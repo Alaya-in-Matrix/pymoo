{
 "cells": [
  {
   "cell_type": "raw",
   "metadata": {
    "raw_mimetype": "text/restructuredtext"
   },
   "source": [
    ".. _nb_crossover:"
   ]
  },
  {
   "cell_type": "markdown",
   "metadata": {},
   "source": [
    "## Crossover"
   ]
  },
  {
   "cell_type": "raw",
   "metadata": {
    "raw_mimetype": "text/restructuredtext"
   },
   "source": [
    ".. _nb_crossover_sbx:"
   ]
  },
  {
   "cell_type": "markdown",
   "metadata": {},
   "source": [
    "### Simulated Binary Crossover ('real_sbx')\n",
    "\n",
    "Details about the crossover can be found in <cite data-cite=\"sbx\"></cite>. Real values can be representated in a binary notation and then a the point crossovers can be performed. SBX simulated this operation by using a probability distribution *simulating* the binary crossover.\n",
    "\n",
    "A crossover object can be created by "
   ]
  },
  {
   "cell_type": "code",
   "execution_count": 21,
   "metadata": {},
   "outputs": [],
   "source": [
    "from pymoo.factory import get_crossover\n",
    "\n",
    "crossover = get_crossover(\"real_sbx\", prob=0.9, eta=20)"
   ]
  },
  {
   "cell_type": "markdown",
   "metadata": {},
   "source": [
    "As arguments the probability of a crossover and the *eta* parameter can be provided.\n",
    "\n",
    "In the example below we demonstrate a crossover in an optimization problem with only one variable. A crossover is performed between two points, *0.2* and *0.8*, and the resulting exponential distribution is visualized. Depending on the *eta_cross* the exponential distribution can be fine tuned.\n",
    "\n",
    "The distributoin for sbx is exponential. Please note for demonstration purpose, we have set *prob_per_variable=1.0* which means every variable participates in the crossover (necessary because here exists only one variable). However, it is suggested to perform a crossover of two variables form each parent with a probability of *0.5* which is defined by default if not defined otherwise."
   ]
  },
  {
   "cell_type": "code",
   "execution_count": 15,
   "metadata": {},
   "outputs": [
    {
     "data": {
      "image/png": "[encoded data removed]",
      "text/plain": [
       "<Figure size 432x288 with 1 Axes>"
      ]
     },
     "metadata": {},
     "output_type": "display_data"
    }
   ],
   "source": [
    "from pymoo.interface import crossover\n",
    "import numpy as np\n",
    "import matplotlib.pyplot as plt\n",
    "\n",
    "def show(eta_cross):\n",
    "    a,b = np.full((5000, 1), 0.2), np.full((5000, 1), 0.8)\n",
    "    off = crossover(get_crossover(\"real_sbx\", prob=1.0, eta=eta_cross, prob_per_variable=1.0), a, b)\n",
    "\n",
    "    plt.hist(off, range=(0,1), bins=200, density=True, color=\"red\")\n",
    "    plt.show()\n",
    "\n",
    "show(5)"
   ]
  },
  {
   "cell_type": "code",
   "execution_count": 16,
   "metadata": {},
   "outputs": [
    {
     "data": {
      "image/png": "[encoded data removed]",
      "text/plain": [
       "<Figure size 432x288 with 1 Axes>"
      ]
     },
     "metadata": {},
     "output_type": "display_data"
    }
   ],
   "source": [
    "show(30)"
   ]
  },
  {
   "cell_type": "raw",
   "metadata": {
    "raw_mimetype": "text/restructuredtext"
   },
   "source": [
    ".. _nb_crossover_point:"
   ]
  },
  {
   "cell_type": "markdown",
   "metadata": {},
   "source": [
    "### Point Crossover ('real_point', 'bin_point', 'int_point' )\n"
   ]
  },
  {
   "cell_type": "markdown",
   "metadata": {},
   "source": [
    "The point crossver is mostly applied to binary optimization problems. But in general in can be used for other variable represenations. \n",
    "\n",
    "The point crossover can be initiated by"
   ]
  },
  {
   "cell_type": "code",
   "execution_count": 26,
   "metadata": {},
   "outputs": [],
   "source": [
    "crossover = get_crossover(\"real_k_point\", n_points=2)"
   ]
  },
  {
   "cell_type": "markdown",
   "metadata": {},
   "source": [
    "For any number of points that are desired. Additionally, for the purpose of convience the \n",
    "single- or two point crossover are created by"
   ]
  },
  {
   "cell_type": "code",
   "execution_count": null,
   "metadata": {},
   "outputs": [],
   "source": [
    "get_crossover(\"real_one_point\")\n",
    "get_crossover(\"real_two_point\")"
   ]
  },
  {
   "cell_type": "markdown",
   "metadata": {},
   "source": [
    "directly. "
   ]
  },
  {
   "cell_type": "code",
   "execution_count": 22,
   "metadata": {},
   "outputs": [
    {
     "name": "stdout",
     "output_type": "stream",
     "text": [
      "One Point Crossover\n"
     ]
    },
    {
     "data": {
      "image/png": "[encoded data removed]",
      "text/plain": [
       "<Figure size 288x288 with 1 Axes>"
      ]
     },
     "metadata": {},
     "output_type": "display_data"
    },
    {
     "name": "stdout",
     "output_type": "stream",
     "text": [
      "Two Point Crossover\n"
     ]
    },
    {
     "data": {
      "image/png": "[encoded data removed]",
      "text/plain": [
       "<Figure size 288x288 with 1 Axes>"
      ]
     },
     "metadata": {},
     "output_type": "display_data"
    },
    {
     "name": "stdout",
     "output_type": "stream",
     "text": [
      "K Point Crossover (k=4)\n"
     ]
    },
    {
     "data": {
      "image/png": "[encoded data removed]",
      "text/plain": [
       "<Figure size 288x288 with 1 Axes>"
      ]
     },
     "metadata": {},
     "output_type": "display_data"
    }
   ],
   "source": [
    "from pymoo.interface import crossover\n",
    "from pymoo.factory import get_crossover\n",
    "import numpy as np\n",
    "import matplotlib.pyplot as plt\n",
    "\n",
    "def example_parents(n_matings, n_var):\n",
    "    a = np.arange(n_var)[None, :].repeat(n_matings, axis=0)\n",
    "    b = a + n_var\n",
    "    return a, b\n",
    "    \n",
    "\n",
    "def show(M):\n",
    "    plt.figure(figsize=(4,4))\n",
    "    plt.imshow(M, cmap='Greys',  interpolation='nearest')\n",
    "    plt.show()\n",
    "\n",
    "n_matings, n_var = 100, 100\n",
    "a,b = example_parents(n_matings,n_var)\n",
    "\n",
    "print(\"One Point Crossover\")\n",
    "off = crossover(get_crossover(\"bin_one_point\"), a, b)\n",
    "show((off[:n_matings] != a[0]))\n",
    "\n",
    "print(\"Two Point Crossover\")\n",
    "off = crossover(get_crossover(\"bin_two_point\"), a, b)\n",
    "show((off[:n_matings] != a[0]))\n",
    "\n",
    "print(\"K Point Crossover (k=4)\")\n",
    "off = crossover(get_crossover(\"bin_k_point\", n_points=4), a, b)\n",
    "show((off[:n_matings] != a[0]))"
   ]
  },
  {
   "cell_type": "raw",
   "metadata": {
    "raw_mimetype": "text/restructuredtext"
   },
   "source": [
    ".. _nb_crossover_uniform:"
   ]
  },
  {
   "cell_type": "markdown",
   "metadata": {},
   "source": [
    "### Uniform Crossover ('real_ux', 'bin_ux', 'int_ux')\n"
   ]
  },
  {
   "cell_type": "markdown",
   "metadata": {},
   "source": [
    "The uniform crossover takes with a probability of 0.5 the values from each parent. \n",
    "In contrast to a point crossover not a squence of variables is taken, but random indices."
   ]
  },
  {
   "cell_type": "code",
   "execution_count": 6,
   "metadata": {},
   "outputs": [
    {
     "data": {
      "image/png": "[encoded data removed]",
      "text/plain": [
       "<Figure size 288x288 with 1 Axes>"
      ]
     },
     "metadata": {},
     "output_type": "display_data"
    }
   ],
   "source": [
    "off = crossover(get_crossover(\"bin_ux\"), a, b)\n",
    "show((off[:n_matings] != a[0]))"
   ]
  },
  {
   "cell_type": "raw",
   "metadata": {
    "raw_mimetype": "text/restructuredtext"
   },
   "source": [
    ".. _nb_crossover_half_uniform:"
   ]
  },
  {
   "cell_type": "markdown",
   "metadata": {},
   "source": [
    "### Half Uniform Crossover ('bin_hux', 'int_hux')\n"
   ]
  },
  {
   "cell_type": "markdown",
   "metadata": {},
   "source": [
    "The half uniform crossover will first find out what indices are different in first and the second parent. Then, it will take half of the difference to be selected from the other parent."
   ]
  },
  {
   "cell_type": "code",
   "execution_count": 5,
   "metadata": {},
   "outputs": [
    {
     "name": "stdout",
     "output_type": "stream",
     "text": [
      "Here, a and b are different for indices:  [ 5 15 25 35 45 55 65 75 85 95]\n"
     ]
    },
    {
     "data": {
      "image/png": "[encoded data removed]",
      "text/plain": [
       "<Figure size 288x288 with 1 Axes>"
      ]
     },
     "metadata": {},
     "output_type": "display_data"
    },
    {
     "name": "stdout",
     "output_type": "stream",
     "text": [
      "Difference in bits (a to b):  1000\n",
      "Difference in bits (a to off):  500\n",
      "Crossover Rate:  0.5\n"
     ]
    }
   ],
   "source": [
    "_a = np.full((100,100), False)\n",
    "_b = np.copy(_a)\n",
    "_b[:, np.linspace(5, 95, 10).astype(np.int)] = True\n",
    "\n",
    "print(\"Here, a and b are different for indices: \", np.where(_a[0] != _b[0])[0])\n",
    "\n",
    "off = crossover(get_crossover(\"bin_hux\"), _a, _b)\n",
    "show((off[:100] != _a[0]))\n",
    "\n",
    "diff_a_to_b = (_a != _b).sum()\n",
    "diff_a_to_off = (_a != off[:100]).sum()\n",
    "\n",
    "print(\"Difference in bits (a to b): \", diff_a_to_b)\n",
    "print(\"Difference in bits (a to off): \", diff_a_to_off)\n",
    "\n",
    "print(\"Crossover Rate: \", diff_a_to_off / diff_a_to_b)\n",
    "\n"
   ]
  },
  {
   "cell_type": "raw",
   "metadata": {
    "raw_mimetype": "text/restructuredtext"
   },
   "source": [
    ".. _nb_crossover_exponential:"
   ]
  },
  {
   "cell_type": "markdown",
   "metadata": {},
   "source": [
    "### Exponential Crossover ('real_exp', 'bin_exp', 'int_exp')\n"
   ]
  },
  {
   "cell_type": "markdown",
   "metadata": {},
   "source": [
    "The exponential crossover is mostly a one point crossover, but occasionally it can be a two point crossover. \n",
    "First, randomly a starting index is choosen. Then, we add the next variable to be mutated with a specific probility. If we reach the last variable, we continue with the first (wrap around)."
   ]
  },
  {
   "cell_type": "code",
   "execution_count": 6,
   "metadata": {},
   "outputs": [
    {
     "data": {
      "image/png": "[encoded data removed]",
      "text/plain": [
       "<Figure size 288x288 with 1 Axes>"
      ]
     },
     "metadata": {},
     "output_type": "display_data"
    }
   ],
   "source": [
    "off = crossover(get_crossover(\"real_exp\", prob=0.95), a, b)\n",
    "show((off[:n_matings] != a[0]))"
   ]
  },
  {
   "cell_type": "raw",
   "metadata": {
    "raw_mimetype": "text/restructuredtext"
   },
   "source": [
    ".. _nb_crossover_differential:"
   ]
  },
  {
   "cell_type": "markdown",
   "metadata": {},
   "source": [
    "### Differential Crossover ('real_de')\n"
   ]
  },
  {
   "cell_type": "markdown",
   "metadata": {},
   "source": [
    "The differential crossover is used in the [differential evolution algorithm](/algorithms/differential_evolution.html#nb-de). It adds the differents of two individuals to another one.\n",
    "\n",
    "It can be initiated by"
   ]
  },
  {
   "cell_type": "code",
   "execution_count": 28,
   "metadata": {},
   "outputs": [],
   "source": [
    "crossover = get_crossover(\"real_de\")"
   ]
  },
  {
   "cell_type": "markdown",
   "metadata": {},
   "source": [
    "In the following the different creating of donor vectors is shown. The difference between $x_{\\pi_2} - x_{\\pi_3}$ is added with different weights $F \\in (0, 1)$ to $x_{\\pi_1}$. The resulting donor solution can be used for further evolutionary recombinations (for example DE uses it for another crossover)."
   ]
  },
  {
   "cell_type": "code",
   "execution_count": 5,
   "metadata": {},
   "outputs": [
    {
     "data": {
      "image/png": "[encoded data removed]",
      "text/plain": [
       "<Figure size 432x288 with 1 Axes>"
      ]
     },
     "metadata": {},
     "output_type": "display_data"
    }
   ],
   "source": [
    "from pymoo.factory import get_crossover\n",
    "from pymoo.interface import crossover\n",
    "import numpy as np\n",
    "import matplotlib.pyplot as plt\n",
    "\n",
    "c = np.array([[0.8, 0.2]])\n",
    "a = np.array([[0.4, 0.4]])\n",
    "b = np.array([[0.6, 0.5]])\n",
    "\n",
    "X = crossover(get_crossover(\"real_de\", weight=0.0, dither='vector'),\n",
    "              a.repeat(100, axis=0), b.repeat(100, axis=0), c.repeat(100, axis=0))\n",
    "\n",
    "plt.scatter(X[:, 0], X[:, 1], s=20,facecolors='none', edgecolors='r', label=\"v\")\n",
    "plt.scatter(a[:, 0], a[:, 1], label=\"$x_{\\pi_1}$\", marker=\"X\")\n",
    "plt.scatter(b[:, 0], b[:, 1], label=\"$x_{\\pi_2}$\", marker=\"X\")\n",
    "plt.scatter(c[:, 0], c[:, 1], label=\"$x_{\\pi_3}$\", marker=\"X\")\n",
    "\n",
    "plt.xlim(0, 1)\n",
    "plt.ylim(0, 1)\n",
    "plt.legend()\n",
    "plt.show()"
   ]
  },
  {
   "cell_type": "markdown",
   "metadata": {},
   "source": [
    "### API"
   ]
  },
  {
   "cell_type": "raw",
   "metadata": {
    "raw_mimetype": "text/restructuredtext"
   },
   "source": [
    ".. autofunction:: pymoo.factory.get_crossover\n",
    "    :noindex:\n",
    "\n",
    ".. autofunction:: pymoo.model.crossover.Crossover\n",
    "    :noindex:"
   ]
  }
 ],
 "metadata": {
  "celltoolbar": "Raw Cell Format",
  "kernelspec": {
   "display_name": "Python 3",
   "language": "python",
   "name": "python3"
  },
  "language_info": {
   "codemirror_mode": {
    "name": "ipython",
    "version": 3
   },
   "file_extension": ".py",
   "mimetype": "text/x-python",
   "name": "python",
   "nbconvert_exporter": "python",
   "pygments_lexer": "ipython3",
   "version": "3.6.5"
  }
 },
 "nbformat": 4,
 "nbformat_minor": 2
}
