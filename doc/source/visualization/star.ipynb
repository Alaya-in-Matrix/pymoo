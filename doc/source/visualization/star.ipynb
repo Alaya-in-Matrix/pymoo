{
 "cells": [
  {
   "cell_type": "raw",
   "metadata": {
    "raw_mimetype": "text/restructuredtext"
   },
   "source": [
    ".. _nb_star:"
   ]
  },
  {
   "cell_type": "markdown",
   "metadata": {},
   "source": [
    "## Star Coordinate Plot\n"
   ]
  },
  {
   "cell_type": "markdown",
   "metadata": {},
   "source": [
    "Star Coordinate Plot maps a higher dimensional space with a non-linear function to two dimensions. Compared to Radviz points can be outside of the circle.\n",
    "\n",
    "Let us visualize some test data:"
   ]
  },
  {
   "cell_type": "code",
   "execution_count": 1,
   "metadata": {
    "code": "visualization/usage_star.py",
    "section": "load_data"
   },
   "outputs": [],
   "source": [
    "from pymoo.factory import get_problem, get_reference_directions\n",
    "\n",
    "ref_dirs = get_reference_directions(\"uniform\", 6, n_partitions=5)\n",
    "F = get_problem(\"dtlz1\").pareto_front(ref_dirs)"
   ]
  },
  {
   "cell_type": "markdown",
   "metadata": {},
   "source": [
    "A simple Star Coordinate Plot plot with points can be created by:"
   ]
  },
  {
   "cell_type": "code",
   "execution_count": 2,
   "metadata": {
    "code": "visualization/usage_star.py",
    "section": "star"
   },
   "outputs": [],
   "source": [
    "from pymoo.visualization.star_coordinate import StarCoordinate\n",
    "\n",
    "StarCoordinate().add(F).show()"
   ]
  },
  {
   "cell_type": "raw",
   "metadata": {},
   "source": [
    "The plot can be further customized by supplying a title, labels, and by using the plotting directives from matplotlib. "
   ]
  },
  {
   "cell_type": "code",
   "execution_count": 3,
   "metadata": {
    "code": "visualization/usage_star.py",
    "section": "star_custom"
   },
   "outputs": [],
   "source": [
    "plot = StarCoordinate(title=\"Optimization\",\n",
    "                      legend=(True, {'loc': \"upper left\", 'bbox_to_anchor': (-0.1, 1.08, 0, 0)}),\n",
    "                      labels=[\"profit\", \"cost\", \"sustainability\", \"environment\", \"satisfaction\", \"time\"],\n",
    "                      axis_style={\"color\": \"blue\", 'alpha': 0.7},\n",
    "                      arrow_style={\"head_length\": 0.015, \"head_width\": 0.03})\n",
    "plot.add(F, color=\"grey\", s=20)\n",
    "plot.add(F[65], color=\"red\", s=70, label=\"Solution A\")\n",
    "plot.add(F[72], color=\"green\", s=70, label=\"Solution B\")\n",
    "plot.show()"
   ]
  },
  {
   "cell_type": "markdown",
   "metadata": {},
   "source": [
    "### API"
   ]
  },
  {
   "cell_type": "raw",
   "metadata": {
    "raw_mimetype": "text/restructuredtext"
   },
   "source": [
    ".. autoclass:: pymoo.visualization.star_coordinate.StarCoordinate\n",
    "    :noindex:"
   ]
  }
 ],
 "metadata": {
  "kernelspec": {
   "display_name": "Python 3",
   "language": "python",
   "name": "python3"
  },
  "language_info": {
   "codemirror_mode": {
    "name": "ipython",
    "version": 3
   },
   "file_extension": ".py",
   "mimetype": "text/x-python",
   "name": "python",
   "nbconvert_exporter": "python",
   "pygments_lexer": "ipython3",
   "version": "3.7.4"
  }
 },
 "nbformat": 4,
 "nbformat_minor": 4
}
