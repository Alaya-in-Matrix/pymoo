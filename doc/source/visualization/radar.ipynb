{
 "cells": [
  {
   "cell_type": "raw",
   "metadata": {
    "raw_mimetype": "text/restructuredtext"
   },
   "source": [
    ".. _nb_radar:"
   ]
  },
  {
   "cell_type": "markdown",
   "metadata": {},
   "source": [
    "## Radar Plot\n",
    "\n"
   ]
  },
  {
   "cell_type": "markdown",
   "metadata": {},
   "source": [
    "Let us produce some data first:"
   ]
  },
  {
   "cell_type": "code",
   "execution_count": 1,
   "metadata": {
    "code": "visualization/usage_radar.py",
    "section": "load_data"
   },
   "outputs": [
    {
     "name": "stdout",
     "output_type": "stream",
     "text": [
      "[[0.53555853 0.66651826 0.41817855 0.50866208 0.76971022]]\n"
     ]
    }
   ],
   "source": [
    "import numpy as np\n",
    "\n",
    "np.random.seed(3)\n",
    "\n",
    "ideal_point = np.array([0.15, 0.1, 0.2, 0.1, 0.1])\n",
    "nadir_point = np.array([0.85, 0.9, 0.95, 0.9, 0.85])\n",
    "\n",
    "F = np.random.random((1, 5)) * (nadir_point - ideal_point) + ideal_point\n",
    "print(F)"
   ]
  },
  {
   "cell_type": "markdown",
   "metadata": {},
   "source": [
    "If the values should not be normalized, then we can plot the ideal and nadir point in addition.\n",
    "This keeps the absolute values of each objective. The outer shape represents the nadir point, the inner area the ideal point. All points will lie in the area spanned by those two points."
   ]
  },
  {
   "cell_type": "code",
   "execution_count": 2,
   "metadata": {
    "code": "visualization/usage_radar.py",
    "section": "radar"
   },
   "outputs": [],
   "source": [
    "from pymoo.visualization.radar import Radar\n",
    "\n",
    "plot = Radar(bounds=[ideal_point, nadir_point], normalize_each_objective=False)\n",
    "plot.add(F)\n",
    "plot.show()"
   ]
  },
  {
   "cell_type": "markdown",
   "metadata": {},
   "source": [
    "But if the scale of the objective is too different, then normalization is recommended. Then, the ideal point is just the point in the middle and the nadir point is now symmetric."
   ]
  },
  {
   "cell_type": "code",
   "execution_count": 3,
   "metadata": {
    "code": "visualization/usage_radar.py",
    "section": "radar_norm"
   },
   "outputs": [],
   "source": [
    "plot = Radar(bounds=[ideal_point, nadir_point])\n",
    "plot.add(F)\n",
    "plot.show()"
   ]
  },
  {
   "cell_type": "code",
   "execution_count": 4,
   "metadata": {
    "code": "visualization/usage_radar.py",
    "section": "radar_custom"
   },
   "outputs": [],
   "source": [
    "F = np.random.random((6, 5)) * (nadir_point - ideal_point) + ideal_point\n",
    "\n",
    "plot = Radar(bounds=[ideal_point, nadir_point],\n",
    "             axis_style={\"color\": 'blue'},\n",
    "             point_style={\"color\": 'red', 's': 30})\n",
    "plot.add(F[:3], color=\"red\", alpha=0.8)\n",
    "plot.add(F[3:], color=\"green\", alpha=0.8)\n",
    "plot.show()"
   ]
  },
  {
   "cell_type": "markdown",
   "metadata": {},
   "source": [
    "### API"
   ]
  },
  {
   "cell_type": "raw",
   "metadata": {
    "raw_mimetype": "text/restructuredtext"
   },
   "source": [
    ".. autoclass:: pymoo.visualization.radar.Radar\n",
    "    :noindex:"
   ]
  }
 ],
 "metadata": {
  "kernelspec": {
   "display_name": "Python 3",
   "language": "python",
   "name": "python3"
  },
  "language_info": {
   "codemirror_mode": {
    "name": "ipython",
    "version": 3
   },
   "file_extension": ".py",
   "mimetype": "text/x-python",
   "name": "python",
   "nbconvert_exporter": "python",
   "pygments_lexer": "ipython3",
   "version": "3.7.4"
  }
 },
 "nbformat": 4,
 "nbformat_minor": 4
}
