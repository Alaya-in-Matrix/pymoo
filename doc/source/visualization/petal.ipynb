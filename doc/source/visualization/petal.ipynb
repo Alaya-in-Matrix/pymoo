{
 "cells": [
  {
   "cell_type": "raw",
   "metadata": {
    "raw_mimetype": "text/restructuredtext"
   },
   "source": [
    ".. _nb_petal:"
   ]
  },
  {
   "cell_type": "markdown",
   "metadata": {},
   "source": [
    "## Petal Diagram\n"
   ]
  },
  {
   "cell_type": "markdown",
   "metadata": {},
   "source": [
    "Also, it might be interesting to compare one solution with another. Here, a visual a single solution regarding its trade-offs.\n",
    "\n",
    "Let us visualize some test data:"
   ]
  },
  {
   "cell_type": "code",
   "execution_count": 1,
   "metadata": {
    "code": "visualization/usage_petal.py",
    "section": "load_data"
   },
   "outputs": [
    {
     "name": "stdout",
     "output_type": "stream",
     "text": [
      "[[0.19151945 0.62210877 0.43772774 0.78535858 0.77997581 0.27259261]]\n"
     ]
    }
   ],
   "source": [
    "import numpy as np\n",
    "\n",
    "np.random.seed(1234)\n",
    "F = np.random.random((1, 6))\n",
    "print(F)"
   ]
  },
  {
   "cell_type": "markdown",
   "metadata": {},
   "source": [
    "A simple Petal Width can be created by:"
   ]
  },
  {
   "cell_type": "code",
   "execution_count": 2,
   "metadata": {
    "code": "visualization/usage_petal.py",
    "section": "petal_width"
   },
   "outputs": [],
   "source": [
    "from pymoo.visualization.petal import Petal\n",
    "\n",
    "Petal(bounds=[0, 1]).add(F).show()"
   ]
  },
  {
   "cell_type": "markdown",
   "metadata": {},
   "source": [
    "If you prefer to visualize smaller values with a larger area, set reverse to true:"
   ]
  },
  {
   "cell_type": "code",
   "execution_count": 3,
   "metadata": {
    "code": "visualization/usage_petal.py",
    "section": "petal_width_reverse"
   },
   "outputs": [],
   "source": [
    "Petal(bounds=[0, 1], reverse=True).add(F).show()"
   ]
  },
  {
   "cell_type": "code",
   "execution_count": 4,
   "metadata": {
    "code": "visualization/usage_petal.py",
    "section": "petal_width_custom"
   },
   "outputs": [],
   "source": [
    "plot = Petal(bounds=[0, 1],\n",
    "             cmap=\"tab20\",\n",
    "             labels=[\"profit\", \"cost\", \"sustainability\", \"environment\", \"satisfaction\", \"time\"],\n",
    "             title=(\"Solution A\", {'pad': 20}))\n",
    "plot.add(F)\n",
    "plot.show()"
   ]
  },
  {
   "cell_type": "markdown",
   "metadata": {},
   "source": [
    "Each add will plot solutions in a row. Each entry represents a column.\n",
    "Easily, different solutions can be compared."
   ]
  },
  {
   "cell_type": "code",
   "execution_count": 5,
   "metadata": {
    "code": "visualization/usage_petal.py",
    "section": "petal_width_multiple"
   },
   "outputs": [],
   "source": [
    "F = np.random.random((6, 6))\n",
    "plot = Petal(bounds=[0, 1], title=[\"Solution %s\" % t for t in [\"A\", \"B\", \"C\", \"D\", \"E\", \"F\"]])\n",
    "plot.add(F[:3])\n",
    "plot.add(F[3:])\n",
    "plot.show()"
   ]
  },
  {
   "cell_type": "markdown",
   "metadata": {},
   "source": [
    "### API"
   ]
  },
  {
   "cell_type": "raw",
   "metadata": {
    "raw_mimetype": "text/restructuredtext"
   },
   "source": [
    ".. autoclass:: pymoo.visualization.petal.Petal\n",
    "    :noindex:"
   ]
  }
 ],
 "metadata": {
  "kernelspec": {
   "display_name": "Python 3",
   "language": "python",
   "name": "python3"
  },
  "language_info": {
   "codemirror_mode": {
    "name": "ipython",
    "version": 3
   },
   "file_extension": ".py",
   "mimetype": "text/x-python",
   "name": "python",
   "nbconvert_exporter": "python",
   "pygments_lexer": "ipython3",
   "version": "3.7.4"
  }
 },
 "nbformat": 4,
 "nbformat_minor": 4
}
