{
 "cells": [
  {
   "cell_type": "raw",
   "metadata": {
    "raw_mimetype": "text/restructuredtext"
   },
   "source": [
    ".. _nb_video:"
   ]
  },
  {
   "cell_type": "markdown",
   "metadata": {},
   "source": [
    "## Video"
   ]
  },
  {
   "cell_type": "markdown",
   "metadata": {},
   "source": [
    "Images are great, but since optimization happens over time video are able to capture the optimization process itself often in a better way.\n",
    "In `pymoo` we offer a wrapper around `matplotlib` to combine heterogeneous plots and and put them together in a video (a different way than the animation package does it). This is, however, more computationally expensive, but makes recording very simple."
   ]
  },
  {
   "cell_type": "markdown",
   "metadata": {},
   "source": [
    "For instance, let us record a very short video with only three frames (randomly created scatter plots):"
   ]
  },
  {
   "cell_type": "code",
   "execution_count": 1,
   "metadata": {
    "code": "visualization/usage_video.py",
    "section": "example"
   },
   "outputs": [],
   "source": [
    "import numpy as np\n",
    "\n",
    "from pymoo.algorithms.nsga2 import NSGA2\n",
    "from pymoo.visualization.scatter import Scatter\n",
    "from pymoo.visualization.video import Video\n",
    "\n",
    "vid = Video(\"example.mp4\")\n",
    "\n",
    "for k in range(10):\n",
    "    X = np.random.random((100, 2))\n",
    "    Scatter(title=str(k)).add(X).do()\n",
    "    vid.snap(duration=1)\n",
    "\n",
    "vid.close()"
   ]
  },
  {
   "cell_type": "markdown",
   "metadata": {},
   "source": [
    "Or recording a video after the run has finished:"
   ]
  },
  {
   "cell_type": "code",
   "execution_count": 2,
   "metadata": {
    "code": "visualization/usage_video.py",
    "section": "ga"
   },
   "outputs": [],
   "source": [
    "from pymoo.factory import get_problem\n",
    "from pymoo.optimize import minimize\n",
    "\n",
    "problem = get_problem(\"zdt1\")\n",
    "\n",
    "algorithm = NSGA2(pop_size=100, eliminate_duplicates=True)\n",
    "\n",
    "ret = minimize(problem,\n",
    "               algorithm,\n",
    "               termination=('n_gen', 100),\n",
    "               seed=1,\n",
    "               save_history=True,\n",
    "               verbose=False)\n",
    "\n",
    "\n",
    "def my_plot(algorithm):\n",
    "    Scatter(title=(\"Gen %s\" % algorithm.n_gen)).add(algorithm.pop.get(\"F\")).do()\n",
    "\n",
    "Video.from_iteratable(\"ga.mp4\", ret.history, my_plot)"
   ]
  },
  {
   "cell_type": "markdown",
   "metadata": {},
   "source": [
    "To stream the the current algorithm state directly to the screen the callback directive can be used to initiate a video by `Video(live=True)`:"
   ]
  },
  {
   "cell_type": "code",
   "execution_count": 3,
   "metadata": {
    "code": "visualization/usage_stream.py"
   },
   "outputs": [],
   "source": [
    "from pymoo.algorithms.so_genetic_algorithm import GA\n",
    "from pymoo.factory import get_problem\n",
    "from pymoo.model.callback import Callback\n",
    "from pymoo.optimize import minimize\n",
    "from pymoo.visualization.pcp import PCP\n",
    "from pymoo.visualization.video import Video\n",
    "\n",
    "\n",
    "class MyCallback(Callback):\n",
    "\n",
    "    def __init__(self) -> None:\n",
    "        super().__init__()\n",
    "        self.video = Video(live=True)\n",
    "\n",
    "    def notify(self, algorithm):\n",
    "        problem = algorithm.problem\n",
    "\n",
    "        pcp = PCP(title=(\"Gen %s\" % algorithm.n_gen, {'pad': 30}),\n",
    "                  bounds=(problem.xl, problem.xu),\n",
    "                  labels=[\"$x_%s$\" % k for k in range(problem.n_var)]\n",
    "                  )\n",
    "        pcp.set_axis_style(color=\"grey\", alpha=0.5)\n",
    "\n",
    "        pcp.add(algorithm.pop.get(\"X\"), color=\"black\", alpha=0.8, linewidth=1.5)\n",
    "        if algorithm.off is not None:\n",
    "            pcp.add(algorithm.off.get(\"X\"), color=\"blue\", alpha=0.8, linewidth=0.5)\n",
    "        pcp.add(algorithm.opt.get(\"X\"), color=\"red\", linewidth=4)\n",
    "        pcp.do()\n",
    "\n",
    "        self.video.snap()\n",
    "\n",
    "\n",
    "problem = get_problem(\"rastrigin\", n_var=10)\n",
    "\n",
    "algorithm = GA(pop_size=50, eliminate_duplicates=True, callback=MyCallback())\n",
    "\n",
    "ret = minimize(problem,\n",
    "               algorithm,\n",
    "               termination=('n_gen', 50),\n",
    "               seed=1,\n",
    "               verbose=False)\n"
   ]
  },
  {
   "cell_type": "markdown",
   "metadata": {},
   "source": [
    "### API"
   ]
  },
  {
   "cell_type": "raw",
   "metadata": {
    "raw_mimetype": "text/restructuredtext"
   },
   "source": [
    ".. autoclass:: pymoo.visualization.video.Video\n",
    "    :noindex:"
   ]
  }
 ],
 "metadata": {
  "kernelspec": {
   "display_name": "Python 3",
   "language": "python",
   "name": "python3"
  },
  "language_info": {
   "codemirror_mode": {
    "name": "ipython",
    "version": 3
   },
   "file_extension": ".py",
   "mimetype": "text/x-python",
   "name": "python",
   "nbconvert_exporter": "python",
   "pygments_lexer": "ipython3",
   "version": "3.7.4"
  }
 },
 "nbformat": 4,
 "nbformat_minor": 4
}
