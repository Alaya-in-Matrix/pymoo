{
 "cells": [
  {
   "cell_type": "markdown",
   "metadata": {},
   "source": [
    ".. meta::\n",
    "   :description: A guide which introduces the most important steps to get started with pymoo, an open-source multi-objective optimization framework in Python."
   ]
  },
  {
   "cell_type": "markdown",
   "metadata": {},
   "source": [
    ".. meta::\n",
    "   :keywords: Multi-objective Optimization, Python, Evolutionary Computation, Optimization Test Problem, Hypervolume"
   ]
  },
  {
   "cell_type": "raw",
   "metadata": {
    "raw_mimetype": "text/restructuredtext"
   },
   "source": [
    ".. _nb_getting_started:"
   ]
  },
  {
   "cell_type": "markdown",
   "metadata": {},
   "source": [
    "# Getting Started"
   ]
  },
  {
   "cell_type": "raw",
   "metadata": {
    "raw_mimetype": "text/restructuredtext"
   },
   "source": [
    ".. toctree::\n",
    "   :maxdepth: 1\n",
    "   :hidden:\n",
    "\n",
    "   preface.ipynb\n",
    "   part_1.ipynb\n",
    "   part_2.ipynb\n",
    "   part_3.ipynb\n",
    "   part_4.ipynb\n",
    "   part_5.ipynb\n",
    "   source_code.ipynb\n",
    "   "
   ]
  },
  {
   "cell_type": "markdown",
   "metadata": {},
   "source": [
    "Learning a new framework, in general, can be rather challenging. \n",
    "Thus, this getting started guide aims to make the first steps with **pymoo** as simple as possible by demonstrating its capabilities on an example. This guide covers the essential steps when starting with multi-objective optimization and shall helpful to solve your own optimization problems. \n",
    "Some basic understanding of optimization and knowledge of Python and NumPy are being expected to be able to follow.\n",
    "\n",
    "This guide is structured as follows:"
   ]
  },
  {
   "cell_type": "raw",
   "metadata": {
    "raw_mimetype": "text/restructuredtext"
   },
   "source": [
    ".. admonition:: Overview\n",
    "    :class: myOwnStyle\n",
    "\n",
    "    - `Preface <preface.ipynb>`_: Basics and Challenges\n",
    "    - `Part I <part_1.ipynb>`_: A Constrained Bi-objective Optimization Problem\n",
    "    - `Part II <part_2.ipynb>`_: Find a Solution Set using Multi-objective Optimization\n",
    "    - `Part III <part_3.ipynb>`_: Decision Making\n",
    "    - `Part IV <part_4.ipynb>`_: Analysis of Convergence\n",
    "    - `Part V <part_5.ipynb>`_: Some more useful Information"
   ]
  },
  {
   "cell_type": "markdown",
   "metadata": {},
   "source": [
    "### Citation"
   ]
  },
  {
   "cell_type": "markdown",
   "metadata": {},
   "source": [
    "If you have used **pymoo** for research purposes please refer to our framework in your reports or publication by:"
   ]
  },
  {
   "cell_type": "raw",
   "metadata": {
    "raw_mimetype": "text/restructuredtext"
   },
   "source": [
    "::\n",
    "\n",
    "    @ARTICLE{pymoo,\n",
    "        author={J. {Blank} and K. {Deb}},\n",
    "        journal={IEEE Access},\n",
    "        title={Pymoo: Multi-Objective Optimization in Python},\n",
    "        year={2020},\n",
    "        volume={8},\n",
    "        number={},\n",
    "        pages={89497-89509},\n",
    "    }\n"
   ]
  }
 ],
 "metadata": {
  "kernelspec": {
   "display_name": "Python 3",
   "language": "python",
   "name": "python3"
  },
  "language_info": {
   "codemirror_mode": {
    "name": "ipython",
    "version": 3
   },
   "file_extension": ".py",
   "mimetype": "text/x-python",
   "name": "python",
   "nbconvert_exporter": "python",
   "pygments_lexer": "ipython3",
   "version": "3.7.3"
  }
 },
 "nbformat": 4,
 "nbformat_minor": 4
}
