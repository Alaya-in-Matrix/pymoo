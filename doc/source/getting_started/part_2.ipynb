{
 "cells": [
  {
   "cell_type": "markdown",
   "metadata": {},
   "source": [
    ".. meta::\n",
    "   :description: A guide which introduces the most important steps to get started with pymoo, an open-source multi-objective optimization framework in Python."
   ]
  },
  {
   "cell_type": "markdown",
   "metadata": {},
   "source": [
    ".. meta::\n",
    "   :keywords: Multi-objective Optimization, Python, Evolutionary Computation, Optimization Test Problem, Hypervolume"
   ]
  },
  {
   "cell_type": "raw",
   "metadata": {
    "raw_mimetype": "text/restructuredtext"
   },
   "source": [
    ".. _nb_getting_started_part2:"
   ]
  },
  {
   "cell_type": "markdown",
   "metadata": {},
   "source": [
    "# Part II: Find a Solution Set using Multi-objective Optimization"
   ]
  },
  {
   "cell_type": "markdown",
   "metadata": {},
   "source": [
    "The constrained bi-objective problem from Part I was defined by"
   ]
  },
  {
   "cell_type": "markdown",
   "metadata": {},
   "source": [
    "\\begin{align} \n",
    "\\begin{split}\n",
    "\\min \\;\\; & f_1(x) = 100 \\, (x_1^2 + x_2^2) \\\\ \n",
    "\\max \\;\\; & f_2(x) = -(x_1-1)^2 - x_2^2 \\\\[1mm]\n",
    "\\text{s.t.} \\;\\; & g_1(x) = 2 \\, (x_1 - 0.1) \\, (x_1 - 0.9) \\leq 0\\\\ \n",
    "& g_2(x) = 20 \\, (x_1 - 0.4) \\, (x_1 - 0.6) \\geq 0\\\\[1mm] \n",
    "& -2 \\leq x_1 \\leq 2 \\\\\n",
    "& -2 \\leq x_2 \\leq 2\\\\[1mm] \n",
    "& x \\in \\mathbb{R}\n",
    "\\end{split}\n",
    "\\end{align}"
   ]
  },
  {
   "cell_type": "markdown",
   "metadata": {},
   "source": [
    "To implement the problem in **pymoo** some more work has to be done. "
   ]
  },
  {
   "cell_type": "raw",
   "metadata": {
    "raw_mimetype": "text/restructuredtext"
   },
   "source": [
    ".. admonition:: Problem Definition\n",
    "    :class: myOwnStyle\n",
    "\n",
    "    Most optimization frameworks commit to either minimize or maximize all objectives and to have only :math:`\\leq` or :math:`\\geq` constraints. In pymoo, each objective function is supposed to be **minimized**, and each constraint needs to be provided in the form of :math:`\\leq 0`."
   ]
  },
  {
   "cell_type": "markdown",
   "metadata": {},
   "source": [
    "Thus, we need to multiple an objective that is supposed to be maximized by $-1$ and minimize it. This results in minimizing $-f_2(x)$ instead of maximizing $f_2(x)$. \n",
    "\n",
    "Moreover, the inequality constraints need to be formulated as **less than zero**  ($\\leq 0$) constraint. \n",
    "For this reason, $g_2(x)$ is multiplied by $-1$ in order to flip inequality relation. \n",
    "Also, we recommend the normalization of constraints to make them operating on the same scale and giving them equal importance. For $g_1(x)$, the coefficient results in $2 \\cdot (-0.1) \\cdot (-0.9) = 0.18$ and for $g_2(x)$ in $20 \\cdot (-0.4) \\cdot (-0.6) = 4.8$, respectively. We achieve normalization of constraints by dividing $g_1(x)$ and $g_2(x)$ by its corresponding coefficient."
   ]
  },
  {
   "cell_type": "markdown",
   "metadata": {},
   "source": [
    "After these reformulations the problem to be implemented is given by:\n",
    "\n",
    "\\begin{align} \n",
    "\\label{eq:getting_started_pymoo}\n",
    "\\begin{split}\n",
    "\\min \\;\\; & f_1(x) = 100 \\, (x_1^2 + x_2^2) \\\\ \n",
    "\\min \\;\\; & f_2(x) = (x_1-1)^2 + x_2^2 \\\\[1mm] \n",
    "\\text{s.t.} \\;\\; & g_1(x) = 2 \\, (x_1 - 0.1) \\, (x_1 - 0.9)  \\, /  \\,  0.18 \\leq 0\\\\ \n",
    "& g_2(x) = - 20 \\, (x_1 - 0.4) \\, (x_1 - 0.6) \\,  /  \\,  4.8 \\leq 0\\\\[1mm] \n",
    "& -2 \\leq x_1 \\leq 2 \\\\\n",
    "& -2 \\leq x_2 \\leq 2\\\\[1mm] \n",
    "& x \\in \\mathbb{R}\n",
    "\\end{split}\n",
    "\\end{align}\n",
    "\n"
   ]
  },
  {
   "cell_type": "markdown",
   "metadata": {},
   "source": [
    "## Implement the Problem"
   ]
  },
  {
   "cell_type": "markdown",
   "metadata": {},
   "source": [
    "After having formulated the problem the right way, we can start implementing it. In this tutorial we the element-wise problem definition, which is one out of three different ways for implementing a problem. We define a new Python objective inheriting from `ElementwiseProblem` and set the correct attributes, such as the number of objectives (`n_obj`) and constraints (`n_constr`) and the lower (`xl`) and upper bounds (`xu`). The function being responsible for the evaluation is `_evaluate` which shall be implemented next. The function's interface is the parameters `x` and `out`. For this element-wise implementation `x` is a **one**-dimensional NumPy array of length `n_var` which represents a single solution to be evaluated. The output is supposed to be written to the dictionary `out`. The objective values should be written to `out[\"F\"]` as a list of NumPy array with length of `n_obj` and the constraints to `out[\"G\"]` with length of `n_constr` (if the problem has constraints to be satisfied at all)."
   ]
  },
  {
   "cell_type": "code",
   "execution_count": null,
   "metadata": {},
   "outputs": [],
   "source": [
    "import numpy as np\n",
    "from pymoo.model.problem import ElementwiseProblem\n",
    "\n",
    "class MyProblem(ElementwiseProblem):\n",
    "\n",
    "    def __init__(self):\n",
    "        super().__init__(n_var=2, \n",
    "                         n_obj=2, \n",
    "                         n_constr=2, \n",
    "                         xl=np.array([-2,-2]), \n",
    "                         xu=np.array([2,2]))\n",
    "\n",
    "    def _evaluate(self, x, out, *args, **kwargs):\n",
    "        f1 = 100 * (x[0]**2 + x[1]**2)\n",
    "        f2 = (x[0]-1)**2 + x[1]**2\n",
    "        \n",
    "        g1 = 2*(x[0]-0.1) * (x[0]-0.9) / 0.18\n",
    "        g2 = - 20*(x[0]-0.4) * (x[0]-0.6) / 4.8\n",
    "        \n",
    "        out[\"F\"] = [f1, f2]\n",
    "        out[\"G\"] = [g1, g2]\n",
    "        \n",
    "\n",
    "problem = MyProblem()"
   ]
  },
  {
   "cell_type": "raw",
   "metadata": {
    "raw_mimetype": "text/restructuredtext"
   },
   "source": [
    ".. tip::\n",
    "    A problem can be defined in a couple of different ways. Above, the implementation of an **element-wise** implementation is demonstrated, which means the `_evaluate` is called for each solution `x` at a time. Other ways of implementing a problem are **vectorized**, where `x` represents a whole set of solutions or a **functional** and probably more pythonic way by providing for each objective and constraint as a function. For more details, please have a look at the Problem tutorial."
   ]
  },
  {
   "cell_type": "markdown",
   "metadata": {},
   "source": [
    "If you use **pymoo** as a researcher trying to improve existing algorithms, you might want to have a look at the varierity of single- and many-objective optimization test problems already implemented. "
   ]
  },
  {
   "cell_type": "markdown",
   "metadata": {},
   "source": [
    "[Optimization Test Problems](../problems/index.ipynb) | \n",
    "[Define a Custom Problem](../problems/definition.ipynb) | \n",
    "[Parallelization](../problems/parallelization.ipynb) |\n",
    "[Callback](../interface/callback.ipynb) |\n",
    "[Constraint Handling](../misc/constraint_handling.ipynb)"
   ]
  },
  {
   "cell_type": "markdown",
   "metadata": {},
   "source": [
    "## Initialize an Algorithm"
   ]
  },
  {
   "cell_type": "markdown",
   "metadata": {},
   "source": [
    "The reason why you became aware of this framework, is probably the existence of an algorithm you like to use. \n",
    "*pymoo* follows an object oriented approach and, thus, we have to define an algorithm object next. \n",
    "Depending on the optimization problem, different algorithms will perform better or worse on different kind of problems. It is recommendable to first understand the intuition behind an algorithm and then select one which seems to be most suitable for solving your optimization problem. A list of algorithms which are available in *pymoo* is available [here](../algorithms/index.ipynb)."
   ]
  },
  {
   "cell_type": "markdown",
   "metadata": {},
   "source": [
    "In our case, the optimization problem is rather simple, but the aspect of having two objectives and two constraints should be considered. Thus, let us select the well-known multi-objective algorithm [NSGA-II](../algorithms/nsga2.ipynb). \n",
    "For the majority of algorithms you could either choose the default hyper-parameters or create your own version of the algorithm by modifying them.\n",
    "For instance, for this relatively simple problem we choose a population size of 40 (`pop_size=40`) and with only 10 (`n_offsprings=10`) in each generation. \n",
    "Such an implementation is a greedier variant and improves the convergence of simpler optimization problems without major difficulties regarding optimization, such as the existence of local Pareto-fronts.\n",
    "Moreover, we enable a duplicate check (`eliminate_duplicates=True`), making sure that the mating produces offsprings that are different from themselves and the existing population regarding their design space values. "
   ]
  },
  {
   "cell_type": "code",
   "execution_count": 3,
   "metadata": {},
   "outputs": [],
   "source": [
    "from pymoo.algorithms.moo.nsga2 import NSGA2\n",
    "from pymoo.factory import get_sampling, get_crossover, get_mutation\n",
    "\n",
    "algorithm = NSGA2(\n",
    "    pop_size=40,\n",
    "    n_offsprings=10,\n",
    "    sampling=get_sampling(\"real_random\"),\n",
    "    crossover=get_crossover(\"real_sbx\", prob=0.9, eta=15),\n",
    "    mutation=get_mutation(\"real_pm\", eta=20),\n",
    "    eliminate_duplicates=True\n",
    ")\n"
   ]
  },
  {
   "cell_type": "markdown",
   "metadata": {},
   "source": [
    "The `algorithm` object contains an implementation of NSGA-II with the custom configuration discussed above. The object can now be used to start an optimization run."
   ]
  },
  {
   "cell_type": "raw",
   "metadata": {
    "raw_mimetype": "text/restructuredtext"
   },
   "source": [
    ".. tip::\n",
    "    The documentation is designed to make it easy to get started and to copy code for each of the algorithms. However, please be aware that each algorithm comes with all kinds of hyper-parameters to be considered. If an algorithm turns out not to show a good convergence behavior, we encourage you to try different algorithm configurations. For instance, for population-based approaches the population size and number of offsprings, as well as the parameters used for recombination operators are a good starting point."
   ]
  },
  {
   "cell_type": "markdown",
   "metadata": {},
   "source": [
    "## Define a Termination Criterion\n",
    "\n",
    "Furthermore, a termination criterion needs to be defined to start the optimization procedure. Most common ways of defining the termination is by limiting the overall number of function evaluations or simply the number of iterations of the algorithm.\n",
    "Moreover, some algorithms already have implemented their own, for instance Nelder-Mead when the simplex becomes degenerated or CMA-ES where a vendor library is used. \n",
    "Because of the simplicity of this problem we use a rather small number of 40 iteration of the algorithm. "
   ]
  },
  {
   "cell_type": "code",
   "execution_count": 4,
   "metadata": {},
   "outputs": [],
   "source": [
    "from pymoo.factory import get_termination\n",
    "\n",
    "termination = get_termination(\"n_gen\", 40)"
   ]
  },
  {
   "cell_type": "markdown",
   "metadata": {},
   "source": [
    ".. tip::\n",
    "    A convergence analysis will show how much progress an algorithm has made at what time. Always keep in mind that having the most suitable algorithm but running it not long enough might prevent from finding the global optimum. However, continuing with optimization of an algorithm that got stuck or has already found the optimum will not improve the best found solution and unnecessarily increase the number of function evaluations."
   ]
  },
  {
   "cell_type": "markdown",
   "metadata": {},
   "source": [
    "You can find a list and explanations of termination criteria available in *pymoo* [here](../interface/termination.ipynb). If no termination criteria is defined, then the progress in the design and objective space will kept track of in each iteration. When no significant progress has been made (this is the art of defining what that shall be), the algorithm terminates. "
   ]
  },
  {
   "cell_type": "markdown",
   "metadata": {},
   "source": [
    "## Optimize"
   ]
  },
  {
   "cell_type": "markdown",
   "metadata": {},
   "source": [
    "Finally, we are solving the `problem` with the `algorithm` and `termination` we have defined. The functional interface uses the `minimize` method. By default, the `minimize` performs deep-copies of the algorithm and the termination object which guarantees they are not modified during the function call. This is important to ensure that repetitive function calls with the same random seed end up with the same results. When the algorithm has been terminated, the `minimize` function returns a [Result](../interface/result.ipynb) object."
   ]
  },
  {
   "cell_type": "code",
   "execution_count": 6,
   "metadata": {},
   "outputs": [
    {
     "name": "stdout",
     "output_type": "stream",
     "text": [
      "=====================================================================================\n",
      "n_gen |  n_eval |   cv (min)   |   cv (avg)   |  n_nds  |     eps      |  indicator  \n",
      "=====================================================================================\n",
      "    1 |      40 |  0.00000E+00 |  5.945722578 |       2 |            - |            -\n",
      "    1 |      50 |  0.00000E+00 |  3.093366367 |       2 |  0.00000E+00 |            f\n",
      "    2 |      60 |  0.00000E+00 |  1.201451612 |       3 |  1.000000000 |        ideal\n",
      "    3 |      70 |  0.00000E+00 |  0.241600975 |       5 |  0.074126160 |        ideal\n",
      "    4 |      80 |  0.00000E+00 |  0.043897833 |       6 |  0.048378941 |        ideal\n",
      "    5 |      90 |  0.00000E+00 |  0.00000E+00 |       7 |  0.222493862 |        ideal\n",
      "    6 |     100 |  0.00000E+00 |  0.00000E+00 |       7 |  0.251646186 |        nadir\n",
      "    7 |     110 |  0.00000E+00 |  0.00000E+00 |       7 |  0.074343862 |        ideal\n",
      "    8 |     120 |  0.00000E+00 |  0.00000E+00 |       7 |  0.00000E+00 |            f\n",
      "    9 |     130 |  0.00000E+00 |  0.00000E+00 |       8 |  0.010426055 |            f\n",
      "   10 |     140 |  0.00000E+00 |  0.00000E+00 |       9 |  0.049344268 |        ideal\n",
      "   11 |     150 |  0.00000E+00 |  0.00000E+00 |      12 |  0.009106292 |            f\n",
      "   12 |     160 |  0.00000E+00 |  0.00000E+00 |      11 |  0.005982421 |        nadir\n",
      "   13 |     170 |  0.00000E+00 |  0.00000E+00 |      16 |  0.009070947 |            f\n",
      "   14 |     180 |  0.00000E+00 |  0.00000E+00 |      18 |  0.003268783 |        ideal\n",
      "   15 |     190 |  0.00000E+00 |  0.00000E+00 |      20 |  0.049455503 |        ideal\n",
      "   16 |     200 |  0.00000E+00 |  0.00000E+00 |      23 |  0.002987286 |            f\n",
      "   17 |     210 |  0.00000E+00 |  0.00000E+00 |      24 |  0.002375432 |            f\n",
      "   18 |     220 |  0.00000E+00 |  0.00000E+00 |      26 |  0.005651989 |        ideal\n",
      "   19 |     230 |  0.00000E+00 |  0.00000E+00 |      30 |  0.005523435 |            f\n",
      "   20 |     240 |  0.00000E+00 |  0.00000E+00 |      31 |  0.000131467 |            f\n",
      "   21 |     250 |  0.00000E+00 |  0.00000E+00 |      35 |  0.003186770 |            f\n",
      "   22 |     260 |  0.00000E+00 |  0.00000E+00 |      33 |  0.000507364 |            f\n",
      "   23 |     270 |  0.00000E+00 |  0.00000E+00 |      33 |  0.000759593 |            f\n",
      "   24 |     280 |  0.00000E+00 |  0.00000E+00 |      34 |  0.000543271 |            f\n",
      "   25 |     290 |  0.00000E+00 |  0.00000E+00 |      37 |  0.001274626 |            f\n",
      "   26 |     300 |  0.00000E+00 |  0.00000E+00 |      40 |  0.000685442 |            f\n",
      "   27 |     310 |  0.00000E+00 |  0.00000E+00 |      40 |  0.002375287 |            f\n",
      "   28 |     320 |  0.00000E+00 |  0.00000E+00 |      40 |  0.001468663 |            f\n",
      "   29 |     330 |  0.00000E+00 |  0.00000E+00 |      40 |  0.000337965 |            f\n",
      "   30 |     340 |  0.00000E+00 |  0.00000E+00 |      40 |  0.000846301 |            f\n",
      "   31 |     350 |  0.00000E+00 |  0.00000E+00 |      40 |  0.001797228 |            f\n",
      "   32 |     360 |  0.00000E+00 |  0.00000E+00 |      40 |  0.000062479 |            f\n",
      "   33 |     370 |  0.00000E+00 |  0.00000E+00 |      40 |  0.000712604 |            f\n",
      "   34 |     380 |  0.00000E+00 |  0.00000E+00 |      40 |  0.000287226 |            f\n",
      "   35 |     390 |  0.00000E+00 |  0.00000E+00 |      40 |  0.00000E+00 |            f\n",
      "   36 |     400 |  0.00000E+00 |  0.00000E+00 |      40 |  0.002197654 |            f\n",
      "   37 |     410 |  0.00000E+00 |  0.00000E+00 |      40 |  0.000624105 |            f\n",
      "   38 |     420 |  0.00000E+00 |  0.00000E+00 |      40 |  0.000455183 |            f\n",
      "   39 |     430 |  0.00000E+00 |  0.00000E+00 |      40 |  0.001169896 |            f\n"
     ]
    }
   ],
   "source": [
    "from pymoo.optimize import minimize\n",
    "\n",
    "res = minimize(problem,\n",
    "               algorithm,\n",
    "               termination,\n",
    "               seed=1,\n",
    "               save_history=True,\n",
    "               verbose=True)\n",
    "\n",
    "X = res.X\n",
    "F = res.F"
   ]
  },
  {
   "cell_type": "markdown",
   "metadata": {},
   "source": [
    "If the `verbose=True`, some printouts during the algorithm's execution are provided. This can very from algorithm to algorithm. Here, we execute `NSGA2` on a problem where *pymoo* has no knowledge about the optimum. Each line represents one iteration. The first two columns are the current generation counter and the number of evaluations so far. For constrained problems, the next two columns show the minimum constraint violation (*cv (min)*) and the average constraint violation (*cv (avg)*) in the current population. This is followed by the number of non-dominated solutions (*n_nds*) and two more metrics which represents the movement in the objective space. "
   ]
  },
  {
   "cell_type": "raw",
   "metadata": {
    "raw_mimetype": "text/restructuredtext"
   },
   "source": [
    ".. tip::\n",
    "     An algorithm can be executed by using the **minimize** interface as shown below. In order to have more control over the algorithm execution, pymoo also offers an **object-oriented** execution. For an example and a discussion of each's pros and cons, please consult or algorithm tutorial. "
   ]
  },
  {
   "cell_type": "markdown",
   "metadata": {},
   "source": [
    "## Visualize"
   ]
  },
  {
   "cell_type": "markdown",
   "metadata": {},
   "source": [
    "Analyzing the solutions being found by the algorithm is vital. Always a good start is visualizing the solutions to get a grasp of commonalities or if the Pareto-front is known to even check the convergence."
   ]
  },
  {
   "cell_type": "code",
   "execution_count": 15,
   "metadata": {},
   "outputs": [
    {
     "data": {
      "image/png": "[encoded data removed]",
      "text/plain": [
       "<Figure size 504x360 with 1 Axes>"
      ]
     },
     "metadata": {
      "image/png": {
       "height": 318,
       "width": 444
      },
      "needs_background": "light"
     },
     "output_type": "display_data"
    }
   ],
   "source": [
    "import matplotlib.pyplot as plt\n",
    "xl, xu = problem.bounds()\n",
    "plt.figure(figsize=(7, 5))\n",
    "plt.scatter(X[:, 0], X[:, 1], s=30, facecolors='none', edgecolors='r')\n",
    "plt.xlim(xl[0], xu[0])\n",
    "plt.ylim(xl[1], xu[1])\n",
    "plt.title(\"Design Space\")\n",
    "plt.show()"
   ]
  },
  {
   "cell_type": "code",
   "execution_count": 14,
   "metadata": {},
   "outputs": [
    {
     "data": {
      "image/png": "[encoded data removed]",
      "text/plain": [
       "<Figure size 504x360 with 1 Axes>"
      ]
     },
     "metadata": {
      "image/png": {
       "height": 318,
       "width": 427
      },
      "needs_background": "light"
     },
     "output_type": "display_data"
    }
   ],
   "source": [
    "plt.figure(figsize=(7, 5))\n",
    "plt.scatter(F[:, 0], F[:, 1], s=30, facecolors='none', edgecolors='blue')\n",
    "plt.title(\"Objective Space\")\n",
    "plt.show()"
   ]
  }
 ],
 "metadata": {
  "kernelspec": {
   "display_name": "Python 3",
   "language": "python",
   "name": "python3"
  },
  "language_info": {
   "codemirror_mode": {
    "name": "ipython",
    "version": 3
   },
   "file_extension": ".py",
   "mimetype": "text/x-python",
   "name": "python",
   "nbconvert_exporter": "python",
   "pygments_lexer": "ipython3",
   "version": "3.7.3"
  }
 },
 "nbformat": 4,
 "nbformat_minor": 4
}
