{
 "cells": [
  {
   "cell_type": "raw",
   "metadata": {
    "raw_mimetype": "text/restructuredtext"
   },
   "source": [
    ".. _nb_de:"
   ]
  },
  {
   "cell_type": "markdown",
   "metadata": {},
   "source": [
    "\n",
    "## Differential Evolution\n",
    "\n",
    "\n",
    "<cite data-cite=\"de\"></cite> The classical single-objective\n",
    "differential evolution algorithm where different crossover variations\n",
    "and methods can be defined. It is known for its good results for\n",
    "effective global optimization.\n"
   ]
  },
  {
   "cell_type": "code",
   "execution_count": 4,
   "metadata": {},
   "outputs": [
    {
     "name": "stdout",
     "output_type": "stream",
     "text": [
      "Best solution found: [-3.60438355e-11  9.94958640e-01 -2.52891937e-09]\n",
      "Function value: [0.99495906]\n"
     ]
    }
   ],
   "source": [
    "from pymoo.optimize import minimize\n",
    "from pymop.factory import get_problem\n",
    "\n",
    "problem = get_problem(\"rastrigin\", n_var=3)\n",
    "\n",
    "res = minimize(problem,\n",
    "               method='de',\n",
    "               method_args={\n",
    "                   'variant': \"DE/rand/1/bin\",\n",
    "                   'CR': 2,\n",
    "                   'F': 0.75,\n",
    "                   'pop_size': 100\n",
    "               },\n",
    "               termination=('n_gen', 200),\n",
    "               seed=1,\n",
    "               disp=False)\n",
    "\n",
    "print(\"Best solution found: %s\" % res.X)\n",
    "print(\"Function value: %s\" % res.F)\n"
   ]
  },
  {
   "cell_type": "code",
   "execution_count": null,
   "metadata": {},
   "outputs": [],
   "source": []
  },
  {
   "cell_type": "code",
   "execution_count": null,
   "metadata": {},
   "outputs": [],
   "source": []
  }
 ],
 "metadata": {
  "celltoolbar": "Raw Cell Format",
  "kernelspec": {
   "display_name": "Python 3",
   "language": "python",
   "name": "python3"
  },
  "language_info": {
   "codemirror_mode": {
    "name": "ipython",
    "version": 3
   },
   "file_extension": ".py",
   "mimetype": "text/x-python",
   "name": "python",
   "nbconvert_exporter": "python",
   "pygments_lexer": "ipython3",
   "version": "3.6.5"
  }
 },
 "nbformat": 4,
 "nbformat_minor": 2
}
