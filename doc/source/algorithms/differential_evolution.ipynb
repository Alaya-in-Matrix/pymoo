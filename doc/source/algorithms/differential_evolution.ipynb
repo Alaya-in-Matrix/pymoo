{
 "cells": [
  {
   "cell_type": "raw",
   "metadata": {
    "raw_mimetype": "text/restructuredtext"
   },
   "source": [
    ".. _nb_de:"
   ]
  },
  {
   "cell_type": "markdown",
   "metadata": {},
   "source": [
    "\n",
    "## Differential Evolution\n",
    "\n",
    "The classical single-objective\n",
    "differential evolution algorithm <cite data-cite=\"de\"></cite> where different crossover variations\n",
    "and methods can be defined. It is known for its good results for\n",
    "effective global optimization.\n"
   ]
  },
  {
   "cell_type": "code",
   "execution_count": 33,
   "metadata": {},
   "outputs": [
    {
     "name": "stdout",
     "output_type": "stream",
     "text": [
      "Best solution found: \n",
      "X = [ 1.39583098e-09 -2.96314339e-09  1.06196328e-09]\n",
      "F = [0.]\n"
     ]
    }
   ],
   "source": [
    "from pymoo.optimize import minimize\n",
    "from pymop.factory import get_problem\n",
    "from pymoo.factory import get_algorithm\n",
    "\n",
    "problem = get_problem(\"rastrigin\", n_var=3)\n",
    "\n",
    "res = minimize(problem,\n",
    "               method=get_algorithm('de',\n",
    "                                   variant = \"DE/rand/1/bin\",\n",
    "                                   pop_size = 100,\n",
    "                                   CR = 0.3,\n",
    "                                   F = 0.5,\n",
    "                                   seed=1),\n",
    "               termination=('n_gen', 200),\n",
    "               seed=1,\n",
    "               disp=False)\n",
    "\n",
    "print(\"Best solution found: \\nX = %s\\nF = %s\" % (res.X, res.F))"
   ]
  },
  {
   "cell_type": "markdown",
   "metadata": {},
   "source": [
    "### API"
   ]
  },
  {
   "cell_type": "raw",
   "metadata": {
    "raw_mimetype": "text/restructuredtext"
   },
   "source": [
    ".. autofunction:: pymoo.algorithms.so_de.de\n",
    "    :noindex:"
   ]
  },
  {
   "cell_type": "code",
   "execution_count": null,
   "metadata": {},
   "outputs": [],
   "source": []
  }
 ],
 "metadata": {
  "celltoolbar": "Raw Cell Format",
  "kernelspec": {
   "display_name": "Python 3",
   "language": "python",
   "name": "python3"
  },
  "language_info": {
   "codemirror_mode": {
    "name": "ipython",
    "version": 3
   },
   "file_extension": ".py",
   "mimetype": "text/x-python",
   "name": "python",
   "nbconvert_exporter": "python",
   "pygments_lexer": "ipython3",
   "version": "3.6.5"
  }
 },
 "nbformat": 4,
 "nbformat_minor": 2
}
