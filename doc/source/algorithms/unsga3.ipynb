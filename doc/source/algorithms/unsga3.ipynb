{
 "cells": [
  {
   "cell_type": "raw",
   "metadata": {
    "raw_mimetype": "text/restructuredtext"
   },
   "source": [
    ".. _nb_unsga3:"
   ]
  },
  {
   "cell_type": "markdown",
   "metadata": {},
   "source": [
    "## U-NSGA-III\n",
    "\n",
    "\n",
    "The algorithm is implemented based on <cite data-cite=\"unsga3\"></cite>. NSGA-III selects parents randomly for mating. It has been shown that tournament selection performs better than random selection. The *U* stands for *unified* and increases the performance of NSGA-III by introducing tournament pressure. \n",
    "\n",
    "The mating selections works as follows:\n"
   ]
  },
  {
   "cell_type": "markdown",
   "metadata": {},
   "source": [
    "<div style=\"display: block;margin-left: auto;margin-right: auto;width: 45%;\">\n",
    "![unsga3_mating](../resources/images/unsga3_mating.png)\n",
    "</div>"
   ]
  },
  {
   "cell_type": "markdown",
   "metadata": {},
   "source": [
    " "
   ]
  },
  {
   "cell_type": "markdown",
   "metadata": {},
   "source": [
    "### Example"
   ]
  },
  {
   "cell_type": "code",
   "execution_count": 1,
   "metadata": {
    "code": "algorithms/usage_unsga3.py",
    "section": "unsga3"
   },
   "outputs": [
    {
     "name": "stdout",
     "output_type": "stream",
     "text": [
      "UNSGA3: Best solution found: \n",
      "X = [-0.03361763 -0.0765763   0.08319404 -0.01884934 -0.08956898  0.02424948\n",
      " -0.0742758  -0.03324263  0.01375688  0.07366408 -0.07184055 -0.03413214\n",
      "  0.05850567  0.00359355  0.05727249  0.08145104  0.02723058 -0.00022916\n",
      "  0.01453122 -0.07837368 -0.03632389  0.02878503 -0.01358104  0.00727682\n",
      " -0.06518616 -0.02728898  0.01839204  0.01375858 -0.06653483  0.05340933]\n",
      "F = [0.33397188]\n"
     ]
    }
   ],
   "source": [
    "import numpy as np\n",
    "\n",
    "from pymoo.algorithms.nsga3 import NSGA3\n",
    "from pymoo.algorithms.unsga3 import UNSGA3\n",
    "from pymoo.factory import get_problem\n",
    "from pymoo.optimize import minimize\n",
    "\n",
    "problem = get_problem(\"ackley\", n_var=30)\n",
    "\n",
    "# create the reference directions to be used for the optimization - just a single one here\n",
    "ref_dirs = np.array([[1.0]])\n",
    "\n",
    "# create the algorithm object\n",
    "algorithm = UNSGA3(ref_dirs, pop_size=100)\n",
    "\n",
    "# execute the optimization\n",
    "res = minimize(problem,\n",
    "               algorithm,\n",
    "               termination=('n_gen', 150),\n",
    "               save_history=True,\n",
    "               seed=1)\n",
    "\n",
    "print(\"UNSGA3: Best solution found: \\nX = %s\\nF = %s\" % (res.X, res.F))"
   ]
  },
  {
   "cell_type": "markdown",
   "metadata": {},
   "source": [
    "U-NSGA-III has for single- and bi-objective problems a tournament pressure which is known to be useful.\n",
    "In the following we provide a quick comparison (here just one run, so not a valid experiment), to see the difference in convergence."
   ]
  },
  {
   "cell_type": "code",
   "execution_count": 2,
   "metadata": {
    "code": "algorithms/usage_unsga3.py",
    "section": "no_unsga3"
   },
   "outputs": [
    {
     "name": "stdout",
     "output_type": "stream",
     "text": [
      "NSGA3: Best solution found: \n",
      "X = [-0.03361763 -0.0765763   0.08319404 -0.01884934 -0.08956898  0.02424948\n",
      " -0.0742758  -0.03324263  0.01375688  0.07366408 -0.07184055 -0.03413214\n",
      "  0.05850567  0.00359355  0.05727249  0.08145104  0.02723058 -0.00022916\n",
      "  0.01453122 -0.07837368 -0.03632389  0.02878503 -0.01358104  0.00727682\n",
      " -0.06518616 -0.02728898  0.01839204  0.01375858 -0.06653483  0.05340933]\n",
      "F = [0.33397188]\n"
     ]
    }
   ],
   "source": [
    "_res = minimize(problem,\n",
    "                NSGA3(ref_dirs, pop_size=100),\n",
    "                termination=('n_gen', 150),\n",
    "                save_history=True,\n",
    "                seed=1)\n",
    "print(\"NSGA3: Best solution found: \\nX = %s\\nF = %s\" % (res.X, res.F))"
   ]
  },
  {
   "cell_type": "code",
   "execution_count": 3,
   "metadata": {
    "code": "algorithms/usage_unsga3.py",
    "section": "unsga3_comp"
   },
   "outputs": [],
   "source": [
    "import numpy as np\n",
    "import matplotlib.pyplot as plt\n",
    "\n",
    "ret = [np.min(e.pop.get(\"F\")) for e in res.history]\n",
    "_ret = [np.min(e.pop.get(\"F\")) for e in _res.history]\n",
    "\n",
    "plt.plot(np.arange(len(ret)), ret, label=\"unsga3\")\n",
    "plt.plot(np.arange(len(_ret)), _ret, label=\"nsga3\")\n",
    "plt.title(\"Convergence\")\n",
    "plt.xlabel(\"Generation\")\n",
    "plt.ylabel(\"F\")\n",
    "plt.legend()\n",
    "plt.show()"
   ]
  },
  {
   "cell_type": "markdown",
   "metadata": {
    "raw_mimetype": "text/restructuredtext"
   },
   "source": [
    "### API"
   ]
  },
  {
   "cell_type": "raw",
   "metadata": {
    "raw_mimetype": "text/restructuredtext"
   },
   "source": [
    ".. autoclass:: pymoo.algorithms.unsga3.UNSGA3\n",
    "    :noindex:"
   ]
  }
 ],
 "metadata": {
  "celltoolbar": "Raw Cell Format",
  "kernelspec": {
   "display_name": "Python 3",
   "language": "python",
   "name": "python3"
  },
  "language_info": {
   "codemirror_mode": {
    "name": "ipython",
    "version": 3
   },
   "file_extension": ".py",
   "mimetype": "text/x-python",
   "name": "python",
   "nbconvert_exporter": "python",
   "pygments_lexer": "ipython3",
   "version": "3.7.4"
  }
 },
 "nbformat": 4,
 "nbformat_minor": 4
}
