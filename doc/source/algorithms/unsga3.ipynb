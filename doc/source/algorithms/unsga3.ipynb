{
 "cells": [
  {
   "cell_type": "raw",
   "metadata": {
    "raw_mimetype": "text/restructuredtext"
   },
   "source": [
    ".. _nb_unsga3:"
   ]
  },
  {
   "cell_type": "markdown",
   "metadata": {},
   "source": [
    "## U-NSGA-III\n",
    "\n",
    "\n",
    "The algorithm is implemented based on <cite data-cite=\"unsga3\"></cite>. NSGA-III selects parents randomly for mating. It has been shown that tournament selection performs better than random selection. The *U* stands for *unified* and increases the performance of NSGA-III by introducing tournament pressure. \n",
    "\n",
    "The mating selections works as follows:\n"
   ]
  },
  {
   "cell_type": "markdown",
   "metadata": {},
   "source": [
    "<div style=\"display: block;margin-left: auto;margin-right: auto;width: 45%;\">\n",
    "![unsga3_mating](../resources/images/unsga3_mating.png)\n",
    "</div>"
   ]
  },
  {
   "cell_type": "markdown",
   "metadata": {},
   "source": [
    " "
   ]
  },
  {
   "cell_type": "markdown",
   "metadata": {},
   "source": [
    "### Example"
   ]
  },
  {
   "cell_type": "code",
   "execution_count": 3,
   "metadata": {},
   "outputs": [
    {
     "data": {
      "image/png": "[encoded data removed]",
      "text/plain": [
       "<Figure size 432x288 with 1 Axes>"
      ]
     },
     "metadata": {},
     "output_type": "display_data"
    }
   ],
   "source": [
    "from pymoo.optimize import minimize\n",
    "from pymoo.util import plotting\n",
    "from pymoo.util.reference_direction import UniformReferenceDirectionFactory\n",
    "from pymop.factory import get_problem\n",
    "from pymoo.factory import get_algorithm\n",
    "\n",
    "# create the reference directions to be used for the optimization\n",
    "ref_dirs = UniformReferenceDirectionFactory(2, n_points=100).do()\n",
    "\n",
    "# create the algorithm object\n",
    "method = get_algorithm(\"nsga3\",\n",
    "                      pop_size=100,\n",
    "                      ref_dirs=ref_dirs)\n",
    "\n",
    "# create the test problem\n",
    "problem = get_problem(\"zdt1\")\n",
    "pf = problem.pareto_front()\n",
    "\n",
    "\n",
    "# execute the optimization\n",
    "res = minimize(problem,\n",
    "               method,\n",
    "               termination=('n_gen', 150))\n",
    "\n",
    "plotting.plot(pf, res.F, show=True)\n"
   ]
  },
  {
   "cell_type": "code",
   "execution_count": null,
   "metadata": {},
   "outputs": [],
   "source": []
  }
 ],
 "metadata": {
  "celltoolbar": "Raw Cell Format",
  "kernelspec": {
   "display_name": "Python 3",
   "language": "python",
   "name": "python3"
  },
  "language_info": {
   "codemirror_mode": {
    "name": "ipython",
    "version": 3
   },
   "file_extension": ".py",
   "mimetype": "text/x-python",
   "name": "python",
   "nbconvert_exporter": "python",
   "pygments_lexer": "ipython3",
   "version": "3.6.5"
  }
 },
 "nbformat": 4,
 "nbformat_minor": 2
}
