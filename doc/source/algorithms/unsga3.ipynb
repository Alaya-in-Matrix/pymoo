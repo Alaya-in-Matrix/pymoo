{
 "cells": [
  {
   "cell_type": "raw",
   "metadata": {
    "raw_mimetype": "text/restructuredtext"
   },
   "source": [
    ".. _nb_unsga3:"
   ]
  },
  {
   "cell_type": "markdown",
   "metadata": {},
   "source": [
    "## U-NSGA-III\n",
    "\n",
    "\n",
    "The algorithm is implemented based on <cite data-cite=\"unsga3\"></cite>. NSGA-III selects parents randomly for mating. It has been shown that tournament selection performs better than random selection. The *U* stands for *unified* and increases the performance of NSGA-III by introducing tournament pressure. \n",
    "\n",
    "The mating selections works as follows:\n"
   ]
  },
  {
   "cell_type": "markdown",
   "metadata": {},
   "source": [
    "<div style=\"display: block;margin-left: auto;margin-right: auto;width: 45%;\">\n",
    "![unsga3_mating](../resources/images/unsga3_mating.png)\n",
    "</div>"
   ]
  },
  {
   "cell_type": "markdown",
   "metadata": {},
   "source": [
    " "
   ]
  },
  {
   "cell_type": "markdown",
   "metadata": {},
   "source": [
    "### Example"
   ]
  },
  {
   "cell_type": "code",
   "execution_count": 1,
   "metadata": {},
   "outputs": [
    {
     "name": "stdout",
     "output_type": "stream",
     "text": [
      "UNSGA3: Best solution found: \n",
      "X = [-0.10710611  0.06957438  0.03322685  0.08101078 -0.04074635 -0.09092184\n",
      "  0.07400755 -0.00131644 -0.00981249  0.0199096   0.03462076 -0.08601353\n",
      " -0.06173738 -0.02719261  0.00931983 -0.04774055  0.01517344  0.04707081\n",
      "  0.05529107  0.02296837 -0.09985841 -0.03708921 -0.04117093 -0.02707558\n",
      "  0.03058929 -0.10858969  0.14062906 -0.01393336  0.00501679  0.08995541]\n",
      "F = [0.44111199]\n"
     ]
    }
   ],
   "source": [
    "from pymoo.optimize import minimize\n",
    "from pymoo.util import plotting\n",
    "from pymoo.util.reference_direction import UniformReferenceDirectionFactory\n",
    "from pymop.factory import get_problem\n",
    "from pymoo.factory import get_algorithm\n",
    "import numpy as np\n",
    "\n",
    "# create the reference directions to be used for the optimization\n",
    "ref_dirs = UniformReferenceDirectionFactory(1, n_points=1).do()\n",
    "\n",
    "# create the algorithm object\n",
    "method = get_algorithm(\"unsga3\",\n",
    "                      pop_size=100,\n",
    "                      ref_dirs=ref_dirs)\n",
    "\n",
    "# execute the optimization\n",
    "res = minimize(get_problem(\"ackley\", n_var=30),\n",
    "               method,\n",
    "               termination=('n_gen', 150),\n",
    "               save_history=True)\n",
    "\n",
    "print(\"UNSGA3: Best solution found: \\nX = %s\\nF = %s\" % (res.X, res.F))"
   ]
  },
  {
   "cell_type": "markdown",
   "metadata": {},
   "source": [
    "U-NSGA-III has for single- and bi-objective problems a tournament pressure which is known to be useful.\n",
    "In the following we provide a quick comparison (here just one run, so not a valid experiment), to see the difference in convergence."
   ]
  },
  {
   "cell_type": "code",
   "execution_count": 2,
   "metadata": {},
   "outputs": [
    {
     "name": "stdout",
     "output_type": "stream",
     "text": [
      "NSGA3: Best solution found: \n",
      "X = [-0.10710611  0.06957438  0.03322685  0.08101078 -0.04074635 -0.09092184\n",
      "  0.07400755 -0.00131644 -0.00981249  0.0199096   0.03462076 -0.08601353\n",
      " -0.06173738 -0.02719261  0.00931983 -0.04774055  0.01517344  0.04707081\n",
      "  0.05529107  0.02296837 -0.09985841 -0.03708921 -0.04117093 -0.02707558\n",
      "  0.03058929 -0.10858969  0.14062906 -0.01393336  0.00501679  0.08995541]\n",
      "F = [0.44111199]\n"
     ]
    }
   ],
   "source": [
    "_res = minimize(get_problem(\"ackley\", n_var=30),\n",
    "                get_algorithm(\"nsga3\", pop_size=100, ref_dirs=ref_dirs),\n",
    "               termination=('n_gen', 150),\n",
    "               save_history=True)\n",
    "print(\"NSGA3: Best solution found: \\nX = %s\\nF = %s\" % (res.X, res.F))"
   ]
  },
  {
   "cell_type": "code",
   "execution_count": 3,
   "metadata": {},
   "outputs": [
    {
     "data": {
      "image/png": "[encoded data removed]",
      "text/plain": [
       "<Figure size 432x288 with 1 Axes>"
      ]
     },
     "metadata": {},
     "output_type": "display_data"
    }
   ],
   "source": [
    "import numpy as np\n",
    "import matplotlib.pyplot as plt\n",
    "\n",
    "ret = [np.min(e.pop.get(\"F\")) for e in res.history]\n",
    "_ret = [np.min(e.pop.get(\"F\")) for e in _res.history]\n",
    "\n",
    "plt.plot(np.arange(len(ret)), ret, label=\"unsga3\")\n",
    "plt.plot(np.arange(len(_ret)), _ret, label=\"nsga3\")\n",
    "plt.title(\"Convergence\")\n",
    "plt.xlabel(\"Generation\")\n",
    "plt.ylabel(\"F\")\n",
    "plt.legend()\n",
    "plt.show()"
   ]
  }
 ],
 "metadata": {
  "celltoolbar": "Raw Cell Format",
  "kernelspec": {
   "display_name": "Python 3",
   "language": "python",
   "name": "python3"
  },
  "language_info": {
   "codemirror_mode": {
    "name": "ipython",
    "version": 3
   },
   "file_extension": ".py",
   "mimetype": "text/x-python",
   "name": "python",
   "nbconvert_exporter": "python",
   "pygments_lexer": "ipython3",
   "version": "3.6.5"
  }
 },
 "nbformat": 4,
 "nbformat_minor": 2
}
