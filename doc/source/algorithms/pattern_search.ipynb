{
 "cells": [
  {
   "cell_type": "raw",
   "metadata": {
    "raw_mimetype": "text/restructuredtext"
   },
   "source": [
    ".. _nb_pattern_search:"
   ]
  },
  {
   "cell_type": "markdown",
   "metadata": {},
   "source": [
    "## Pattern Search (Hooke and Jeeves)"
   ]
  },
  {
   "cell_type": "code",
   "execution_count": 1,
   "metadata": {
    "code": "algorithms/usage_pattern_search.py"
   },
   "outputs": [
    {
     "name": "stdout",
     "output_type": "stream",
     "text": [
      "=============================================\n",
      "n_gen |  n_eval |     fopt     |    delta    \n",
      "=============================================\n",
      "    1 |     150 |  2.07242E+01 |  0.250000000\n",
      "    2 |     258 |  1.73176E+01 |  0.125000000\n",
      "    3 |     371 |  1.19990E+01 |  0.062500000\n",
      "    4 |     480 |  6.691999557 |  0.031250000\n",
      "    5 |     593 |  4.217183223 |  0.015625000\n",
      "    6 |     705 |  3.022213443 |  0.007812500\n",
      "    7 |     813 |  1.622057902 |  0.003906250\n",
      "    8 |     922 |  0.689752457 |  0.001953125\n"
     ]
    },
    {
     "name": "stdout",
     "output_type": "stream",
     "text": [
      "    9 |    1031 |  0.169017578 |  0.000976562\n",
      "   10 |    1143 |  0.096961231 |  0.000488281\n",
      "   11 |    1249 |  0.039341265 |  0.000244141\n",
      "   12 |    1360 |  0.020167674 |  0.000122070\n",
      "   13 |    1468 |  0.008760261 |  0.000061035\n",
      "   14 |    1579 |  0.005303555 |  0.000030518\n",
      "   15 |    1686 |  0.002180371 |  0.000015259\n",
      "   16 |    1797 |  0.001281223 |  7.62939E-06\n"
     ]
    },
    {
     "name": "stdout",
     "output_type": "stream",
     "text": [
      "   17 |    1906 |  0.000581027 |  3.81470E-06\n",
      "   18 |    2014 |  0.000249912 |  1.90735E-06\n",
      "   19 |    2125 |  0.000160706 |  9.53674E-07\n",
      "   20 |    2229 |  0.000074594 |  4.76837E-07\n",
      "   21 |    2337 |  0.000038407 |  2.38419E-07\n",
      "   22 |    2447 |  0.000018955 |  1.19209E-07\n",
      "   23 |    2552 |  7.41422E-06 |  5.96046E-08\n"
     ]
    },
    {
     "name": "stdout",
     "output_type": "stream",
     "text": [
      "   24 |    2665 |  4.96439E-06 |  2.98023E-08\n",
      "   25 |    2776 |  2.19302E-06 |  1.49012E-08\n",
      "   26 |    2884 |  1.20844E-06 |  7.45058E-09\n",
      "   27 |    2994 |  5.17797E-07 |  3.72529E-09\n",
      "   28 |    3106 |  2.53576E-07 |  1.86265E-09\n",
      "   29 |    3216 |  1.17129E-07 |  9.31323E-10\n"
     ]
    },
    {
     "name": "stdout",
     "output_type": "stream",
     "text": [
      "   30 |    3326 |  7.89935E-08 |  4.65661E-10\n",
      "   31 |    3435 |  3.41790E-08 |  2.32831E-10\n",
      "   32 |    3547 |  1.47156E-08 |  1.16415E-10\n",
      "   33 |    3660 |  8.73876E-09 |  5.82077E-11\n",
      "   34 |    3770 |  4.41282E-09 |  2.91038E-11\n",
      "   35 |    3876 |  1.94904E-09 |  1.45519E-11\n"
     ]
    },
    {
     "name": "stdout",
     "output_type": "stream",
     "text": [
      "   36 |    3987 |  1.08801E-09 |  7.27596E-12\n",
      "   37 |    4097 |  5.30143E-10 |  3.63798E-12\n",
      "   38 |    4205 |  3.24562E-10 |  1.81899E-12\n",
      "   39 |    4313 |  1.41708E-10 |  9.09495E-13\n",
      "   40 |    4421 |  6.99107E-11 |  4.54747E-13\n"
     ]
    },
    {
     "name": "stdout",
     "output_type": "stream",
     "text": [
      "   41 |    4528 |  3.66858E-11 |  2.27374E-13\n",
      "   42 |    4635 |  1.65241E-11 |  1.13687E-13\n",
      "   43 |    4742 |  9.94449E-12 |  5.68434E-14\n",
      "   44 |    4846 |  4.21396E-12 |  2.84217E-14\n",
      "   45 |    4957 |  2.18536E-12 |  1.42109E-14\n"
     ]
    },
    {
     "name": "stdout",
     "output_type": "stream",
     "text": [
      "   46 |    5064 |  1.00231E-12 |  7.10543E-15\n",
      "   47 |    5173 |  5.68878E-13 |  3.55271E-15\n",
      "   48 |    5281 |  2.88214E-13 |  1.77636E-15\n",
      "[-9.27771855e-14 -2.97851640e-14 -1.26925499e-15  8.91408665e-14\n",
      " -1.19684856e-14 -6.66560896e-14  8.11832539e-14 -8.68501150e-14\n",
      "  6.93977971e-14 -8.47269999e-14 -1.22541465e-13  1.15618649e-13\n",
      "  5.49523346e-14  4.71786414e-14 -8.61731588e-14 -6.07986908e-14\n",
      "  1.00688146e-13 -3.36770408e-14  3.38081544e-14  8.86496611e-14\n",
      " -5.67424639e-14  7.34497267e-14 -7.59578144e-14 -2.42403699e-14\n",
      "  3.69602818e-14 -6.67519772e-14  4.79715018e-14  2.70083653e-14\n",
      " -1.01982970e-13 -8.13052041e-14]\n",
      "[2.88213897e-13]\n",
      "[0.]\n"
     ]
    }
   ],
   "source": [
    "from pymoo.algorithms.so_pattern_search import PatternSearch\n",
    "from pymoo.factory import get_problem\n",
    "from pymoo.optimize import minimize\n",
    "\n",
    "problem = get_problem(\"ackley\", n_var=30)\n",
    "\n",
    "algorithm = PatternSearch()\n",
    "\n",
    "res = minimize(problem,\n",
    "               algorithm,\n",
    "               seed=1,\n",
    "               verbose=True)\n",
    "\n",
    "print(res.X)\n",
    "print(res.F)\n",
    "print(res.CV)\n"
   ]
  },
  {
   "cell_type": "markdown",
   "metadata": {},
   "source": [
    "### API"
   ]
  },
  {
   "cell_type": "raw",
   "metadata": {
    "raw_mimetype": "text/restructuredtext"
   },
   "source": [
    ".. autoclass:: pymoo.algorithms.so_pattern_search.PatternSearch\n",
    "    :noindex:"
   ]
  }
 ],
 "metadata": {
  "celltoolbar": "Raw Cell Format",
  "kernelspec": {
   "display_name": "Python 3",
   "language": "python",
   "name": "python3"
  },
  "language_info": {
   "codemirror_mode": {
    "name": "ipython",
    "version": 3
   },
   "file_extension": ".py",
   "mimetype": "text/x-python",
   "name": "python",
   "nbconvert_exporter": "python",
   "pygments_lexer": "ipython3",
   "version": "3.7.4"
  }
 },
 "nbformat": 4,
 "nbformat_minor": 4
}
