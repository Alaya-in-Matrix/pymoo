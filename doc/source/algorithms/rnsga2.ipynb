{
 "cells": [
  {
   "cell_type": "raw",
   "metadata": {
    "raw_mimetype": "text/restructuredtext"
   },
   "source": [
    ".. _nb_rnsga2:"
   ]
  },
  {
   "cell_type": "markdown",
   "metadata": {},
   "source": [
    "## R-NSGA-II"
   ]
  },
  {
   "cell_type": "markdown",
   "metadata": {},
   "source": [
    "The implementation details of this algorithm can be found in Reference Point Based Multi-Objective Optimization Using Evolutionary Algorithms <cite data-cite=\"rnsga2\"></cite>. \n",
    "The algorithm follows the general outline of NSGA-II with modified survival selection. \n",
    "\n",
    "In R-NSGA-II individuals are first selected frontwise. By doing so, there will be the situation where a front needs to be split because not all indidividuals are allowed to survive. \n",
    "In this splitting front, solutions are selected based on rank."
   ]
  },
  {
   "cell_type": "markdown",
   "metadata": {},
   "source": [
    "The rank is calculated as the euclidean distance to each reference point, the solution closest to a reference point is thus assigned a rank of 1. The best rank for each solution is selected as the rank of that solution. "
   ]
  },
  {
   "cell_type": "markdown",
   "metadata": {},
   "source": [
    "<div style=\"display: block;margin-left: auto;margin-right: auto;width: 80%;\">\n",
    "![nsga2_survival](../resources/images/rnsga2.png)\n",
    "</div>"
   ]
  },
  {
   "cell_type": "markdown",
   "metadata": {},
   "source": [
    "Next solutions are selected for each reference point frontwise based on rank, after each reference point has selected a solution for survival all solutions within epsilon distance of surviving solutions are \"cleared.\" This means that they can not be selected for survival until and unless every front has been processed and more solutions still need to be selected.\n",
    "\n",
    "This means smaller epsilon values will result in a tighter set of solutions."
   ]
  },
  {
   "cell_type": "markdown",
   "metadata": {},
   "source": [
    "### Example"
   ]
  },
  {
   "cell_type": "code",
   "execution_count": 4,
   "metadata": {},
   "outputs": [
    {
     "data": {
      "image/png": "[encoded data removed]",
      "text/plain": [
       "<Figure size 432x288 with 1 Axes>"
      ]
     },
     "metadata": {
      "needs_background": "light"
     },
     "output_type": "display_data"
    }
   ],
   "source": [
    "%matplotlib inline\n",
    "import numpy as np\n",
    "\n",
    "from pymoo.optimize import minimize\n",
    "from pymoo.util import plotting\n",
    "from pymop.factory import get_problem\n",
    "\n",
    "problem = get_problem(\"zdt1\", n_var=30)\n",
    "pf = problem.pareto_front()\n",
    "\n",
    "# create the reference directions to be used for the optimization\n",
    "ref_points = np.array([[0.5, 0.2], [0.1, 0.6]])\n",
    "\n",
    "res = minimize(problem,\n",
    "               method='rnsga2',\n",
    "               method_args={\n",
    "                   'pop_size': 40,\n",
    "                   'ref_points': ref_points,\n",
    "                   'epsilon': 0.01,\n",
    "                   'normalization': 'front',\n",
    "                   'survival_type': \"closest\",\n",
    "                   'extreme_points_as_reference_points': False,\n",
    "                   'weights': np.array([0.5, 0.5])\n",
    "               },\n",
    "               save_history=True,\n",
    "               termination=('n_gen', 250),\n",
    "               seed=1,\n",
    "               pf=pf,\n",
    "               disp=False)\n",
    "\n",
    "plotting.plot(pf, res.F, ref_points, show=True, labels=['pf', 'F', 'ref_points'])\n",
    "\n"
   ]
  },
  {
   "cell_type": "markdown",
   "metadata": {},
   "source": [
    "### API"
   ]
  },
  {
   "cell_type": "raw",
   "metadata": {
    "raw_mimetype": "text/restructuredtext"
   },
   "source": [
    ".. autofunction:: pymoo.algorithms.rnsga2.rnsga2\n",
    "    :noindex:"
   ]
  }
 ],
 "metadata": {
  "celltoolbar": "Raw Cell Format",
  "kernelspec": {
   "display_name": "Python 3",
   "language": "python",
   "name": "python3"
  },
  "language_info": {
   "codemirror_mode": {
    "name": "ipython",
    "version": 3
   },
   "file_extension": ".py",
   "mimetype": "text/x-python",
   "name": "python",
   "nbconvert_exporter": "python",
   "pygments_lexer": "ipython3",
   "version": "3.7.3"
  }
 },
 "nbformat": 4,
 "nbformat_minor": 2
}
