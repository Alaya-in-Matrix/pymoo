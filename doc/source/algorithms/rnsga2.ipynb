{
 "cells": [
  {
   "cell_type": "raw",
   "metadata": {
    "raw_mimetype": "text/restructuredtext"
   },
   "source": [
    ".. _nb_rnsga2:"
   ]
  },
  {
   "cell_type": "markdown",
   "metadata": {},
   "source": [
    "## R-NSGA-II"
   ]
  },
  {
   "cell_type": "markdown",
   "metadata": {},
   "source": [
    "### Example"
   ]
  },
  {
   "cell_type": "code",
   "execution_count": 24,
   "metadata": {},
   "outputs": [
    {
     "name": "stdout",
     "output_type": "stream",
     "text": [
      "Writing rnsga2.py\n"
     ]
    }
   ],
   "source": [
    "import numpy as np\n",
    "\n",
    "from pymoo.optimize import minimize\n",
    "from pymoo.util import plotting\n",
    "from pymoo.factory import get_algorithm\n",
    "from pymop.factory import get_problem\n",
    "\n",
    "problem = get_problem(\"zdt1\", n_var=30)\n",
    "pf = problem.pareto_front()\n",
    "\n",
    "# the reference point to be used during optimization\n",
    "ref_points = np.array([[0.5, 0.2], [0.1, 0.6]])\n",
    "\n",
    "method = get_algorithm(\"rnsga2\", \n",
    "                       pop_size = 40, \n",
    "                       ref_points = ref_points,\n",
    "                       epsilon = 0.001,\n",
    "                       normalization = 'no',\n",
    "                       survival_type = 'closest',\n",
    "                       extreme_points_as_reference_points = False,\n",
    "                       weights = np.array([0.5, 0.5])\n",
    "                      )\n",
    "\n",
    "res = minimize(problem,\n",
    "               method,\n",
    "               termination=('n_gen', 200))\n",
    "\n",
    "plotting.plot(pf, res.F, ref_points, show=True, labels=['pf', 'F', 'ref_points'])\n",
    "\n"
   ]
  },
  {
   "cell_type": "markdown",
   "metadata": {},
   "source": [
    "### API"
   ]
  },
  {
   "cell_type": "raw",
   "metadata": {
    "raw_mimetype": "text/restructuredtext"
   },
   "source": [
    ".. autofunction:: pymoo.algorithms.rnsga2.rnsga2\n",
    "    :noindex:"
   ]
  }
 ],
 "metadata": {
  "celltoolbar": "Raw Cell Format",
  "kernelspec": {
   "display_name": "Python 3",
   "language": "python",
   "name": "python3"
  },
  "language_info": {
   "codemirror_mode": {
    "name": "ipython",
    "version": 3
   },
   "file_extension": ".py",
   "mimetype": "text/x-python",
   "name": "python",
   "nbconvert_exporter": "python",
   "pygments_lexer": "ipython3",
   "version": "3.6.5"
  }
 },
 "nbformat": 4,
 "nbformat_minor": 2
}
