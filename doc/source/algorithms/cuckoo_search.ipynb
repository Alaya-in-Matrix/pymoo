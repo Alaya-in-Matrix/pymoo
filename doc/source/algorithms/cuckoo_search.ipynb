{
 "cells": [
  {
   "cell_type": "raw",
   "metadata": {
    "raw_mimetype": "text/restructuredtext"
   },
   "source": [
    ".. _nb_cs:"
   ]
  },
  {
   "cell_type": "markdown",
   "metadata": {},
   "source": [
    "## Cuckoo Search\n",
    "\n",
    "This class represents standard Cuckoo Search based on the explanation in the book Nature-Inspired Optimization Algorithms by Xin-She Yang and his implementation of standard Cuckoo Search in Matlab on mathworks.com. The figure below shows the flow of a standard Cuckoo Search. \n",
    "\n",
    "1) **Initial Population:**: A starting population is sampled in the beginning. In this framework, this can be either a [Sampling](../operators/sampling.ipynb) object, which defines different initial sampling strategies, or `Population` where the `X` and `F` values are set, or a simple NumPy array (pop_size x n_var).\n",
    "\n",
    "2) **Evaluation:** It is executed using the problem defined to be solved.\n",
    "\n",
    "3) **Survival:** The survival mechanism used is by default the survival of the fittest for the Elitism.\n",
    "\n",
    "4) **Global Random Walk:** The global random walks use a step size that is generated based on Levy Flight Distribution. Every dimension will have its own randomly generated step size on every operation. The Global Random Walk can be done following the book which to randomly choose solution $x_{i}$ which will be modified by Global Random Walk resulting in $x'_i$ and replace a randomly chosen solution $x_{j}$, if $x'_{i}$ is better than $x_{j}$. However for simplicity sake, as also been done in the matlab implementation, $x'_{i}$ will be compared to $x_{i}, \\forall i$ in every iteration. \n",
    "\n",
    "5) **Local Random Walk:** After the Global Random Walk has been done, including the replacement after improvement, every nest $x_i$ has a $p_a$ probability to create new solution via Local Ranom Walk $x'_i = x_i + \\alpha_0*(x_j-x_k)$ with $x_j$ and $x_k$ are two different randomly selected nest. Afterwards, combine the old nests with the new generated nests via Local Random Walks. The size of the combined nests will be pop_size $\\leq$ combined_pop_size $\\leq 2$pop_size. Survival mechanism thus will be used to select a number of pop_size best nests.\n",
    "\n"
   ]
  },
  {
   "cell_type": "markdown",
   "metadata": {},
   "source": [
    "<div style=\"display: block;margin-left: auto;margin-right: auto;width: 60%;\">\n",
    "![ga_basic](../resources/images/ga_basic.png)\n",
    "</div>"
   ]
  },
  {
   "cell_type": "markdown",
   "metadata": {},
   "source": [
    "### Example"
   ]
  },
  {
   "cell_type": "code",
   "execution_count": 72,
   "metadata": {
    "code": "algorithms/usage_ga.py",
    "scrolled": true
   },
   "outputs": [
    {
     "name": "stdout",
     "output_type": "stream",
     "text": [
      "===========================================================================\n",
      "n_gen |  n_eval |   cv (min)   |   cv (avg)   |     fopt     |     favg    \n",
      "===========================================================================\n",
      "    1 |     100 |  4.88407E+02 |  2.18031E+03 |            - |            -\n",
      "    2 |     300 |  4.88407E+02 |  1.40962E+03 |            - |            -\n",
      "    3 |     500 |  3.82687E+02 |  1.00851E+03 |            - |            -\n",
      "    4 |     700 |  9.81712E+01 |  7.52922E+02 |            - |            -\n",
      "    5 |     900 |  9.81712E+01 |  6.00128E+02 |            - |            -\n",
      "    6 |    1100 |  9.55607E+01 |  4.50357E+02 |            - |            -\n",
      "    7 |    1300 |  4.59955E+01 |  3.30540E+02 |            - |            -\n",
      "    8 |    1500 |  4.59955E+01 |  2.51296E+02 |            - |            -\n",
      "    9 |    1700 |  4.59955E+01 |  1.83523E+02 |            - |            -\n",
      "   10 |    1900 |  4.59955E+01 |  1.22907E+02 |            - |            -\n",
      "   11 |    2100 |  3.58349E+01 |  8.87222E+01 |            - |            -\n",
      "   12 |    2300 |  2.69695E+01 |  6.97800E+01 |            - |            -\n",
      "   13 |    2500 |  2.60672E+01 |  5.22336E+01 |            - |            -\n",
      "   14 |    2700 |  2.08285E+01 |  4.03884E+01 |            - |            -\n",
      "   15 |    2900 |  1.77608E+01 |  3.38514E+01 |            - |            -\n",
      "   16 |    3100 |  1.17196E+01 |  2.79504E+01 |            - |            -\n",
      "   17 |    3300 |  1.17196E+01 |  2.36104E+01 |            - |            -\n",
      "   18 |    3500 |  8.600281850 |  2.01835E+01 |            - |            -\n",
      "   19 |    3700 |  7.741954663 |  1.71757E+01 |            - |            -\n",
      "   20 |    3900 |  7.561086799 |  1.46798E+01 |            - |            -\n",
      "   21 |    4100 |  3.934422331 |  1.23525E+01 |            - |            -\n",
      "   22 |    4300 |  3.934422331 |  1.06689E+01 |            - |            -\n",
      "   23 |    4500 |  3.285927572 |  9.000959296 |            - |            -\n",
      "   24 |    4700 |  2.106544581 |  7.593320699 |            - |            -\n",
      "   25 |    4900 |  1.514898906 |  6.409497733 |            - |            -\n",
      "   26 |    5100 |  1.514898906 |  5.335242202 |            - |            -\n",
      "   27 |    5300 |  1.514898906 |  4.545991802 |            - |            -\n",
      "   28 |    5500 |  0.275571115 |  3.790826606 |            - |            -\n",
      "   29 |    5700 |  0.275571115 |  3.243492861 |            - |            -\n",
      "   30 |    5900 |  0.275571115 |  2.754640679 |            - |            -\n",
      "   31 |    6100 |  0.275571115 |  2.358408334 |            - |            -\n",
      "   32 |    6300 |  0.275571115 |  1.727689713 |            - |            -\n",
      "   33 |    6500 |  0.275571115 |  1.202844625 |            - |            -\n",
      "   34 |    6700 |  0.275571115 |  0.777286863 |            - |            -\n",
      "   35 |    6900 |  0.192977174 |  0.471130800 |            - |            -\n",
      "   36 |    7100 |  0.192977174 |  0.278324186 |            - |            -\n",
      "   37 |    7300 |  0.120792034 |  0.269075458 |            - |            -\n",
      "   38 |    7500 |  0.120792034 |  0.251316244 |            - |            -\n",
      "   39 |    7700 |  0.054372778 |  0.222599431 |            - |            -\n",
      "   40 |    7900 |  0.054372778 |  0.196324051 |            - |            -\n",
      "   41 |    8100 |  0.054372778 |  0.171852414 |            - |            -\n",
      "   42 |    8300 |  0.054372778 |  0.145473699 |            - |            -\n",
      "   43 |    8500 |  0.054372778 |  0.120015092 |            - |            -\n",
      "   44 |    8700 |  0.054372778 |  0.100553145 |            - |            -\n",
      "   45 |    8900 |  0.043922744 |  0.086038563 |            - |            -\n",
      "   46 |    9100 |  0.038472647 |  0.061555445 |            - |            -\n",
      "   47 |    9300 |  0.038472647 |  0.053114926 |            - |            -\n",
      "   48 |    9500 |  0.033613132 |  0.051254499 |            - |            -\n",
      "   49 |    9700 |  0.032812774 |  0.048168921 |            - |            -\n",
      "   50 |    9900 |  0.032812774 |  0.042888269 |            - |            -\n",
      "   51 |   10100 |  0.032812774 |  0.039449022 |            - |            -\n",
      "   52 |   10300 |  0.031813167 |  0.037074490 |            - |            -\n",
      "   53 |   10500 |  0.027395595 |  0.035649312 |            - |            -\n",
      "   54 |   10700 |  0.027395595 |  0.033854595 |            - |            -\n",
      "   55 |   10900 |  0.027395595 |  0.032286713 |            - |            -\n",
      "   56 |   11100 |  0.023444157 |  0.030685617 |            - |            -\n",
      "   57 |   11300 |  0.021922883 |  0.028895732 |            - |            -\n",
      "   58 |   11500 |  0.021922883 |  0.027236556 |            - |            -\n",
      "   59 |   11700 |  0.017279770 |  0.025126617 |            - |            -\n",
      "   60 |   11900 |  0.017105500 |  0.023149659 |            - |            -\n",
      "   61 |   12100 |  0.015158631 |  0.021402052 |            - |            -\n",
      "   62 |   12300 |  0.014056424 |  0.019749405 |            - |            -\n",
      "   63 |   12500 |  0.012525508 |  0.018346728 |            - |            -\n",
      "   64 |   12700 |  0.012525508 |  0.016726863 |            - |            -\n",
      "   65 |   12900 |  0.010412204 |  0.015310327 |            - |            -\n",
      "   66 |   13100 |  0.010053417 |  0.014145408 |            - |            -\n",
      "   67 |   13300 |  0.009049059 |  0.012994422 |            - |            -\n",
      "   68 |   13500 |  0.009049059 |  0.012133278 |            - |            -\n",
      "   69 |   13700 |  0.009049059 |  0.011360755 |            - |            -\n",
      "   70 |   13900 |  0.008978932 |  0.010645149 |            - |            -\n",
      "   71 |   14100 |  0.008049154 |  0.010050547 |            - |            -\n",
      "   72 |   14300 |  0.008049154 |  0.009547262 |            - |            -\n",
      "   73 |   14500 |  0.007750320 |  0.009117951 |            - |            -\n",
      "   74 |   14700 |  0.007750320 |  0.008750870 |            - |            -\n",
      "   75 |   14900 |  0.007750320 |  0.008550941 |            - |            -\n",
      "   76 |   15100 |  0.007750320 |  0.008330184 |            - |            -\n",
      "   77 |   15300 |  0.007750320 |  0.008137068 |            - |            -\n",
      "   78 |   15500 |  0.007750320 |  0.007951284 |            - |            -\n",
      "   79 |   15700 |  0.007663079 |  0.007857010 |            - |            -\n",
      "   80 |   15900 |  0.007628271 |  0.007779153 |            - |            -\n",
      "   81 |   16100 |  0.007574665 |  0.007730481 |            - |            -\n",
      "   82 |   16300 |  0.007572556 |  0.007706094 |            - |            -\n",
      "   83 |   16500 |  0.007572556 |  0.007666428 |            - |            -\n",
      "   84 |   16700 |  0.007572556 |  0.007640993 |            - |            -\n",
      "   85 |   16900 |  0.007572556 |  0.007612907 |            - |            -\n",
      "   86 |   17100 |  0.007572465 |  0.007586293 |            - |            -\n",
      "   87 |   17300 |  0.007572465 |  0.007573248 |            - |            -\n",
      "   88 |   17500 |  0.007572465 |  0.007572627 |            - |            -\n",
      "   89 |   17700 |  0.007572445 |  0.007572561 |            - |            -\n",
      "   90 |   17900 |  0.007572445 |  0.007572526 |            - |            -\n",
      "   91 |   18100 |  0.007572445 |  0.007572503 |            - |            -\n",
      "   92 |   18300 |  0.007572378 |  0.007572473 |            - |            -\n",
      "   93 |   18500 |  0.007572378 |  0.007572453 |            - |            -\n",
      "   94 |   18700 |  0.007572378 |  0.007572443 |            - |            -\n",
      "   95 |   18900 |  0.007572378 |  0.007572432 |            - |            -\n",
      "   96 |   19100 |  0.007572378 |  0.007572419 |            - |            -\n",
      "   97 |   19300 |  0.007572372 |  0.007572407 |            - |            -\n",
      "   98 |   19500 |  0.007572356 |  0.007572390 |            - |            -\n",
      "   99 |   19700 |  0.007572356 |  0.007572378 |            - |            -\n",
      "  100 |   19900 |  0.007572334 |  0.007572372 |            - |            -\n",
      "  101 |   20100 |  0.007572334 |  0.007572366 |            - |            -\n",
      "  102 |   20300 |  0.007572334 |  0.007572360 |            - |            -\n",
      "  103 |   20500 |  0.007572332 |  0.007572353 |            - |            -\n",
      "  104 |   20700 |  0.007572318 |  0.007572347 |            - |            -\n",
      "  105 |   20900 |  0.007572300 |  0.007572340 |            - |            -\n",
      "  106 |   21100 |  0.007572300 |  0.007572333 |            - |            -\n",
      "  107 |   21300 |  0.007572300 |  0.007572327 |            - |            -\n",
      "  108 |   21500 |  0.007572294 |  0.007572321 |            - |            -\n",
      "  109 |   21700 |  0.007572287 |  0.007572313 |            - |            -\n",
      "  110 |   21900 |  0.007572287 |  0.007572307 |            - |            -\n"
     ]
    },
    {
     "name": "stdout",
     "output_type": "stream",
     "text": [
      "  111 |   22100 |  0.007572287 |  0.007572302 |            - |            -\n",
      "  112 |   22300 |  0.007572287 |  0.007572298 |            - |            -\n",
      "  113 |   22500 |  0.007572284 |  0.007572296 |            - |            -\n",
      "  114 |   22700 |  0.007572284 |  0.007572293 |            - |            -\n",
      "  115 |   22900 |  0.007572284 |  0.007572290 |            - |            -\n",
      "  116 |   23100 |  0.007572266 |  0.007572288 |            - |            -\n",
      "  117 |   23300 |  0.007572266 |  0.007572285 |            - |            -\n",
      "  118 |   23500 |  0.007572265 |  0.007572283 |            - |            -\n",
      "  119 |   23700 |  0.007572265 |  0.007572280 |            - |            -\n",
      "  120 |   23900 |  0.007572265 |  0.007572277 |            - |            -\n",
      "  121 |   24100 |  0.007572265 |  0.007572274 |            - |            -\n",
      "  122 |   24300 |  0.007572264 |  0.007572271 |            - |            -\n",
      "  123 |   24500 |  0.007572263 |  0.007572268 |            - |            -\n",
      "  124 |   24700 |  0.007572259 |  0.007572266 |            - |            -\n",
      "  125 |   24900 |  0.007572259 |  0.007572265 |            - |            -\n",
      "  126 |   25100 |  0.007572259 |  0.007572264 |            - |            -\n",
      "  127 |   25300 |  0.007572258 |  0.007572263 |            - |            -\n",
      "  128 |   25500 |  0.007572258 |  0.007572261 |            - |            -\n",
      "  129 |   25700 |  0.007572257 |  0.007572260 |            - |            -\n",
      "  130 |   25900 |  0.007572252 |  0.007572259 |            - |            -\n",
      "  131 |   26100 |  0.007572252 |  0.007572258 |            - |            -\n",
      "  132 |   26300 |  0.007572252 |  0.007572257 |            - |            -\n",
      "  133 |   26500 |  0.007572252 |  0.007572256 |            - |            -\n"
     ]
    }
   ],
   "source": [
    "from pymoo.algorithms.so_cuckoo_search import CuckooSearch\n",
    "from pymoo.factory import get_problem\n",
    "from pymoo.optimize import minimize\n",
    "\n",
    "problem = get_problem(\"g01\")\n",
    "\n",
    "algorithm = CuckooSearch()\n",
    "\n",
    "res = minimize(problem, algorithm, seed=1, verbose=True)"
   ]
  },
  {
   "cell_type": "markdown",
   "metadata": {},
   "source": [
    "### API"
   ]
  },
  {
   "cell_type": "raw",
   "metadata": {
    "raw_mimetype": "text/restructuredtext"
   },
   "source": [
    ".. autofunction:: pymoo.algorithms.so_genetic_algorithm.GA\n",
    "    :noindex:"
   ]
  }
 ],
 "metadata": {
  "celltoolbar": "Raw Cell Format",
  "kernelspec": {
   "display_name": "Python 3",
   "language": "python",
   "name": "python3"
  },
  "language_info": {
   "codemirror_mode": {
    "name": "ipython",
    "version": 3
   },
   "file_extension": ".py",
   "mimetype": "text/x-python",
   "name": "python",
   "nbconvert_exporter": "python",
   "pygments_lexer": "ipython3",
   "version": "3.6.12"
  }
 },
 "nbformat": 4,
 "nbformat_minor": 4
}
