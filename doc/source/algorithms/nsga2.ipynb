{
 "cells": [
  {
   "cell_type": "raw",
   "metadata": {
    "raw_mimetype": "text/restructuredtext"
   },
   "source": [
    ".. _nb_nsga2:"
   ]
  },
  {
   "cell_type": "markdown",
   "metadata": {},
   "source": [
    "## NSGA-II"
   ]
  },
  {
   "cell_type": "markdown",
   "metadata": {},
   "source": [
    "The algorithm is implemented based on <cite data-cite=\"nsga2\"></cite> [\\[benchmark\\]](https://www.egr.msu.edu/coinlab/blankjul/pymoo-benchmark/nsga2.html) [\\[data\\]](https://www.egr.msu.edu/coinlab/blankjul/pymoo-benchmark/nsga2.zip)\n",
    ". A benchmark of the algorithm against the original C code can be found \n",
    "The algorithm follows the general\n",
    "outline of a genetic algorithm with a modified mating and survival selection. In NSGA-II, first, individuals\n",
    "are selected frontwise. By doing so, there will be the situation where a front needs to be split because not all individuals are allowed to survive. In this splitting front, solutions are selected based on crowding distance. "
   ]
  },
  {
   "cell_type": "markdown",
   "metadata": {},
   "source": [
    "<div style=\"display: block;margin-left: auto;margin-right: auto;width: 80%;\">\n",
    "![nsga2_survival](../resources/images/nsga2_survival.png)\n",
    "</div>"
   ]
  },
  {
   "cell_type": "markdown",
   "metadata": {},
   "source": [
    "\n",
    "The crowding distance is basically the Manhatten Distance in the objective space. However, the extreme points are desired to be kept every generation and, therefore, get assigned a crowding distance of infinity."
   ]
  },
  {
   "cell_type": "markdown",
   "metadata": {},
   "source": [
    "<div style=\"display: block;margin-left: auto;margin-right: auto;width: 50%;\">\n",
    "![nsga2_crowding](../resources/images/nsga2_crowding.png)\n",
    "</div>"
   ]
  },
  {
   "cell_type": "markdown",
   "metadata": {},
   "source": [
    "Furthermore, to increase some selection pressure NSGA-II uses a binary tournament mating selection. Each individual is first compared by rank and then crowding distance. There also exists a variant in the original C code where instead of using the rank the domination criterium between two solutions is used."
   ]
  },
  {
   "cell_type": "markdown",
   "metadata": {},
   "source": [
    "### Example"
   ]
  },
  {
   "cell_type": "code",
   "execution_count": 1,
   "metadata": {
    "code": "algorithms/usage_nsga2.py"
   },
   "outputs": [
    {
     "name": "stdout",
     "output_type": "stream",
     "text": [
      "============================================================\n",
      "n_gen |  n_eval |     igd      |      gd      |      hv     \n",
      "============================================================\n",
      "    1 |     100 |  3.406893840 |  4.490415280 |            0\n",
      "    2 |     200 |  3.406893840 |  4.112167188 |            0\n",
      "    3 |     300 |  3.334024213 |  3.834639710 |            0\n",
      "    4 |     400 |  3.046047582 |  3.648075850 |            0\n",
      "    5 |     500 |  3.046047582 |  3.419073852 |            0\n",
      "    6 |     600 |  2.793078608 |  3.298487634 |            0\n",
      "    7 |     700 |  2.639063168 |  3.115168795 |            0\n",
      "    8 |     800 |  2.267796529 |  2.916575534 |            0\n",
      "    9 |     900 |  2.244161080 |  2.683016566 |            0\n",
      "   10 |    1000 |  2.184764562 |  2.462085264 |            0\n",
      "   11 |    1100 |  1.767546057 |  2.266820407 |            0\n",
      "   12 |    1200 |  1.767034332 |  2.136875200 |            0\n",
      "   13 |    1300 |  1.767034332 |  2.003920886 |            0\n",
      "   14 |    1400 |  1.500646165 |  1.833708836 |            0\n",
      "   15 |    1500 |  1.473310211 |  1.684135823 |            0\n",
      "   16 |    1600 |  1.436241631 |  1.594097225 |            0\n",
      "   17 |    1700 |  1.277846183 |  1.529320286 |            0\n",
      "   18 |    1800 |  1.252954215 |  1.429464232 |            0\n",
      "   19 |    1900 |  1.169881893 |  1.331123992 |            0\n",
      "   20 |    2000 |  0.983607512 |  1.288292516 |            0\n",
      "   21 |    2100 |  0.878018249 |  1.253779696 |            0\n",
      "   22 |    2200 |  0.866948199 |  1.202289047 |            0\n",
      "   23 |    2300 |  0.850771429 |  1.070898368 |            0\n",
      "   24 |    2400 |  0.806067287 |  1.023407135 |            0\n",
      "   25 |    2500 |  0.749492154 |  0.951572943 |            0\n",
      "   26 |    2600 |  0.699585844 |  0.845417673 |            0\n",
      "   27 |    2700 |  0.672428430 |  0.752408944 |            0\n",
      "   28 |    2800 |  0.661843339 |  0.701714718 |            0\n"
     ]
    },
    {
     "name": "stdout",
     "output_type": "stream",
     "text": [
      "   29 |    2900 |  0.613626530 |  0.652820095 |            0\n",
      "   30 |    3000 |  0.564049910 |  0.606832360 |  0.002407298\n",
      "   31 |    3100 |  0.536830847 |  0.574288119 |  0.003528453\n",
      "   32 |    3200 |  0.509217808 |  0.532407287 |  0.006497434\n",
      "   33 |    3300 |  0.475870811 |  0.495728528 |  0.008916771\n",
      "   34 |    3400 |  0.469278575 |  0.470189163 |  0.015286222\n",
      "   35 |    3500 |  0.415078445 |  0.449072650 |  0.026548547\n",
      "   36 |    3600 |  0.373244961 |  0.424754966 |  0.033949191\n",
      "   37 |    3700 |  0.365995723 |  0.399734652 |  0.037126082\n",
      "   38 |    3800 |  0.350722808 |  0.381391297 |  0.041151958\n",
      "   39 |    3900 |  0.343974698 |  0.354608989 |  0.046945544\n",
      "   40 |    4000 |  0.321080912 |  0.337566486 |  0.053013692\n",
      "   41 |    4100 |  0.311069589 |  0.318043937 |  0.062594259\n",
      "   42 |    4200 |  0.296372176 |  0.301502802 |  0.066858660\n",
      "   43 |    4300 |  0.271459991 |  0.288329343 |  0.071767616\n",
      "   44 |    4400 |  0.265966563 |  0.272835684 |  0.081133590\n",
      "   45 |    4500 |  0.250252744 |  0.259114141 |  0.096913855\n",
      "   46 |    4600 |  0.236659074 |  0.247193874 |  0.103592014\n",
      "   47 |    4700 |  0.217495603 |  0.231167918 |  0.109977977\n",
      "   48 |    4800 |  0.208361767 |  0.213929173 |  0.116451644\n",
      "   49 |    4900 |  0.194306447 |  0.201589542 |  0.127285817\n",
      "   50 |    5000 |  0.182895251 |  0.188795911 |  0.136252968\n",
      "   51 |    5100 |  0.178622815 |  0.180243227 |  0.142242493\n",
      "   52 |    5200 |  0.170304356 |  0.173077349 |  0.147873358\n",
      "   53 |    5300 |  0.160393964 |  0.164109478 |  0.156832384\n",
      "   54 |    5400 |  0.155394061 |  0.156895031 |  0.159819368\n",
      "   55 |    5500 |  0.150968512 |  0.150167862 |  0.165812034\n",
      "   56 |    5600 |  0.140814170 |  0.143906865 |  0.171881941\n",
      "   57 |    5700 |  0.137306708 |  0.137104246 |  0.177403113\n",
      "   58 |    5800 |  0.131830532 |  0.130732921 |  0.181698684\n",
      "   59 |    5900 |  0.127514040 |  0.126199085 |  0.185169441\n"
     ]
    },
    {
     "name": "stdout",
     "output_type": "stream",
     "text": [
      "   60 |    6000 |  0.118875656 |  0.122049785 |  0.189737748\n",
      "   61 |    6100 |  0.112382311 |  0.118074887 |  0.194911542\n",
      "   62 |    6200 |  0.104680018 |  0.112398004 |  0.201147073\n",
      "   63 |    6300 |  0.099095340 |  0.105650812 |  0.207218286\n",
      "   64 |    6400 |  0.097235079 |  0.100914775 |  0.209966754\n",
      "   65 |    6500 |  0.093691255 |  0.097050834 |  0.213248818\n",
      "   66 |    6600 |  0.091524035 |  0.093351361 |  0.216694243\n",
      "   67 |    6700 |  0.087724232 |  0.089631818 |  0.221195816\n",
      "   68 |    6800 |  0.084511792 |  0.086423261 |  0.224617255\n",
      "   69 |    6900 |  0.081831966 |  0.083209189 |  0.227922684\n",
      "   70 |    7000 |  0.079319701 |  0.080659142 |  0.230298691\n",
      "   71 |    7100 |  0.075468087 |  0.076840936 |  0.234840713\n",
      "   72 |    7200 |  0.072730650 |  0.074122136 |  0.237928230\n",
      "   73 |    7300 |  0.071215979 |  0.071350553 |  0.240697317\n",
      "   74 |    7400 |  0.067270545 |  0.068405681 |  0.243476681\n",
      "   75 |    7500 |  0.064511370 |  0.066610592 |  0.246480994\n",
      "   76 |    7600 |  0.062852574 |  0.063796854 |  0.249004076\n",
      "   77 |    7700 |  0.060948767 |  0.061992552 |  0.252436550\n",
      "   78 |    7800 |  0.057926539 |  0.059111381 |  0.255894312\n",
      "   79 |    7900 |  0.055167077 |  0.057135912 |  0.258710296\n",
      "   80 |    8000 |  0.053089809 |  0.054929364 |  0.260800518\n",
      "   81 |    8100 |  0.050682405 |  0.052793842 |  0.263780482\n",
      "   82 |    8200 |  0.049275503 |  0.050964447 |  0.265247961\n",
      "   83 |    8300 |  0.047469849 |  0.048664959 |  0.268031160\n",
      "   84 |    8400 |  0.045921295 |  0.047171211 |  0.269475352\n",
      "   85 |    8500 |  0.044336550 |  0.045532145 |  0.271854721\n",
      "   86 |    8600 |  0.042947422 |  0.044154956 |  0.273055929\n",
      "   87 |    8700 |  0.041639295 |  0.042544212 |  0.275259178\n",
      "   88 |    8800 |  0.040749794 |  0.041240090 |  0.276467887\n",
      "   89 |    8900 |  0.038937000 |  0.039906391 |  0.277769978\n",
      "   90 |    9000 |  0.037314265 |  0.038064870 |  0.279968635\n"
     ]
    },
    {
     "name": "stdout",
     "output_type": "stream",
     "text": [
      "   91 |    9100 |  0.036107025 |  0.036517155 |  0.281924012\n",
      "   92 |    9200 |  0.034933660 |  0.035064984 |  0.283709910\n",
      "   93 |    9300 |  0.032956189 |  0.032983176 |  0.285637353\n",
      "   94 |    9400 |  0.031673751 |  0.031777373 |  0.286895713\n",
      "   95 |    9500 |  0.030223716 |  0.030809673 |  0.288296056\n",
      "   96 |    9600 |  0.029089931 |  0.029597507 |  0.290147221\n",
      "   97 |    9700 |  0.028215331 |  0.028582472 |  0.291514781\n",
      "   98 |    9800 |  0.027285982 |  0.027511086 |  0.292992810\n",
      "   99 |    9900 |  0.026489604 |  0.026746233 |  0.294042069\n",
      "  100 |   10000 |  0.025481661 |  0.025787701 |  0.295314642\n",
      "  101 |   10100 |  0.024769501 |  0.024896851 |  0.296409416\n",
      "  102 |   10200 |  0.023920684 |  0.024062830 |  0.297505641\n",
      "  103 |   10300 |  0.023099857 |  0.022902229 |  0.298635535\n",
      "  104 |   10400 |  0.022243233 |  0.022170034 |  0.299510336\n",
      "  105 |   10500 |  0.021605430 |  0.021441481 |  0.300105311\n",
      "  106 |   10600 |  0.021009100 |  0.020892587 |  0.300805127\n",
      "  107 |   10700 |  0.020096016 |  0.020112273 |  0.301923965\n",
      "  108 |   10800 |  0.019214339 |  0.019303362 |  0.303010778\n",
      "  109 |   10900 |  0.018624369 |  0.018697351 |  0.303588658\n",
      "  110 |   11000 |  0.018021363 |  0.018242654 |  0.304214626\n",
      "  111 |   11100 |  0.017569405 |  0.017841894 |  0.304904603\n",
      "  112 |   11200 |  0.017230218 |  0.017416739 |  0.305509140\n",
      "  113 |   11300 |  0.016723828 |  0.017129781 |  0.306019191\n",
      "  114 |   11400 |  0.016322559 |  0.016508216 |  0.306879778\n",
      "  115 |   11500 |  0.015771197 |  0.015796863 |  0.307606699\n",
      "  116 |   11600 |  0.015342108 |  0.015500266 |  0.308212780\n",
      "  117 |   11700 |  0.015269089 |  0.015280401 |  0.308290424\n",
      "  118 |   11800 |  0.015030575 |  0.015010458 |  0.308754670\n",
      "  119 |   11900 |  0.014637525 |  0.014677377 |  0.309098557\n",
      "  120 |   12000 |  0.014179967 |  0.014104789 |  0.309909067\n",
      "  121 |   12100 |  0.013810732 |  0.013933660 |  0.310343931\n"
     ]
    },
    {
     "name": "stdout",
     "output_type": "stream",
     "text": [
      "  122 |   12200 |  0.013602500 |  0.013709306 |  0.310577099\n",
      "  123 |   12300 |  0.013357540 |  0.013509773 |  0.310960346\n",
      "  124 |   12400 |  0.012882565 |  0.012932604 |  0.311700150\n",
      "  125 |   12500 |  0.012696115 |  0.012691463 |  0.312128677\n",
      "  126 |   12600 |  0.012569145 |  0.012485155 |  0.312374907\n",
      "  127 |   12700 |  0.012687912 |  0.012447697 |  0.312437322\n",
      "  128 |   12800 |  0.012447104 |  0.012229198 |  0.312805004\n",
      "  129 |   12900 |  0.012178881 |  0.012079885 |  0.313059040\n",
      "  130 |   13000 |  0.011998802 |  0.011727699 |  0.313342699\n",
      "  131 |   13100 |  0.011811472 |  0.011559800 |  0.313587920\n",
      "  132 |   13200 |  0.011782908 |  0.011451976 |  0.313644466\n",
      "  133 |   13300 |  0.011640881 |  0.011211398 |  0.313897000\n",
      "  134 |   13400 |  0.011043637 |  0.010856993 |  0.314550711\n",
      "  135 |   13500 |  0.010885316 |  0.010628442 |  0.314926205\n",
      "  136 |   13600 |  0.010582214 |  0.010451667 |  0.315302139\n",
      "  137 |   13700 |  0.010695979 |  0.010400162 |  0.315502667\n",
      "  138 |   13800 |  0.010470044 |  0.010252668 |  0.315768406\n",
      "  139 |   13900 |  0.010281601 |  0.010223056 |  0.315962084\n",
      "  140 |   14000 |  0.010203409 |  0.009915515 |  0.316137629\n",
      "  141 |   14100 |  0.010049186 |  0.009788034 |  0.316467131\n",
      "  142 |   14200 |  0.009819031 |  0.009594821 |  0.316961933\n",
      "  143 |   14300 |  0.009501041 |  0.009318971 |  0.317235249\n",
      "  144 |   14400 |  0.009355474 |  0.009122474 |  0.317692071\n",
      "  145 |   14500 |  0.009093532 |  0.008976688 |  0.317924002\n",
      "  146 |   14600 |  0.009042635 |  0.008861856 |  0.318044468\n",
      "  147 |   14700 |  0.008915831 |  0.008558468 |  0.318295180\n",
      "  148 |   14800 |  0.008833229 |  0.008505488 |  0.318461819\n"
     ]
    },
    {
     "name": "stdout",
     "output_type": "stream",
     "text": [
      "  149 |   14900 |  0.008653997 |  0.008356939 |  0.318800642\n",
      "  150 |   15000 |  0.008446108 |  0.008261520 |  0.318860827\n",
      "  151 |   15100 |  0.008613421 |  0.008222320 |  0.318728782\n",
      "  152 |   15200 |  0.008569345 |  0.008248754 |  0.318900840\n",
      "  153 |   15300 |  0.008294620 |  0.008051102 |  0.318878167\n",
      "  154 |   15400 |  0.008273976 |  0.007926162 |  0.319089345\n",
      "  155 |   15500 |  0.008195275 |  0.008027353 |  0.319499196\n",
      "  156 |   15600 |  0.008240199 |  0.007964732 |  0.319459475\n",
      "  157 |   15700 |  0.008180059 |  0.007840997 |  0.319629784\n",
      "  158 |   15800 |  0.008093439 |  0.007658351 |  0.319715727\n",
      "  159 |   15900 |  0.007927913 |  0.007450601 |  0.319876922\n",
      "  160 |   16000 |  0.007994433 |  0.007462570 |  0.319881891\n",
      "  161 |   16100 |  0.007948821 |  0.007328931 |  0.319874869\n",
      "  162 |   16200 |  0.007833575 |  0.007164977 |  0.320049123\n",
      "  163 |   16300 |  0.007614392 |  0.006938193 |  0.320473370\n",
      "  164 |   16400 |  0.007377141 |  0.006769530 |  0.320689712\n",
      "  165 |   16500 |  0.007321312 |  0.006802828 |  0.320742167\n",
      "  166 |   16600 |  0.007070905 |  0.006689320 |  0.321081992\n",
      "  167 |   16700 |  0.006998758 |  0.006739718 |  0.321130960\n",
      "  168 |   16800 |  0.007090710 |  0.006826042 |  0.321077706\n",
      "  169 |   16900 |  0.007067334 |  0.006800093 |  0.321326941\n",
      "  170 |   17000 |  0.006874456 |  0.006606879 |  0.321608765\n",
      "  171 |   17100 |  0.007014133 |  0.006596340 |  0.321675166\n",
      "  172 |   17200 |  0.006830491 |  0.006417955 |  0.321765950\n",
      "  173 |   17300 |  0.006653331 |  0.006152346 |  0.321863913\n",
      "  174 |   17400 |  0.006556816 |  0.006194605 |  0.321923732\n",
      "  175 |   17500 |  0.006473806 |  0.005989261 |  0.321687684\n",
      "  176 |   17600 |  0.006804551 |  0.006096510 |  0.321473257\n",
      "  177 |   17700 |  0.006590452 |  0.005985379 |  0.321844949\n",
      "  178 |   17800 |  0.006380736 |  0.005924881 |  0.322131481\n",
      "  179 |   17900 |  0.006444636 |  0.005833566 |  0.322124696\n"
     ]
    },
    {
     "name": "stdout",
     "output_type": "stream",
     "text": [
      "  180 |   18000 |  0.006243057 |  0.005804671 |  0.322478089\n",
      "  181 |   18100 |  0.006069540 |  0.005716944 |  0.322686356\n",
      "  182 |   18200 |  0.005989921 |  0.005612956 |  0.322875443\n",
      "  183 |   18300 |  0.005969123 |  0.005638302 |  0.322954186\n",
      "  184 |   18400 |  0.006015638 |  0.005595111 |  0.322967266\n",
      "  185 |   18500 |  0.005940963 |  0.005614868 |  0.322835495\n",
      "  186 |   18600 |  0.006180353 |  0.005694454 |  0.322663370\n",
      "  187 |   18700 |  0.006098130 |  0.005723963 |  0.322985677\n",
      "  188 |   18800 |  0.005951529 |  0.005498260 |  0.323049731\n",
      "  189 |   18900 |  0.005677287 |  0.005379135 |  0.323417128\n",
      "  190 |   19000 |  0.005704225 |  0.005383030 |  0.323379315\n",
      "  191 |   19100 |  0.005698919 |  0.005216916 |  0.323241215\n",
      "  192 |   19200 |  0.005920374 |  0.005133013 |  0.322862884\n",
      "  193 |   19300 |  0.005997569 |  0.005014056 |  0.322994085\n",
      "  194 |   19400 |  0.005934722 |  0.005181380 |  0.323266994\n",
      "  195 |   19500 |  0.005977615 |  0.005210531 |  0.323359187\n",
      "  196 |   19600 |  0.005815417 |  0.005150186 |  0.323338825\n",
      "  197 |   19700 |  0.005601222 |  0.005083622 |  0.324045563\n",
      "  198 |   19800 |  0.005723731 |  0.005169795 |  0.323949955\n",
      "  199 |   19900 |  0.005618826 |  0.004932658 |  0.323844022\n",
      "  200 |   20000 |  0.005498124 |  0.005059008 |  0.324043636\n"
     ]
    },
    {
     "data": {
      "image/png": "[encoded data removed]",
      "text/plain": [
       "<Figure size 576x432 with 1 Axes>"
      ]
     },
     "metadata": {
      "image/png": {
       "height": 372,
       "width": 498
      },
      "needs_background": "light"
     },
     "output_type": "display_data"
    }
   ],
   "source": [
    "from pymoo.algorithms.nsga2 import NSGA2\n",
    "from pymoo.factory import get_problem\n",
    "from pymoo.optimize import minimize\n",
    "from pymoo.visualization.scatter import Scatter\n",
    "\n",
    "problem = get_problem(\"zdt2\")\n",
    "\n",
    "algorithm = NSGA2(pop_size=100)\n",
    "\n",
    "res = minimize(problem,\n",
    "               algorithm,\n",
    "               ('n_gen', 200),\n",
    "               seed=1,\n",
    "               verbose=True)\n",
    "\n",
    "plot = Scatter()\n",
    "plot.add(problem.pareto_front(), plot_type=\"line\", color=\"black\", alpha=0.7)\n",
    "plot.add(res.F, color=\"red\")\n",
    "plot.show()\n"
   ]
  },
  {
   "cell_type": "markdown",
   "metadata": {},
   "source": [
    "Moreover, we can customize NSGA-II to solve a problem with binary decision variable, for example ZDT5."
   ]
  },
  {
   "cell_type": "code",
   "execution_count": 2,
   "metadata": {
    "code": "algorithms/usage_nsga2_binary.py"
   },
   "outputs": [
    {
     "data": {
      "image/png": "[encoded data removed]",
      "text/plain": [
       "<Figure size 576x432 with 1 Axes>"
      ]
     },
     "metadata": {
      "image/png": {
       "height": 372,
       "width": 498
      },
      "needs_background": "light"
     },
     "output_type": "display_data"
    }
   ],
   "source": [
    "from pymoo.algorithms.nsga2 import NSGA2\n",
    "from pymoo.factory import get_problem, get_sampling, get_crossover, get_mutation\n",
    "from pymoo.optimize import minimize\n",
    "from pymoo.visualization.scatter import Scatter\n",
    "\n",
    "problem = get_problem(\"zdt5\")\n",
    "\n",
    "algorithm = NSGA2(pop_size=100,\n",
    "                  sampling=get_sampling(\"bin_random\"),\n",
    "                  crossover=get_crossover(\"bin_two_point\"),\n",
    "                  mutation=get_mutation(\"bin_bitflip\"),\n",
    "                  eliminate_duplicates=True)\n",
    "\n",
    "res = minimize(problem,\n",
    "               algorithm,\n",
    "               ('n_gen', 500),\n",
    "               seed=1,\n",
    "               verbose=False)\n",
    "\n",
    "\n",
    "Scatter().add(res.F).show()\n",
    "\n"
   ]
  },
  {
   "cell_type": "markdown",
   "metadata": {},
   "source": [
    "### API"
   ]
  },
  {
   "cell_type": "raw",
   "metadata": {
    "raw_mimetype": "text/restructuredtext"
   },
   "source": [
    ".. autoclass:: pymoo.algorithms.nsga2.NSGA2\n",
    "    :noindex:"
   ]
  }
 ],
 "metadata": {
  "celltoolbar": "Raw Cell Format",
  "kernelspec": {
   "display_name": "Python 3",
   "language": "python",
   "name": "python3"
  },
  "language_info": {
   "codemirror_mode": {
    "name": "ipython",
    "version": 3
   },
   "file_extension": ".py",
   "mimetype": "text/x-python",
   "name": "python",
   "nbconvert_exporter": "python",
   "pygments_lexer": "ipython3",
   "version": "3.7.4"
  }
 },
 "nbformat": 4,
 "nbformat_minor": 4
}
