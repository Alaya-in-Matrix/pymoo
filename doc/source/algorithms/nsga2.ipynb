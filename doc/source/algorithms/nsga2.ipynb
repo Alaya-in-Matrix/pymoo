{
 "cells": [
  {
   "cell_type": "raw",
   "metadata": {
    "raw_mimetype": "text/restructuredtext"
   },
   "source": [
    ".. _nb_nsga2:"
   ]
  },
  {
   "cell_type": "markdown",
   "metadata": {},
   "source": [
    "## NSGA-II"
   ]
  },
  {
   "cell_type": "markdown",
   "metadata": {},
   "source": [
    "The algorithm is implemented based on <cite data-cite=\"nsga2\"></cite>. The algorithm follows the general\n",
    "outline of a genetic algorithm with a modifed mating and survival selection. In NSGA-II, first, individuals\n",
    "are selected frontwise. By doing so, there will be the situation where a front needs to be splitted because not all indidividuals are allowed to survive. In this splitting front, solutions are selected based on crowding distance. "
   ]
  },
  {
   "cell_type": "markdown",
   "metadata": {},
   "source": [
    "<div style=\"display: block;margin-left: auto;margin-right: auto;width: 80%;\">\n",
    "![nsga2_survival](../resources/images/nsga2_survival.png)\n",
    "</div>"
   ]
  },
  {
   "cell_type": "markdown",
   "metadata": {},
   "source": [
    "\n",
    "The crowding distance is basically the Manhatten Distance in the objective space. However, the extreme points are desired to be kept every generation and, therefore, get assigned a crowding distance of infinity."
   ]
  },
  {
   "cell_type": "markdown",
   "metadata": {},
   "source": [
    "<div style=\"display: block;margin-left: auto;margin-right: auto;width: 50%;\">\n",
    "![nsga2_crowding](../resources/images/nsga2_crowding.png)\n",
    "</div>"
   ]
  },
  {
   "cell_type": "markdown",
   "metadata": {},
   "source": [
    "Furthermore, to increase some selection preasure NSGA-II uses a binary tournament mating selection. Each individual is first compared by rank and then by crowding distance. There also exists a variant in the original C code where instead of using the rank the domination criterium between two solutions is used."
   ]
  },
  {
   "cell_type": "markdown",
   "metadata": {},
   "source": [
    "### Example"
   ]
  },
  {
   "cell_type": "code",
   "execution_count": 2,
   "metadata": {
    "scrolled": true
   },
   "outputs": [
    {
     "name": "stdout",
     "output_type": "stream",
     "text": [
      "Overwriting ../../../pymoo/usage/nsga2.py\n"
     ]
    }
   ],
   "source": [
    "from pymoo.optimize import minimize\n",
    "from pymoo.factory import get_algorithm\n",
    "from pymoo.util import plotting\n",
    "from pymop.factory import get_problem\n",
    "\n",
    "# create the algorithm object\n",
    "method = get_algorithm(\"nsga2\",\n",
    "                      pop_size=100,\n",
    "                      elimate_duplicates=True)\n",
    "\n",
    "# create the test problem\n",
    "problem = get_problem(\"zdt1\")\n",
    "pf = problem.pareto_front()\n",
    "\n",
    "# execute the optimization\n",
    "res = minimize(problem,\n",
    "               method,\n",
    "               termination=('n_gen', 200),\n",
    "               pf=pf,\n",
    "               disp=False)\n",
    "\n",
    "plotting.plot(pf, res.F, labels=[\"Pareto-front\", \"F\"])\n"
   ]
  },
  {
   "cell_type": "markdown",
   "metadata": {},
   "source": [
    "### API"
   ]
  },
  {
   "cell_type": "raw",
   "metadata": {
    "raw_mimetype": "text/restructuredtext"
   },
   "source": [
    ".. autofunction:: pymoo.algorithms.nsga2.nsga2\n",
    "    :noindex:"
   ]
  }
 ],
 "metadata": {
  "celltoolbar": "Raw Cell Format",
  "kernelspec": {
   "display_name": "Python 3",
   "language": "python",
   "name": "python3"
  },
  "language_info": {
   "codemirror_mode": {
    "name": "ipython",
    "version": 3
   },
   "file_extension": ".py",
   "mimetype": "text/x-python",
   "name": "python",
   "nbconvert_exporter": "python",
   "pygments_lexer": "ipython3",
   "version": "3.6.5"
  }
 },
 "nbformat": 4,
 "nbformat_minor": 2
}
