{
 "cells": [
  {
   "cell_type": "raw",
   "metadata": {
    "raw_mimetype": "text/restructuredtext"
   },
   "source": [
    ".. _nb_nsga2:"
   ]
  },
  {
   "cell_type": "markdown",
   "metadata": {},
   "source": [
    "## NSGA-II"
   ]
  },
  {
   "cell_type": "markdown",
   "metadata": {},
   "source": [
    "The algorithm is fully described in <cite data-cite=\"nsga2\"></cite>. \n",
    "\n",
    "This is a test and now more\n",
    "\n",
    "\n",
    "![nsga2_survival](../resources/images/nsga2_survival.png)\n",
    "\n",
    "And now I am writing a bit more.\n"
   ]
  },
  {
   "cell_type": "markdown",
   "metadata": {},
   "source": [
    "### Example"
   ]
  },
  {
   "cell_type": "code",
   "execution_count": 1,
   "metadata": {},
   "outputs": [
    {
     "data": {
      "image/png": "[encoded data removed]",
      "text/plain": [
       "<Figure size 432x288 with 1 Axes>"
      ]
     },
     "metadata": {},
     "output_type": "display_data"
    }
   ],
   "source": [
    "%matplotlib inline  \n",
    "\n",
    "from pymoo.optimize import minimize\n",
    "from pymoo.util import plotting\n",
    "from pymop.factory import get_problem\n",
    "\n",
    "# create the optimization problem\n",
    "problem = get_problem(\"zdt1\")\n",
    "pf = problem.pareto_front()\n",
    "\n",
    "res = minimize(problem,\n",
    "               method='nsga2',\n",
    "               method_args={'pop_size': 100},\n",
    "               termination=('n_gen', 200),\n",
    "               pf=pf,\n",
    "               save_history=True,\n",
    "               disp=False)\n",
    "\n",
    "plotting.plot(pf, res.F, labels=[\"Pareto-front\", \"F\"])\n"
   ]
  },
  {
   "cell_type": "markdown",
   "metadata": {},
   "source": [
    "### API"
   ]
  },
  {
   "cell_type": "raw",
   "metadata": {
    "raw_mimetype": "text/restructuredtext"
   },
   "source": [
    ".. autofunction:: pymoo.algorithms.nsga2.nsga2"
   ]
  }
 ],
 "metadata": {
  "celltoolbar": "Raw Cell Format",
  "kernelspec": {
   "display_name": "Python 3",
   "language": "python",
   "name": "python3"
  },
  "language_info": {
   "codemirror_mode": {
    "name": "ipython",
    "version": 3
   },
   "file_extension": ".py",
   "mimetype": "text/x-python",
   "name": "python",
   "nbconvert_exporter": "python",
   "pygments_lexer": "ipython3",
   "version": "3.6.5"
  }
 },
 "nbformat": 4,
 "nbformat_minor": 2
}
