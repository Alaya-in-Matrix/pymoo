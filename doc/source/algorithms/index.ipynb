{
 "cells": [
  {
   "cell_type": "raw",
   "metadata": {
    "raw_mimetype": "text/restructuredtext"
   },
   "source": [
    ".. _nb_algorithms:"
   ]
  },
  {
   "cell_type": "raw",
   "metadata": {
    "raw_mimetype": "text/restructuredtext"
   },
   "source": [
    ".. toctree::\n",
    "   :hidden:\n",
    "   :maxdepth: 1\n",
    "\n",
    "   differential_evolution\n",
    "   genetic_algorithm\n",
    "   nsga2\n",
    "   rnsga2\n",
    "   nsga3\n",
    "   unsga3\n",
    "   rnsga3\n",
    "   moead\n"
   ]
  },
  {
   "cell_type": "markdown",
   "metadata": {},
   "source": [
    "## Algorithms\n",
    "\n",
    "In our framework different algorithms can be used. Even though compared to other frameworks the number of algorithms might seem to be small, but they are highly customizable and can be easily extended."
   ]
  },
  {
   "cell_type": "markdown",
   "metadata": {},
   "source": [
    "|Name|Convenience|\n",
    "|---|---|\n",
    "|[Differential Evolution](differential_evolution.ipynb)|\"de\"|\n",
    "|[Genetic Algorithm](genetic_algorithm.ipynb)|\"ga\"|\n",
    "|[NSGA-II](nsga2.ipynb)|\"nsga2\"|\n",
    "|[RNSGA-II](rnsga2.ipynb)|\"rnsga2\"|\n",
    "|[NSGA-III](nsga3.ipynb)|\"nsga3\"|\n",
    "|[UNSGA-III](unsga3.ipynb)|\"unsga3\"|\n",
    "|[RNSGA-III](rnsga3.ipynb)|\"rnsga3\"|\n",
    "|[MOEA/D](moead.ipynb)|\"moead\"|\n"
   ]
  },
  {
   "cell_type": "markdown",
   "metadata": {},
   "source": [
    "Each of them is implemented in a class which can be used directly. However, it might\n",
    "be more comfortable to either use the factory or convenience function.\n",
    "For example for scatter plots the following initiates the same object:"
   ]
  },
  {
   "cell_type": "code",
   "execution_count": 1,
   "metadata": {},
   "outputs": [],
   "source": [
    "from pymoo.algorithms.nsga2 import nsga2\n",
    "algorithm = nsga2()\n",
    "\n",
    "from pymoo.factory import get_algorithm\n",
    "algorithm = get_algorithm(\"nsga2\")"
   ]
  },
  {
   "cell_type": "markdown",
   "metadata": {},
   "source": [
    "For the documentation of each algorithms, we refer to the individual pages."
   ]
  }
 ],
 "metadata": {
  "kernelspec": {
   "display_name": "Python 3",
   "language": "python",
   "name": "python3"
  },
  "language_info": {
   "codemirror_mode": {
    "name": "ipython",
    "version": 3
   },
   "file_extension": ".py",
   "mimetype": "text/x-python",
   "name": "python",
   "nbconvert_exporter": "python",
   "pygments_lexer": "ipython3",
   "version": "3.7.3"
  }
 },
 "nbformat": 4,
 "nbformat_minor": 4
}
