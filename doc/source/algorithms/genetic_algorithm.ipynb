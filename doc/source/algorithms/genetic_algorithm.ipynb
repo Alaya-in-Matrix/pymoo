{
 "cells": [
  {
   "cell_type": "markdown",
   "metadata": {},
   "source": [
    "\n",
    "### Genetic Algorithm\n",
    "\n",
    "A simple genetic algorithm to solve single-objective problems.\n"
   ]
  },
  {
   "cell_type": "code",
   "execution_count": 2,
   "metadata": {},
   "outputs": [
    {
     "name": "stdout",
     "output_type": "stream",
     "text": [
      "Best solution found: [0.99569724 0.97829096 0.99494822 0.99692585 0.95984854 0.97470472\n",
      " 0.95430831 0.99918398 0.95537571 2.84637561 2.65230982 2.63294262\n",
      " 0.96236227]\n",
      "Function value: [-13.76934674]\n"
     ]
    }
   ],
   "source": [
    "from pymoo.optimize import minimize\n",
    "from pymop.factory import get_problem\n",
    "\n",
    "problem = get_problem(\"g01\")\n",
    "\n",
    "res = minimize(problem,\n",
    "               method='ga',\n",
    "               method_args={\n",
    "                   'pop_size': 100,\n",
    "                   'eliminate_duplicates': False,\n",
    "               },\n",
    "               termination=('n_gen', 50),\n",
    "               disp=False)\n",
    "\n",
    "print(\"Best solution found: %s\" % res.X)\n",
    "print(\"Function value: %s\" % res.F)\n",
    "\n"
   ]
  },
  {
   "cell_type": "code",
   "execution_count": null,
   "metadata": {},
   "outputs": [],
   "source": []
  }
 ],
 "metadata": {
  "kernelspec": {
   "display_name": "Python 3",
   "language": "python",
   "name": "python3"
  },
  "language_info": {
   "codemirror_mode": {
    "name": "ipython",
    "version": 3
   },
   "file_extension": ".py",
   "mimetype": "text/x-python",
   "name": "python",
   "nbconvert_exporter": "python",
   "pygments_lexer": "ipython3",
   "version": "3.6.5"
  }
 },
 "nbformat": 4,
 "nbformat_minor": 2
}
