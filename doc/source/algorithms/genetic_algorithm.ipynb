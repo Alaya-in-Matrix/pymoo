{
 "cells": [
  {
   "cell_type": "raw",
   "metadata": {
    "raw_mimetype": "text/restructuredtext"
   },
   "source": [
    ".. _nb_ga:"
   ]
  },
  {
   "cell_type": "markdown",
   "metadata": {},
   "source": [
    "\n",
    "## Genetic Algorithm\n",
    "\n",
    "A simple genetic algorithm to solve single-objective problems.\n"
   ]
  },
  {
   "cell_type": "code",
   "execution_count": 1,
   "metadata": {},
   "outputs": [
    {
     "name": "stdout",
     "output_type": "stream",
     "text": [
      "Best solution found: [0.98832869 0.94839612 0.98956022 0.99875595 0.9947746  0.80696085\n",
      " 0.95649082 0.95138915 0.98460919 2.76442735 2.40642682 2.58967546\n",
      " 0.90119026]\n",
      "Function value: [-12.99569795]\n"
     ]
    }
   ],
   "source": [
    "from pymoo.optimize import minimize\n",
    "from pymop.factory import get_problem\n",
    "\n",
    "problem = get_problem(\"g01\")\n",
    "\n",
    "res = minimize(problem,\n",
    "               method='ga',\n",
    "               method_args={\n",
    "                   'pop_size': 100,\n",
    "                   'eliminate_duplicates': False,\n",
    "               },\n",
    "               termination=('n_gen', 50),\n",
    "               disp=False)\n",
    "\n",
    "print(\"Best solution found: %s\" % res.X)\n",
    "print(\"Function value: %s\" % res.F)\n",
    "\n"
   ]
  },
  {
   "cell_type": "code",
   "execution_count": null,
   "metadata": {},
   "outputs": [],
   "source": []
  }
 ],
 "metadata": {
  "celltoolbar": "Raw Cell Format",
  "kernelspec": {
   "display_name": "Python 3",
   "language": "python",
   "name": "python3"
  },
  "language_info": {
   "codemirror_mode": {
    "name": "ipython",
    "version": 3
   },
   "file_extension": ".py",
   "mimetype": "text/x-python",
   "name": "python",
   "nbconvert_exporter": "python",
   "pygments_lexer": "ipython3",
   "version": "3.6.5"
  }
 },
 "nbformat": 4,
 "nbformat_minor": 2
}
