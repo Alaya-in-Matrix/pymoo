{
 "cells": [
  {
   "cell_type": "raw",
   "metadata": {
    "raw_mimetype": "text/restructuredtext"
   },
   "source": [
    ".. _nb_ga:"
   ]
  },
  {
   "cell_type": "markdown",
   "metadata": {},
   "source": [
    "## Genetic Algorithm\n",
    "\n",
    "This class represents a basic ($\\mu+\\lambda$) genetic algorithm for single-objective problems. The figure below shows the flow of a genetic algorithm in general. In the following, it is explained how *pymoo* does allow to customize the modules.\n",
    "\n",
    "1) **Initial Population:**: A starting population is sampled in the beginning. In this framework, this can be either a [Sampling](/components/sampling.html) object, which defines different initial sampling strategies, or [Population](/api/model.html#pymoo.model.population.Population) where the X and F values are set, or a simple numpy array (pop_size x n_var).\n",
    "\n",
    "2) **Evaluation:** It is executed using the problem defined to be solved.\n",
    "\n",
    "3) **Survival:** It is very often the core of the genetic algorithm that is used. For simple single-objective genetic algorithm, the individuals can be sorted by their fitness and survival of the fittest can be applied.\n",
    "\n",
    "4) [Selection](/components/selection.html): In the beginning of the recombination process individuals need to be slected to participate in mating. Depending on the recombination crossover a different number of parents is is used to select some individual to be the parents of a new offspring. Different kind of selections can increase the convergence of the algorithm.\n",
    "\n",
    "5) [Crossover](/components/crossover.html): When the parents are selected the actual mating is done. A crossover operator combines parents into one or several offspring. Commonly, problem information, such as the variable bounds, are needed to perform the mating. For more customized problems even more information might be necessary (e.g. current generation, diversity meausre of the population, ...)\n",
    "\n",
    "6) [Mutation](/components/mutation.html): It is performed after the offsprings are created through crossover. Usually, the mutation is executed with a predefined probability. This operator helps to increase the diversity in the population.\n"
   ]
  },
  {
   "cell_type": "markdown",
   "metadata": {},
   "source": [
    "<div style=\"display: block;margin-left: auto;margin-right: auto;width: 60%;\">\n",
    "![ga_basic](../resources/images/ga_basic.png)\n",
    "</div>"
   ]
  },
  {
   "cell_type": "markdown",
   "metadata": {},
   "source": [
    " "
   ]
  },
  {
   "cell_type": "markdown",
   "metadata": {},
   "source": [
    "### Example"
   ]
  },
  {
   "cell_type": "code",
   "execution_count": 1,
   "metadata": {},
   "outputs": [
    {
     "name": "stdout",
     "output_type": "stream",
     "text": [
      "Best solution found: \n",
      "X = [0.98228967 0.99971624 0.99948812 0.99672669 0.97569148 0.99942189\n",
      " 0.99676032 0.98876428 0.92171045 2.82441979 2.76634429 2.80413455\n",
      " 0.96146114]\n",
      "F = [-14.13143538]\n"
     ]
    }
   ],
   "source": [
    "from pymoo.optimize import minimize\n",
    "from pymop.factory import get_problem\n",
    "from pymoo.factory import get_algorithm\n",
    "\n",
    "\n",
    "method = get_algorithm(\"ga\", \n",
    "                       pop_size=100, \n",
    "                       eliminate_duplicates=True)\n",
    "\n",
    "res = minimize(get_problem(\"g01\"),\n",
    "               method,\n",
    "               termination=('n_gen', 50),\n",
    "               disp=False)\n",
    "\n",
    "print(\"Best solution found: \\nX = %s\\nF = %s\" % (res.X, res.F))"
   ]
  },
  {
   "cell_type": "markdown",
   "metadata": {},
   "source": [
    "### API"
   ]
  },
  {
   "cell_type": "raw",
   "metadata": {
    "raw_mimetype": "text/restructuredtext"
   },
   "source": [
    ".. autofunction:: pymoo.algorithms.so_genetic_algorithm.ga\n",
    "    :noindex:"
   ]
  }
 ],
 "metadata": {
  "celltoolbar": "Raw Cell Format",
  "kernelspec": {
   "display_name": "Python 3",
   "language": "python",
   "name": "python3"
  },
  "language_info": {
   "codemirror_mode": {
    "name": "ipython",
    "version": 3
   },
   "file_extension": ".py",
   "mimetype": "text/x-python",
   "name": "python",
   "nbconvert_exporter": "python",
   "pygments_lexer": "ipython3",
   "version": "3.6.5"
  }
 },
 "nbformat": 4,
 "nbformat_minor": 2
}
