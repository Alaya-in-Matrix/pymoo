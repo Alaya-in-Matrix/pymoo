{
 "cells": [
  {
   "cell_type": "markdown",
   "metadata": {
    "raw_mimetype": "text/restructuredtext"
   },
   "source": [
    ".. _nb_results:"
   ]
  },
  {
   "cell_type": "markdown",
   "metadata": {},
   "source": [
    "## Results"
   ]
  },
  {
   "cell_type": "markdown",
   "metadata": {},
   "source": [
    "After an algorithm has been executed a result object is returned. In the following, single- and multi-objective runs with and without constraints are shown and the corresponding `Result` object is explained:"
   ]
  },
  {
   "cell_type": "code",
   "execution_count": 1,
   "metadata": {},
   "outputs": [],
   "source": [
    "from pymoo.algorithms.so_genetic_algorithm import GA\n",
    "from pymoo.factory import get_problem\n",
    "from pymoo.optimize import minimize\n",
    "\n",
    "\n",
    "problem = get_problem(\"sphere\")\n",
    "algorithm = GA(pop_size=5)\n",
    "res = minimize(problem,\n",
    "               algorithm,\n",
    "               ('n_gen', 30),\n",
    "               seed=1)\n"
   ]
  },
  {
   "cell_type": "markdown",
   "metadata": {},
   "source": [
    "In this single-objective optimization problem, there exists a single best solution that was found. \n",
    "The result contains directly the best found values in the corresponding spaces. \n",
    "\n",
    "- `res.X` design space values are \n",
    "- `res.F` objective spaces values\n",
    "- `res.G` constraint values\n",
    "- `res.CV` aggregated constraint violation\n",
    "- `res.algorithm` algorithm object\n",
    "- `res.pop` final population object\n",
    "- `res.history` history of algorithm object. (only if `save_history` has been enabled during the algorithm initialization)\n",
    "\n",
    "Note, when the `minimize` function is called a deep copy of the algorithm object is created.\n",
    "This ensures that two independent runs with the same algorithm and same random seed have the same results without any side effects.\n",
    "\n",
    "The values from the final population can be extracted by using the `get` method. \n",
    "The population object is used internally, and store information for each individual. The `get`\n",
    "method allows to return vectors or matrices based on the provided properties.\n"
   ]
  },
  {
   "cell_type": "code",
   "execution_count": 2,
   "metadata": {},
   "outputs": [
    {
     "data": {
      "text/plain": [
       "(array([0.64014154, 0.48263145, 0.49898381, 0.56769556, 0.47794749,\n",
       "        0.67105917, 0.49758836, 0.47342642, 0.48633132, 0.51630811]),\n",
       " array([0.05543735]),\n",
       " None,\n",
       " array([0.]))"
      ]
     },
     "execution_count": 2,
     "metadata": {},
     "output_type": "execute_result"
    }
   ],
   "source": [
    "res.X, res.F, res.G, res.CV"
   ]
  },
  {
   "cell_type": "code",
   "execution_count": 3,
   "metadata": {},
   "outputs": [
    {
     "data": {
      "text/plain": [
       "(<pymoo.algorithms.so_genetic_algorithm.GA at 0x125953ed0>,\n",
       " Population([<pymoo.model.individual.Individual object at 0x125c4d290>,\n",
       "             <pymoo.model.individual.Individual object at 0x125c4d390>,\n",
       "             <pymoo.model.individual.Individual object at 0x125b01b50>,\n",
       "             <pymoo.model.individual.Individual object at 0x125c4d710>,\n",
       "             <pymoo.model.individual.Individual object at 0x125c4d410>],\n",
       "            dtype=object))"
      ]
     },
     "execution_count": 3,
     "metadata": {},
     "output_type": "execute_result"
    }
   ],
   "source": [
    "res.algorithm, res.pop"
   ]
  },
  {
   "cell_type": "markdown",
   "metadata": {},
   "source": [
    "The values from the final population can be extracted by using the `get` method. \n",
    "The population object is used internally, and store information for each individual. The `get`\n",
    "method allows to return vectors or matrices based on the provided properties."
   ]
  },
  {
   "cell_type": "code",
   "execution_count": 4,
   "metadata": {},
   "outputs": [
    {
     "data": {
      "text/plain": [
       "(array([[0.64014154, 0.48263145, 0.49898381, 0.56769556, 0.47794749,\n",
       "         0.67105917, 0.49758836, 0.47342642, 0.48633132, 0.51630811],\n",
       "        [0.64014154, 0.47726981, 0.53101528, 0.56769556, 0.47312045,\n",
       "         0.67105917, 0.49758836, 0.46866063, 0.48633132, 0.51630811],\n",
       "        [0.64014154, 0.42882383, 0.54200361, 0.56769556, 0.47312045,\n",
       "         0.67105917, 0.49758836, 0.46866063, 0.48633132, 0.51630811],\n",
       "        [0.64014154, 0.48263145, 0.58416635, 0.56769556, 0.47819705,\n",
       "         0.67105917, 0.49758836, 0.46866063, 0.48633132, 0.51630811],\n",
       "        [0.64014154, 0.48263145, 0.58416635, 0.56769556, 0.47788436,\n",
       "         0.67105917, 0.49758836, 0.4685275 , 0.48633132, 0.51630811]]),\n",
       " array([[0.05543735],\n",
       "        [0.05712546],\n",
       "        [0.0624772 ],\n",
       "        [0.06278535],\n",
       "        [0.06280745]]))"
      ]
     },
     "execution_count": 4,
     "metadata": {},
     "output_type": "execute_result"
    }
   ],
   "source": [
    "res.pop.get(\"X\"), res.pop.get(\"F\")"
   ]
  },
  {
   "cell_type": "markdown",
   "metadata": {},
   "source": [
    "In this run, the problem did not have any constraints and therefore `res.G` evaluated to `None`.\n",
    "Also note, that `res.CV` will always be set to 0 no matter if the problem has constraints or not."
   ]
  },
  {
   "cell_type": "markdown",
   "metadata": {},
   "source": [
    "Let us consider a problem that has, in fact, constraints:"
   ]
  },
  {
   "cell_type": "code",
   "execution_count": 5,
   "metadata": {},
   "outputs": [
    {
     "name": "stdout",
     "output_type": "stream",
     "text": [
      "======================================================================\n",
      "n_gen | n_eval  | cv (min/avg)                | favg  | fopt \n",
      "======================================================================\n",
      "1     | 5       | 1.350271E+02 / 5.475700E+02 | -     | -    \n",
      "2     | 10      | 1.350271E+02 / 3.607562E+02 | -     | -    \n",
      "3     | 15      | 1.350271E+02 / 2.259881E+02 | -     | -    \n",
      "4     | 20      | 1.350271E+02 / 1.565811E+02 | -     | -    \n",
      "5     | 25      | 3.310368E+01 / 1.096916E+02 | -     | -    \n"
     ]
    }
   ],
   "source": [
    "problem = get_problem(\"g01\")\n",
    "algorithm = GA(pop_size=5)\n",
    "res = minimize(problem,\n",
    "               algorithm,\n",
    "               ('n_gen', 5),\n",
    "               verbose=True,\n",
    "               seed=1)"
   ]
  },
  {
   "cell_type": "code",
   "execution_count": 6,
   "metadata": {},
   "outputs": [
    {
     "data": {
      "text/plain": [
       "(None, None, None, None)"
      ]
     },
     "execution_count": 6,
     "metadata": {},
     "output_type": "execute_result"
    }
   ],
   "source": [
    "res.X, res.F, res.G, res.CV"
   ]
  },
  {
   "cell_type": "markdown",
   "metadata": {},
   "source": [
    "Here, the algorithm was not able to find any feasible solution in 5 generations. Therefore, all values contained in the results are equals to `None`. If in this case the least feasible solution should be returned, the flag `return_least_infeasible` needs to be enabled:"
   ]
  },
  {
   "cell_type": "code",
   "execution_count": 7,
   "metadata": {},
   "outputs": [
    {
     "name": "stdout",
     "output_type": "stream",
     "text": [
      "======================================================================\n",
      "n_gen | n_eval  | cv (min/avg)                | favg  | fopt \n",
      "======================================================================\n",
      "1     | 5       | 1.350271E+02 / 5.475700E+02 | -     | -    \n",
      "2     | 10      | 1.350271E+02 / 3.607562E+02 | -     | -    \n",
      "3     | 15      | 1.350271E+02 / 2.259881E+02 | -     | -    \n",
      "4     | 20      | 1.350271E+02 / 1.565811E+02 | -     | -    \n",
      "5     | 25      | 3.310368E+01 / 1.096916E+02 | -     | -    \n"
     ]
    }
   ],
   "source": [
    "problem = get_problem(\"g01\")\n",
    "algorithm = GA(pop_size=5, return_least_infeasible=True)\n",
    "res = minimize(problem,\n",
    "               algorithm,\n",
    "               ('n_gen', 5),\n",
    "               verbose=True,\n",
    "               seed=1)"
   ]
  },
  {
   "cell_type": "code",
   "execution_count": 8,
   "metadata": {},
   "outputs": [
    {
     "data": {
      "text/plain": [
       "(array([ 0.79663211,  0.90276502,  0.74816565,  0.43310131,  0.78930018,\n",
       "         0.0717483 ,  0.44789353,  0.9028263 ,  0.10182177,  0.23918845,\n",
       "        13.00285721,  1.93669579,  0.67883553]),\n",
       " array([-14.75252652]),\n",
       " array([ 6.64083991, -4.73452024,  8.24141434, -6.13386842,  5.78073708,\n",
       "        -4.04862945, -1.41631436, 12.41146709,  0.02922141]),\n",
       " array([33.10367983]))"
      ]
     },
     "execution_count": 8,
     "metadata": {},
     "output_type": "execute_result"
    }
   ],
   "source": [
    "res.X, res.F, res.G, res.CV"
   ]
  },
  {
   "cell_type": "markdown",
   "metadata": {},
   "source": [
    "We have made this design decision, because an infeasible solution can often not be considered as a solution\n",
    "of the optimization problem. Therefore, having a solution equals to `None` indicates the fact no feasible solution has been found."
   ]
  },
  {
   "cell_type": "markdown",
   "metadata": {},
   "source": [
    "If the problem has multiple objective, the result object has the same structure but `res.X`, `res.F`, `res.G`, `res.CV` are a set \n",
    "of non-dominated solutions instead of a single one."
   ]
  },
  {
   "cell_type": "code",
   "execution_count": 9,
   "metadata": {},
   "outputs": [],
   "source": [
    "from pymoo.algorithms.nsga2 import NSGA2\n",
    "\n",
    "problem = get_problem(\"zdt2\")\n",
    "algorithm = NSGA2()\n",
    "res = minimize(problem,\n",
    "               algorithm,\n",
    "               ('n_gen', 10),\n",
    "               seed=1)"
   ]
  },
  {
   "cell_type": "code",
   "execution_count": 10,
   "metadata": {},
   "outputs": [
    {
     "data": {
      "text/plain": [
       "array([[6.59972937e-04, 3.46313095e+00],\n",
       "       [6.70781056e-02, 2.87596946e+00],\n",
       "       [4.42856882e-05, 3.95330114e+00],\n",
       "       [1.31990677e-02, 3.11337727e+00],\n",
       "       [2.50016243e-04, 3.56762952e+00],\n",
       "       [1.53940423e-03, 3.41822087e+00],\n",
       "       [6.26189621e-04, 3.56293085e+00],\n",
       "       [1.81927730e-03, 3.13899781e+00],\n",
       "       [1.78852173e-04, 3.84385603e+00]])"
      ]
     },
     "execution_count": 10,
     "metadata": {},
     "output_type": "execute_result"
    }
   ],
   "source": [
    "res.F"
   ]
  }
 ],
 "metadata": {
  "kernelspec": {
   "display_name": "Python 3",
   "language": "python",
   "name": "python3"
  },
  "language_info": {
   "codemirror_mode": {
    "name": "ipython",
    "version": 3
   },
   "file_extension": ".py",
   "mimetype": "text/x-python",
   "name": "python",
   "nbconvert_exporter": "python",
   "pygments_lexer": "ipython3",
   "version": "3.7.4"
  }
 },
 "nbformat": 4,
 "nbformat_minor": 4
}
