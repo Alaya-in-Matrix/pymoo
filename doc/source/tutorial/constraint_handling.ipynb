{
 "cells": [
  {
   "cell_type": "markdown",
   "metadata": {},
   "source": [
    "## Constraint Handling"
   ]
  },
  {
   "cell_type": "markdown",
   "metadata": {},
   "source": [
    ""
   ]
  },
  {
   "cell_type": "code",
   "execution_count": null,
   "metadata": {},
   "outputs": [
    {
     "ename": "ModuleNotFoundError",
     "evalue": "No module named 'pymoo'",
     "traceback": [
      "\u001b[0;31m---------------------------------------------------------------------------\u001b[0m",
      "\u001b[0;31mModuleNotFoundError\u001b[0m                       Traceback (most recent call last)",
      "\u001b[0;32m<ipython-input-3-e1feb9dd4fab>\u001b[0m in \u001b[0;36m<module>\u001b[0;34m()\u001b[0m\n\u001b[1;32m      1\u001b[0m \u001b[0;31m# import the necessary classes and functions\u001b[0m\u001b[0;34m\u001b[0m\u001b[0;34m\u001b[0m\u001b[0m\n\u001b[0;32m----> 2\u001b[0;31m \u001b[0;32mfrom\u001b[0m \u001b[0mpymoo\u001b[0m\u001b[0;34m.\u001b[0m\u001b[0moptimize\u001b[0m \u001b[0;32mimport\u001b[0m \u001b[0mminimize\u001b[0m\u001b[0;34m\u001b[0m\u001b[0m\n\u001b[0m\u001b[1;32m      3\u001b[0m \u001b[0;32mfrom\u001b[0m \u001b[0mpymop\u001b[0m\u001b[0;34m.\u001b[0m\u001b[0mfactory\u001b[0m \u001b[0;32mimport\u001b[0m \u001b[0mget_problem\u001b[0m\u001b[0;34m\u001b[0m\u001b[0m\n\u001b[1;32m      4\u001b[0m \u001b[0;32mfrom\u001b[0m \u001b[0mpymoo\u001b[0m\u001b[0;34m.\u001b[0m\u001b[0mmodel\u001b[0m\u001b[0;34m.\u001b[0m\u001b[0mtermination\u001b[0m \u001b[0;32mimport\u001b[0m \u001b[0mMaximumGenerationTermination\u001b[0m\u001b[0;34m,\u001b[0m \u001b[0mTermination\u001b[0m\u001b[0;34m\u001b[0m\u001b[0m\n\u001b[1;32m      5\u001b[0m \u001b[0;34m\u001b[0m\u001b[0m\n",
      "\u001b[0;31mModuleNotFoundError\u001b[0m: No module named 'pymoo'"
     ],
     "output_type": "error"
    }
   ],
   "source": [
    ""
   ]
  },
  {
   "cell_type": "markdown",
   "metadata": {},
   "source": [
    "### Number of Generations\n",
    "\n",
    "First, the number of generations can be used to stop the executation of an algorithm.\n",
    "For any kind of evolutionary algorithm each iteration is called generation. \n"
   ]
  },
  {
   "cell_type": "code",
   "execution_count": 2,
   "metadata": {},
   "outputs": [
    {
     "ename": "NameError",
     "evalue": "name 'minimize' is not defined",
     "traceback": [
      "\u001b[0;31m---------------------------------------------------------------------------\u001b[0m",
      "\u001b[0;31mNameError\u001b[0m                                 Traceback (most recent call last)",
      "\u001b[0;32m<ipython-input-2-cfb012a3ef31>\u001b[0m in \u001b[0;36m<module>\u001b[0;34m()\u001b[0m\n\u001b[0;32m----> 1\u001b[0;31m res = minimize(problem,\n\u001b[0m\u001b[1;32m      2\u001b[0m                \u001b[0mmethod\u001b[0m\u001b[0;34m=\u001b[0m\u001b[0;34m'nsga2'\u001b[0m\u001b[0;34m,\u001b[0m\u001b[0;34m\u001b[0m\u001b[0m\n\u001b[1;32m      3\u001b[0m                \u001b[0mmethod_args\u001b[0m\u001b[0;34m=\u001b[0m\u001b[0;34m{\u001b[0m\u001b[0;34m'pop_size'\u001b[0m\u001b[0;34m:\u001b[0m \u001b[0;36m20\u001b[0m\u001b[0;34m}\u001b[0m\u001b[0;34m,\u001b[0m\u001b[0;34m\u001b[0m\u001b[0m\n\u001b[1;32m      4\u001b[0m                \u001b[0mtermination\u001b[0m\u001b[0;34m=\u001b[0m\u001b[0;34m(\u001b[0m\u001b[0;34m'n_gen'\u001b[0m\u001b[0;34m,\u001b[0m \u001b[0;36m5\u001b[0m\u001b[0;34m)\u001b[0m\u001b[0;34m,\u001b[0m\u001b[0;34m\u001b[0m\u001b[0m\n\u001b[1;32m      5\u001b[0m                \u001b[0mpf\u001b[0m\u001b[0;34m=\u001b[0m\u001b[0mpf\u001b[0m\u001b[0;34m,\u001b[0m\u001b[0;34m\u001b[0m\u001b[0m\n",
      "\u001b[0;31mNameError\u001b[0m: name 'minimize' is not defined"
     ],
     "output_type": "error"
    }
   ],
   "source": [
    "res = minimize(problem,\n",
    "               method='nsga2',\n",
    "               method_args={'pop_size': 20},\n",
    "               termination=('n_gen', 5),\n",
    "               pf=pf,\n",
    "               disp=False)"
   ]
  },
  {
   "cell_type": "markdown",
   "metadata": {},
   "source": [
    "### Number of Function Evaluations\n",
    "\n",
    "Also, the number of function evaluations can be used. Please note that for some algorithms slightly more\n",
    "evaluations will be executed."
   ]
  },
  {
   "cell_type": "code",
   "execution_count": null,
   "metadata": {},
   "outputs": [],
   "source": [
    "res = minimize(problem,\n",
    "               method='nsga2',\n",
    "               method_args={'pop_size': 20},\n",
    "               termination=('n_eval', 80),\n",
    "               pf=pf,\n",
    "               disp=False)"
   ]
  },
  {
   "cell_type": "markdown",
   "metadata": {},
   "source": [
    "### Performance Indicator\n",
    "\n",
    "Furthermore, the performance indicator can be used to determine whether the algorithm should\n",
    "continue the run or not."
   ]
  },
  {
   "cell_type": "code",
   "execution_count": null,
   "metadata": {},
   "outputs": [],
   "source": [
    "res = minimize(problem,\n",
    "               method='nsga2',\n",
    "               method_args={'pop_size': 100},\n",
    "               termination=('igd', 0.1),\n",
    "               pf=pf,\n",
    "               disp=False)"
   ]
  },
  {
   "cell_type": "markdown",
   "metadata": {},
   "source": [
    "### Other method to define the Termination Criterium\n",
    "\n",
    "Moreover, instead of passing the convenience tuple which is loads internally a \n",
    "class implementation of the corresponding termination criterium, the class object can be passed directly."
   ]
  },
  {
   "cell_type": "code",
   "execution_count": null,
   "metadata": {},
   "outputs": [],
   "source": [
    "res = minimize(problem,\n",
    "               method='nsga2',\n",
    "               method_args={'pop_size': 40},\n",
    "               termination=MaximumGenerationTermination(25),\n",
    "               pf=pf,\n",
    "               disp=False)"
   ]
  },
  {
   "cell_type": "markdown",
   "metadata": {},
   "source": [
    "### Custom Termination Criterium\n",
    "\n",
    "Therefore, instead of using a already written termination criterium, \n",
    "you can define a termination class by yourself and pass it to the algorithm.\n",
    "Here the class called `MyTermination` is defined by inherting from the `Termination` class."
   ]
  },
  {
   "cell_type": "code",
   "execution_count": null,
   "metadata": {},
   "outputs": [],
   "source": [
    "# the customized termination criterium\n",
    "class MyTermination(Termination):\n",
    "\n",
    "    def __init__(self, perc_improvement) -> None:\n",
    "        super().__init__()\n",
    "        self.perc_improvement = perc_improvement\n",
    "\n",
    "    def _do_continue(self, algorithm):\n",
    "        import numpy as np\n",
    "        return np.random.random() > self.perc_improvement\n",
    "\n",
    "res = minimize(problem,\n",
    "               method='nsga2',\n",
    "               method_args={'pop_size': 40},\n",
    "               termination=MyTermination(0.01),\n",
    "               save_history=True,\n",
    "               pf=pf,\n",
    "               disp=False)"
   ]
  }
 ],
 "metadata": {
  "kernelspec": {
   "display_name": "Python 3",
   "language": "python",
   "name": "python3"
  },
  "language_info": {
   "codemirror_mode": {
    "name": "ipython",
    "version": 3
   },
   "file_extension": ".py",
   "mimetype": "text/x-python",
   "name": "python",
   "nbconvert_exporter": "python",
   "pygments_lexer": "ipython3",
   "version": "3.6.5"
  }
 },
 "nbformat": 4,
 "nbformat_minor": 2
}
