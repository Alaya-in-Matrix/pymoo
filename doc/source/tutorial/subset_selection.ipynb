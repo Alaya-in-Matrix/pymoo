{
 "cells": [
  {
   "cell_type": "markdown",
   "metadata": {
    "raw_mimetype": "text/restructuredtext"
   },
   "source": [
    ".. _nb_subset_selection:"
   ]
  },
  {
   "cell_type": "markdown",
   "metadata": {},
   "source": [
    "## Subset Selection Problem\n",
    "\n",
    "A genetic algorithm can be used to approach subset selection problems by defining custom operators. In general a metaheuristic algorithm might not be the ultimate goal to implement in a real-world scenario, however, it might be useful to investigate patterns or characteristics of possible good subsets. \n",
    "Let us consider a simple toy problem where we have to select numbers from a list. For every solution exactly 10 numbers have to be selected that their sum is minimized.\n",
    "For subset selection problem a binary encoding can be used where 1 indicates a number is picked. In our problem formulation the list of numbers is represented by $L$ and the binary encoded variable by $x$."
   ]
  },
  {
   "cell_type": "markdown",
   "metadata": {},
   "source": [
    "\n",
    "\\begin{align}\n",
    "\\begin{split}\n",
    "\\min f(x) & = & \\sum_{k=1}^{n} L_k \\cdot x_k\\\\[2mm]\n",
    "\\text{s.t.} \\quad g(x)  & = & (\\sum_{k=1}^{n} x_k - 10)^2\\\\[2mm]\n",
    "\\end{split}\n",
    "\\end{align}\n"
   ]
  },
  {
   "cell_type": "markdown",
   "metadata": {},
   "source": [
    "As shown above, the equality constraint is handled by making sure $g(x)$ can only be zero if exactly 10 numbers are chosen.\n",
    "The problem can be implemented as follows:"
   ]
  },
  {
   "cell_type": "code",
   "execution_count": 1,
   "metadata": {},
   "outputs": [],
   "source": [
    "import numpy as np\n",
    "from pymoo.model.problem import Problem\n",
    "\n",
    "class SubsetProblem(Problem):\n",
    "    def __init__(self,\n",
    "                 L,\n",
    "                 n_max\n",
    "                 ):\n",
    "        super().__init__(n_var=len(L), n_obj=1, n_constr=1, elementwise_evaluation=True)\n",
    "        self.L = L\n",
    "        self.n_max = n_max\n",
    "\n",
    "    def _evaluate(self, x, out, *args, **kwargs):\n",
    "        out[\"F\"] = np.sum(self.L[x])\n",
    "        out[\"G\"] = (self.n_max - np.sum(x)) ** 2\n",
    "    \n",
    "    \n",
    "# create the actual problem to be solved\n",
    "np.random.seed(1)\n",
    "L = np.array([np.random.randint(100) for _ in range(100)])\n",
    "n_max = 10\n",
    "problem = SubsetProblem(L, n_max)\n"
   ]
  },
  {
   "cell_type": "markdown",
   "metadata": {},
   "source": [
    "The customization requires to write custom operators in order to solve this problem efficiently. We recommend to consider the feasibility directly in the evolutionary operators, because otherwise most of the time infeasible solutions will be processed.\n",
    "The sampling creates randomly solution where the subset constraint will always be satisfied. \n",
    "The mutation randomly removes a number and chooses another one. The crossover, first takes the common numbers of both parents and then randomly picks either from the first or from the second parent until enough numbers are picked."
   ]
  },
  {
   "cell_type": "code",
   "execution_count": 2,
   "metadata": {},
   "outputs": [],
   "source": [
    "from pymoo.model.crossover import Crossover\n",
    "from pymoo.model.mutation import Mutation\n",
    "from pymoo.model.sampling import Sampling\n",
    "\n",
    "\n",
    "class MySampling(Sampling):\n",
    "\n",
    "    def _do(self, problem, n_samples, **kwargs):\n",
    "        X = np.full((n_samples, problem.n_var), False, dtype=np.bool)\n",
    "\n",
    "        for k in range(n_samples):\n",
    "            I = np.random.permutation(problem.n_var)[:problem.n_max]\n",
    "            X[k, I] = True\n",
    "\n",
    "        return X\n",
    "\n",
    "\n",
    "class BinaryCrossover(Crossover):\n",
    "    def __init__(self):\n",
    "        super().__init__(2, 1)\n",
    "\n",
    "    def _do(self, problem, X, **kwargs):\n",
    "        n_parents, n_matings, n_var = X.shape\n",
    "\n",
    "        _X = np.full((self.n_offsprings, n_matings, problem.n_var), False)\n",
    "\n",
    "        for k in range(n_matings):\n",
    "            p1, p2 = X[0, k], X[1, k]\n",
    "\n",
    "            both_are_true = np.logical_and(p1, p2)\n",
    "            _X[0, k, both_are_true] = True\n",
    "\n",
    "            n_remaining = problem.n_max - np.sum(both_are_true)\n",
    "\n",
    "            I = np.where(np.logical_xor(p1, p2))[0]\n",
    "\n",
    "            S = I[np.random.permutation(len(I))][:n_remaining]\n",
    "            _X[0, k, S] = True\n",
    "\n",
    "        return _X\n",
    "\n",
    "\n",
    "class MyMutation(Mutation):\n",
    "    def _do(self, problem, X, **kwargs):\n",
    "        for i in range(X.shape[0]):\n",
    "            X[i, :] = X[i, :]\n",
    "            is_false = np.where(np.logical_not(X[i, :]))[0]\n",
    "            is_true = np.where(X[i, :])[0]\n",
    "            X[i, np.random.choice(is_false)] = True\n",
    "            X[i, np.random.choice(is_true)] = False\n",
    "\n",
    "        return X"
   ]
  },
  {
   "cell_type": "markdown",
   "metadata": {},
   "source": [
    "After having defined the operators a genetic algorithm can be initialized."
   ]
  },
  {
   "cell_type": "code",
   "execution_count": 3,
   "metadata": {},
   "outputs": [
    {
     "name": "stdout",
     "output_type": "stream",
     "text": [
      "======================================================================\n",
      "n_gen | n_eval  | cv (min/avg)                | favg         | fopt        \n",
      "======================================================================\n",
      "1     | 100     | 0.0000000000 / 0.0000000000 | 4.439400E+02 | 2.580000E+02\n",
      "2     | 200     | 0.0000000000 / 0.0000000000 | 3.537300E+02 | 2.050000E+02\n",
      "3     | 300     | 0.0000000000 / 0.0000000000 | 2.967100E+02 | 1.580000E+02\n",
      "4     | 400     | 0.0000000000 / 0.0000000000 | 2.460400E+02 | 1.400000E+02\n",
      "5     | 500     | 0.0000000000 / 0.0000000000 | 2.138900E+02 | 1.260000E+02\n",
      "6     | 600     | 0.0000000000 / 0.0000000000 | 1.869100E+02 | 1.170000E+02\n",
      "7     | 700     | 0.0000000000 / 0.0000000000 | 1.616500E+02 | 9.700000E+01\n",
      "8     | 800     | 0.0000000000 / 0.0000000000 | 1.426500E+02 | 9.700000E+01\n",
      "9     | 900     | 0.0000000000 / 0.0000000000 | 1.300700E+02 | 6.700000E+01\n",
      "10    | 1000    | 0.0000000000 / 0.0000000000 | 1.195400E+02 | 6.700000E+01\n"
     ]
    },
    {
     "name": "stdout",
     "output_type": "stream",
     "text": [
      "11    | 1100    | 0.0000000000 / 0.0000000000 | 1.108100E+02 | 5.700000E+01\n",
      "12    | 1200    | 0.0000000000 / 0.0000000000 | 1.021800E+02 | 5.700000E+01\n",
      "13    | 1300    | 0.0000000000 / 0.0000000000 | 9.592000E+01 | 5.700000E+01\n",
      "14    | 1400    | 0.0000000000 / 0.0000000000 | 8.898000E+01 | 5.500000E+01\n",
      "15    | 1500    | 0.0000000000 / 0.0000000000 | 8.368000E+01 | 4.900000E+01\n",
      "16    | 1600    | 0.0000000000 / 0.0000000000 | 7.953000E+01 | 4.900000E+01\n",
      "17    | 1700    | 0.0000000000 / 0.0000000000 | 7.565000E+01 | 4.900000E+01\n",
      "18    | 1800    | 0.0000000000 / 0.0000000000 | 7.155000E+01 | 4.900000E+01\n",
      "19    | 1900    | 0.0000000000 / 0.0000000000 | 6.941000E+01 | 4.600000E+01\n",
      "20    | 2000    | 0.0000000000 / 0.0000000000 | 6.790000E+01 | 4.600000E+01\n"
     ]
    },
    {
     "name": "stdout",
     "output_type": "stream",
     "text": [
      "21    | 2100    | 0.0000000000 / 0.0000000000 | 6.538000E+01 | 4.600000E+01\n",
      "22    | 2200    | 0.0000000000 / 0.0000000000 | 6.350000E+01 | 4.600000E+01\n",
      "23    | 2300    | 0.0000000000 / 0.0000000000 | 6.222000E+01 | 4.500000E+01\n",
      "24    | 2400    | 0.0000000000 / 0.0000000000 | 6.060000E+01 | 4.500000E+01\n",
      "25    | 2500    | 0.0000000000 / 0.0000000000 | 5.918000E+01 | 4.400000E+01\n",
      "26    | 2600    | 0.0000000000 / 0.0000000000 | 5.788000E+01 | 4.200000E+01\n",
      "27    | 2700    | 0.0000000000 / 0.0000000000 | 5.678000E+01 | 4.200000E+01\n",
      "28    | 2800    | 0.0000000000 / 0.0000000000 | 5.548000E+01 | 4.200000E+01\n",
      "29    | 2900    | 0.0000000000 / 0.0000000000 | 5.451000E+01 | 4.200000E+01\n",
      "30    | 3000    | 0.0000000000 / 0.0000000000 | 5.331000E+01 | 4.200000E+01\n"
     ]
    },
    {
     "name": "stdout",
     "output_type": "stream",
     "text": [
      "31    | 3100    | 0.0000000000 / 0.0000000000 | 5.220000E+01 | 4.200000E+01\n",
      "32    | 3200    | 0.0000000000 / 0.0000000000 | 5.158000E+01 | 4.200000E+01\n",
      "33    | 3300    | 0.0000000000 / 0.0000000000 | 5.080000E+01 | 4.200000E+01\n",
      "34    | 3400    | 0.0000000000 / 0.0000000000 | 5.014000E+01 | 3.900000E+01\n",
      "35    | 3500    | 0.0000000000 / 0.0000000000 | 4.958000E+01 | 3.900000E+01\n",
      "36    | 3600    | 0.0000000000 / 0.0000000000 | 4.916000E+01 | 3.900000E+01\n",
      "37    | 3700    | 0.0000000000 / 0.0000000000 | 4.869000E+01 | 3.900000E+01\n",
      "38    | 3800    | 0.0000000000 / 0.0000000000 | 4.846000E+01 | 3.800000E+01\n",
      "39    | 3900    | 0.0000000000 / 0.0000000000 | 4.819000E+01 | 3.800000E+01\n",
      "40    | 4000    | 0.0000000000 / 0.0000000000 | 4.789000E+01 | 3.800000E+01\n"
     ]
    },
    {
     "name": "stdout",
     "output_type": "stream",
     "text": [
      "41    | 4100    | 0.0000000000 / 0.0000000000 | 4.728000E+01 | 3.800000E+01\n",
      "42    | 4200    | 0.0000000000 / 0.0000000000 | 4.708000E+01 | 3.800000E+01\n",
      "43    | 4300    | 0.0000000000 / 0.0000000000 | 4.677000E+01 | 3.800000E+01\n",
      "44    | 4400    | 0.0000000000 / 0.0000000000 | 4.640000E+01 | 3.800000E+01\n",
      "45    | 4500    | 0.0000000000 / 0.0000000000 | 4.610000E+01 | 3.700000E+01\n",
      "46    | 4600    | 0.0000000000 / 0.0000000000 | 4.578000E+01 | 3.700000E+01\n",
      "47    | 4700    | 0.0000000000 / 0.0000000000 | 4.565000E+01 | 3.700000E+01\n",
      "48    | 4800    | 0.0000000000 / 0.0000000000 | 4.554000E+01 | 3.700000E+01\n",
      "49    | 4900    | 0.0000000000 / 0.0000000000 | 4.536000E+01 | 3.700000E+01\n",
      "50    | 5000    | 0.0000000000 / 0.0000000000 | 4.531000E+01 | 3.700000E+01\n"
     ]
    },
    {
     "name": "stdout",
     "output_type": "stream",
     "text": [
      "51    | 5100    | 0.0000000000 / 0.0000000000 | 4.509000E+01 | 3.700000E+01\n",
      "52    | 5200    | 0.0000000000 / 0.0000000000 | 4.480000E+01 | 3.700000E+01\n",
      "53    | 5300    | 0.0000000000 / 0.0000000000 | 4.456000E+01 | 3.700000E+01\n",
      "54    | 5400    | 0.0000000000 / 0.0000000000 | 4.444000E+01 | 3.700000E+01\n",
      "55    | 5500    | 0.0000000000 / 0.0000000000 | 4.431000E+01 | 3.700000E+01\n",
      "56    | 5600    | 0.0000000000 / 0.0000000000 | 4.431000E+01 | 3.700000E+01\n",
      "57    | 5700    | 0.0000000000 / 0.0000000000 | 4.424000E+01 | 3.700000E+01\n",
      "58    | 5800    | 0.0000000000 / 0.0000000000 | 4.411000E+01 | 3.700000E+01\n",
      "59    | 5900    | 0.0000000000 / 0.0000000000 | 4.402000E+01 | 3.700000E+01\n",
      "60    | 6000    | 0.0000000000 / 0.0000000000 | 4.364000E+01 | 3.600000E+01\n",
      "Function value: 36\n",
      "Subset: [ 5  9 12 31 36 37 47 52 68 99]\n"
     ]
    }
   ],
   "source": [
    "from pymoo.algorithms.so_genetic_algorithm import GA\n",
    "from pymoo.optimize import minimize\n",
    "\n",
    "algorithm = GA(\n",
    "    pop_size=100,\n",
    "    sampling=MySampling(),\n",
    "    crossover=BinaryCrossover(),\n",
    "    mutation=MyMutation(),\n",
    "    eliminate_duplicates=True)\n",
    "\n",
    "res = minimize(problem,\n",
    "               algorithm,\n",
    "               ('n_gen', 60),\n",
    "               seed=1,\n",
    "               verbose=True)\n",
    "\n",
    "print(\"Function value: %s\" % res.F[0])\n",
    "print(\"Subset:\", np.where(res.X)[0])\n"
   ]
  },
  {
   "cell_type": "markdown",
   "metadata": {},
   "source": [
    "Finally, we can compare the found subset with the optimum known simply through sorting:"
   ]
  },
  {
   "cell_type": "code",
   "execution_count": 4,
   "metadata": {},
   "outputs": [
    {
     "name": "stdout",
     "output_type": "stream",
     "text": [
      "Optimal Subset: [ 5  9 12 31 36 37 47 52 68 99]\n",
      "Optimal Function Value: 36\n"
     ]
    }
   ],
   "source": [
    "opt = np.sort(np.argsort(L)[:n_max])\n",
    "print(\"Optimal Subset:\", opt)\n",
    "print(\"Optimal Function Value: %s\" % L[opt].sum())"
   ]
  }
 ],
 "metadata": {
  "kernelspec": {
   "display_name": "Python 3",
   "language": "python",
   "name": "python3"
  },
  "language_info": {
   "codemirror_mode": {
    "name": "ipython",
    "version": 3
   },
   "file_extension": ".py",
   "mimetype": "text/x-python",
   "name": "python",
   "nbconvert_exporter": "python",
   "pygments_lexer": "ipython3",
   "version": "3.7.4"
  }
 },
 "nbformat": 4,
 "nbformat_minor": 4
}
