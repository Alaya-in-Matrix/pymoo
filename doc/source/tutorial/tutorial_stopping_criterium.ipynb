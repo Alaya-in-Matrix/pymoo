{
 "cells": [
  {
   "cell_type": "markdown",
   "metadata": {},
   "source": [
    "## Termination Criteria"
   ]
  },
  {
   "cell_type": "markdown",
   "metadata": {},
   "source": [
    "Different termination criteria can be used to determin how long an alorithm shoud run until the result is returned. In *pymoo* different ways to set the termination criteria are provided.\n",
    "\n",
    "1) Commonly used criteria can be set by using tupels e.g. `('n_gen', 5)`\n",
    "\n",
    "2) An existing class inheriting from `Termination` can be passed\n",
    "\n",
    "3) A custom class can be created and used to determine the termination\n",
    "\n",
    "In the following each of these possible termination criterium is shown in an example. Please note, that some of them are only applicable for test problems where the optimal solution(s) is/are known.\n"
   ]
  },
  {
   "cell_type": "code",
   "execution_count": 6,
   "metadata": {},
   "outputs": [],
   "source": [
    "# import the necessary classes and functions\n",
    "from pymoo.optimize import minimize\n",
    "from pymop.factory import get_problem\n",
    "from pymoo.factory import get_algorithm\n",
    "from pymoo.model.termination import MaximumGenerationTermination, Termination\n",
    "\n",
    "# create a test problem for the purpose of demonstration\n",
    "problem = get_problem(\"zdt1\")\n",
    "pf = problem.pareto_front()"
   ]
  },
  {
   "cell_type": "markdown",
   "metadata": {},
   "source": [
    "### Number of Generations\n",
    "\n",
    "First, the number of generations can be used to stop the executation of an algorithm.\n",
    "For any kind of evolutionary algorithm each iteration is called generation. \n"
   ]
  },
  {
   "cell_type": "code",
   "execution_count": 7,
   "metadata": {},
   "outputs": [],
   "source": [
    "res = minimize(problem,\n",
    "               method=get_algorithm('nsga2', pop_size=20),\n",
    "               termination=('n_gen', 5)\n",
    "              )"
   ]
  },
  {
   "cell_type": "markdown",
   "metadata": {},
   "source": [
    "### Number of Function Evaluations\n",
    "\n",
    "Also, the number of function evaluations can be used. Please note that for some algorithms slightly more\n",
    "evaluations will be executed."
   ]
  },
  {
   "cell_type": "code",
   "execution_count": 8,
   "metadata": {},
   "outputs": [],
   "source": [
    "res = minimize(problem,\n",
    "               method=get_algorithm('nsga2', pop_size=20),\n",
    "               termination=('n_eval', 80)\n",
    "              )"
   ]
  },
  {
   "cell_type": "markdown",
   "metadata": {},
   "source": [
    "### Performance Indicator\n",
    "\n",
    "Furthermore, the performance indicator can be used to determine whether the algorithm should\n",
    "continue the run or not."
   ]
  },
  {
   "cell_type": "code",
   "execution_count": 10,
   "metadata": {},
   "outputs": [],
   "source": [
    "res = minimize(problem,\n",
    "               method=get_algorithm('nsga2', pop_size=20),\n",
    "               termination=('igd', 0.1),\n",
    "               pf=pf\n",
    "              )"
   ]
  },
  {
   "cell_type": "markdown",
   "metadata": {},
   "source": [
    "### Other method to define the Termination Criterium\n",
    "\n",
    "Moreover, instead of passing the convenience tuple which is loads internally a \n",
    "class implementation of the corresponding termination criterium, the class object can be passed directly."
   ]
  },
  {
   "cell_type": "code",
   "execution_count": 11,
   "metadata": {},
   "outputs": [],
   "source": [
    "res = minimize(problem,\n",
    "               method=get_algorithm('nsga2', pop_size=20),\n",
    "               termination=MaximumGenerationTermination(25),\n",
    "              )"
   ]
  },
  {
   "cell_type": "markdown",
   "metadata": {},
   "source": [
    "### Custom Termination Criterium\n",
    "\n",
    "Therefore, instead of using a already written termination criterium, \n",
    "you can define a termination class by yourself and pass it to the algorithm.\n",
    "Here the class called `MyTermination` is defined by inherting from the `Termination` class."
   ]
  },
  {
   "cell_type": "code",
   "execution_count": 12,
   "metadata": {},
   "outputs": [],
   "source": [
    "# the customized termination criterium\n",
    "class MyTermination(Termination):\n",
    "\n",
    "    def __init__(self, perc_improvement) -> None:\n",
    "        super().__init__()\n",
    "        self.perc_improvement = perc_improvement\n",
    "\n",
    "    def _do_continue(self, algorithm):\n",
    "        import numpy as np\n",
    "        return np.random.random() > self.perc_improvement\n",
    "\n",
    "res = minimize(problem,\n",
    "               method=get_algorithm('nsga2', pop_size=20),\n",
    "               termination=MyTermination(0.01),\n",
    "              )  "
   ]
  }
 ],
 "metadata": {
  "kernelspec": {
   "display_name": "Python 3",
   "language": "python",
   "name": "python3"
  },
  "language_info": {
   "codemirror_mode": {
    "name": "ipython",
    "version": 3
   },
   "file_extension": ".py",
   "mimetype": "text/x-python",
   "name": "python",
   "nbconvert_exporter": "python",
   "pygments_lexer": "ipython3",
   "version": "3.6.5"
  }
 },
 "nbformat": 4,
 "nbformat_minor": 2
}
