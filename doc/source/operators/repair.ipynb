{
 "cells": [
  {
   "cell_type": "markdown",
   "metadata": {
    "raw_mimetype": "text/restructuredtext"
   },
   "source": [
    ".. _nb_repair:"
   ]
  },
  {
   "cell_type": "markdown",
   "metadata": {},
   "source": [
    "# Repair\n",
    "\n",
    "The repair operator is mostly problem-dependent. Most commonly, it is used to make sure the algorithm is only searching in the feasible space. It is applied after the offsprings have been reproduced. In the following, we are using the knapsack problem to demonstrate the repair operator in *pymoo*.\n"
   ]
  },
  {
   "cell_type": "markdown",
   "metadata": {},
   "source": [
    "In the well-known **Knapsack Problem**. In this problem, a knapsack has to be filled with items without violating the maximum weight constraint. Each item $j$ has a value $b_j \\geq 0$  and a weight $w_j \\geq 0$ where $j \\in \\{1, .., m\\}$. The binary decision vector $z = (z_1, .., z_m)$ defines, if an item is picked or not. The aim is to maximize the profit $g(z)$:\n",
    "\n",
    "\\begin{eqnarray}\n",
    "max & & g(z) \\\\[2mm] \\notag \n",
    "\\text{s.t.} & & \\sum_{j=1}^m z_j \\, w_j \\leq Q \\\\[1mm] \\notag \n",
    "& & z = (z_1, .., z_m) \\in \\mathbb{B}^m \\\\[1mm] \\notag \n",
    "g(z) & = & \\sum_{j=1}^{m}  z_j \\, b_j \\\\[2mm] \\notag \n",
    "\\end{eqnarray}\n",
    "\n",
    "\n",
    "A simple GA will have some infeasible evaluations in the beginning and then concentrate on the infeasible space.\n"
   ]
  },
  {
   "cell_type": "code",
   "execution_count": 1,
   "metadata": {},
   "outputs": [
    {
     "name": "stdout",
     "output_type": "stream",
     "text": [
      "===========================================================================\n",
      "n_gen |  n_eval |   cv (min)   |   cv (avg)   |     fopt     |     favg    \n",
      "===========================================================================\n",
      "    1 |     200 |  2.36000E+02 |  5.18510E+02 |            - |            -\n",
      "    2 |     400 |  2.14000E+02 |  3.84785E+02 |            - |            -\n",
      "    3 |     600 |  3.20000E+01 |  3.00710E+02 |            - |            -\n",
      "    4 |     800 |  2.20000E+01 |  2.27005E+02 |            - |            -\n",
      "    5 |    1000 |  0.00000E+00 |  1.55975E+02 | -4.18000E+02 | -3.10571E+02\n",
      "    6 |    1200 |  0.00000E+00 |  8.82700E+01 | -4.46000E+02 | -2.78000E+02\n",
      "    7 |    1400 |  0.00000E+00 |  3.87350E+01 | -4.47000E+02 | -2.90621E+02\n",
      "    8 |    1600 |  0.00000E+00 |  5.860000000 | -4.82000E+02 | -2.96737E+02\n",
      "    9 |    1800 |  0.00000E+00 |  0.00000E+00 | -5.34000E+02 | -3.18290E+02\n",
      "   10 |    2000 |  0.00000E+00 |  0.00000E+00 | -5.60000E+02 | -3.81665E+02\n"
     ]
    }
   ],
   "source": [
    "from pymoo.factory import get_crossover, get_mutation, get_sampling\n",
    "from pymoo.optimize import minimize\n",
    "from pymoo.algorithms.soo.nonconvex.ga import GA\n",
    "from pymoo.problems.single.knapsack import create_random_knapsack_problem\n",
    "\n",
    "problem = create_random_knapsack_problem(30)\n",
    "\n",
    "\n",
    "algorithm = GA(pop_size=200,\n",
    "               sampling=get_sampling(\"bin_random\"),\n",
    "               crossover=get_crossover(\"bin_hux\"),\n",
    "               mutation=get_mutation(\"bin_bitflip\"),\n",
    "               eliminate_duplicates=True)\n",
    "\n",
    "\n",
    "res = minimize(problem,\n",
    "               algorithm,\n",
    "               termination=('n_gen', 10),\n",
    "               verbose=True)"
   ]
  },
  {
   "cell_type": "markdown",
   "metadata": {},
   "source": [
    "\n",
    "Because the constraint $\\sum_{j=1}^m z_j \\, w_j \\leq Q$ is fairly easy to satisfy. Therefore, we can make sure that this constraint is not violated by repairing the individual before evaluating the objective function.\n",
    "A repair class has to be defined, and the population is given as input. The repaired population has to be returned."
   ]
  },
  {
   "cell_type": "code",
   "execution_count": 2,
   "metadata": {},
   "outputs": [],
   "source": [
    "import numpy as np\n",
    "from pymoo.model.repair import Repair\n",
    "\n",
    "\n",
    "class ConsiderMaximumWeightRepair(Repair):\n",
    "\n",
    "    def _do(self, problem, pop, **kwargs):\n",
    "        \n",
    "        # maximum capacity for the problem\n",
    "        Q = problem.C\n",
    "        \n",
    "        # the packing plan for the whole population (each row one individual)\n",
    "        Z = pop.get(\"X\")\n",
    "        \n",
    "        # the corresponding weight of each individual\n",
    "        weights = (Z * problem.W).sum(axis=1)\n",
    "        \n",
    "        # now repair each indvidiual i\n",
    "        for i in range(len(Z)):\n",
    "            \n",
    "            # the packing plan for i\n",
    "            z = Z[i]\n",
    "            \n",
    "            # while the maximum capacity violation holds\n",
    "            while weights[i] > Q:\n",
    "                \n",
    "                # randomly select an item currently picked\n",
    "                item_to_remove = np.random.choice(np.where(z)[0])\n",
    "                \n",
    "                # and remove it\n",
    "                z[item_to_remove] = False\n",
    "                \n",
    "                # adjust the weight\n",
    "                weights[i] -= problem.W[item_to_remove]\n",
    "          \n",
    "        # set the design variables for the population\n",
    "        pop.set(\"X\", Z)\n",
    "        return pop"
   ]
  },
  {
   "cell_type": "code",
   "execution_count": 3,
   "metadata": {},
   "outputs": [
    {
     "name": "stdout",
     "output_type": "stream",
     "text": [
      "===========================================================================\n",
      "n_gen |  n_eval |   cv (min)   |   cv (avg)   |     fopt     |     favg    \n",
      "===========================================================================\n",
      "    1 |     175 |  0.00000E+00 |  0.00000E+00 | -4.29000E+02 | -1.54211E+02\n",
      "    2 |     375 |  0.00000E+00 |  0.00000E+00 | -4.32000E+02 | -2.43935E+02\n",
      "    3 |     575 |  0.00000E+00 |  0.00000E+00 | -4.86000E+02 | -3.08655E+02\n",
      "    4 |     775 |  0.00000E+00 |  0.00000E+00 | -5.50000E+02 | -3.59660E+02\n",
      "    5 |     975 |  0.00000E+00 |  0.00000E+00 | -5.65000E+02 | -4.00830E+02\n",
      "    6 |    1175 |  0.00000E+00 |  0.00000E+00 | -6.21000E+02 | -4.36275E+02\n",
      "    7 |    1375 |  0.00000E+00 |  0.00000E+00 | -6.57000E+02 | -4.71575E+02\n",
      "    8 |    1575 |  0.00000E+00 |  0.00000E+00 | -6.64000E+02 | -5.06620E+02\n",
      "    9 |    1775 |  0.00000E+00 |  0.00000E+00 | -6.70000E+02 | -5.31635E+02\n",
      "   10 |    1975 |  0.00000E+00 |  0.00000E+00 | -6.70000E+02 | -5.51240E+02\n"
     ]
    }
   ],
   "source": [
    "algorithm = GA(pop_size=200,\n",
    "               sampling=get_sampling(\"bin_random\"),\n",
    "               crossover=get_crossover(\"bin_hux\"),\n",
    "               mutation=get_mutation(\"bin_bitflip\"),\n",
    "               repair=ConsiderMaximumWeightRepair(),\n",
    "               eliminate_duplicates=True)\n",
    "\n",
    "\n",
    "\n",
    "res = minimize(problem,\n",
    "               algorithm,\n",
    "               termination=('n_gen', 10),\n",
    "               verbose=True)\n"
   ]
  },
  {
   "cell_type": "markdown",
   "metadata": {},
   "source": [
    "As demonstrated, the repair operator makes sure no infeasible solution is evaluated. Even though this example seems to be quite easy, the repair operator makes especially sense for more complex constraints where domain-specific knowledge is known."
   ]
  }
 ],
 "metadata": {
  "kernelspec": {
   "display_name": "Python 3",
   "language": "python",
   "name": "python3"
  },
  "language_info": {
   "codemirror_mode": {
    "name": "ipython",
    "version": 3
   },
   "file_extension": ".py",
   "mimetype": "text/x-python",
   "name": "python",
   "nbconvert_exporter": "python",
   "pygments_lexer": "ipython3",
   "version": "3.7.3"
  }
 },
 "nbformat": 4,
 "nbformat_minor": 4
}
