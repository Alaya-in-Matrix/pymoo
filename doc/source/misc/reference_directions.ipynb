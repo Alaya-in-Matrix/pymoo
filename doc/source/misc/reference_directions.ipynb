{
 "cells": [
  {
   "cell_type": "markdown",
   "metadata": {
    "raw_mimetype": "text/restructuredtext"
   },
   "source": [
    ".. _nb_ref_dirs:"
   ]
  },
  {
   "cell_type": "markdown",
   "metadata": {},
   "source": [
    "## Reference Directions\n",
    "\n",
    "One strategy to tackle multi-objective optimization problem is making use of so called reference direction. Reference directions are used to decomposed the problem into subproblems. Different decomposition techniques exist. \n",
    "\n",
    "For reference directions in an n-dimensional space \n",
    "\n",
    "$$\n",
    "\\sum_{i=1}^{n} w_i = 1\n",
    "$$\n",
    "\n",
    "is supposed to hold. Visually, this means all points are on a unit simplex\n"
   ]
  },
  {
   "cell_type": "markdown",
   "metadata": {},
   "source": [
    "### Uniform Sampling\n",
    "\n",
    "Points can be uniformly create on the unit simplex using the Das-Dennis method proposed in <cite data-cite=\"das_dennis\"></cite>.\n"
   ]
  },
  {
   "cell_type": "code",
   "execution_count": 1,
   "metadata": {},
   "outputs": [],
   "source": [
    "import matplotlib.pyplot as plt\n",
    "\n",
    "from pymoo.factory import get_visualization, get_reference_directions\n",
    "from pymoo.util.reference_direction import UniformReferenceDirectionFactory\n",
    "\n",
    "ref_dirs = get_reference_directions(\"das-dennis\", 3, n_partitions=5)\n",
    "get_visualization(\"scatter\", angle=(45,45)).add(ref_dirs).show()"
   ]
  },
  {
   "cell_type": "markdown",
   "metadata": {},
   "source": [
    "The number of partitions can be varied. However, not for any arbitrary number of desired weights uniform reference direction can be sampled.\n",
    "\n"
   ]
  },
  {
   "cell_type": "code",
   "execution_count": 2,
   "metadata": {},
   "outputs": [],
   "source": [
    "ref_dirs = get_reference_directions(\"das-dennis\", 3, n_partitions=12)\n",
    "get_visualization(\"scatter\", angle=(45,45)).add(ref_dirs).show()"
   ]
  },
  {
   "cell_type": "markdown",
   "metadata": {},
   "source": [
    "Furthermore, scaling can be used to combined different uniform simplex samples with each other.\n",
    "For example of the reference direction with more equal weights should be emphasized the following can be used:"
   ]
  },
  {
   "cell_type": "code",
   "execution_count": 3,
   "metadata": {},
   "outputs": [],
   "source": [
    "from pymoo.util.reference_direction import MultiLayerReferenceDirectionFactory\n",
    "\n",
    "ref_dirs = get_reference_directions(\n",
    "    \"multi-layer\",\n",
    "    get_reference_directions(\"das-dennis\", 3, n_partitions=12, scaling=1.0),\n",
    "    get_reference_directions(\"das-dennis\", 3, n_partitions=12, scaling=0.5)\n",
    ")\n",
    "\n",
    "get_visualization(\"scatter\", angle=(45, 45)).add(ref_dirs).show()\n"
   ]
  },
  {
   "cell_type": "markdown",
   "metadata": {},
   "source": [
    "Moreover, a common technique is to use scaling for many-objective problems, because too large partition numbers will cause many reference-direction to be used. Therefore,  "
   ]
  },
  {
   "cell_type": "markdown",
   "metadata": {},
   "source": [
    "### Cluster-Based Sampling\n",
    "\n",
    "Another approach is based on reduction of many randomly sampled points on the unit simplex. For the method we refer to <cite data-cite=\"ref_dirs\"></cite>."
   ]
  },
  {
   "cell_type": "code",
   "execution_count": 4,
   "metadata": {},
   "outputs": [],
   "source": [
    "ref_dirs = get_reference_directions(\"red\", 3, n_points=30)\n",
    "get_visualization(\"scatter\", angle=(45,45)).add(ref_dirs).show()"
   ]
  },
  {
   "cell_type": "code",
   "execution_count": 5,
   "metadata": {},
   "outputs": [],
   "source": [
    "ref_dirs = get_reference_directions(\"red\", 3, n_points=31)\n",
    "get_visualization(\"scatter\", angle=(45,45)).add(ref_dirs).show()"
   ]
  },
  {
   "cell_type": "code",
   "execution_count": 6,
   "metadata": {},
   "outputs": [],
   "source": [
    "ref_dirs = get_reference_directions(\"red\", 3, n_points=120, sampling=\"kraemer\")\n",
    "get_visualization(\"scatter\", angle=(45,45)).add(ref_dirs).show()"
   ]
  },
  {
   "cell_type": "code",
   "execution_count": 7,
   "metadata": {},
   "outputs": [],
   "source": [
    "ref_dirs = get_reference_directions(\"red\", 3, n_points=120, sampling=\"das-dennis\")\n",
    "get_visualization(\"scatter\", angle=(45,45)).add(ref_dirs).show()"
   ]
  }
 ],
 "metadata": {
  "kernelspec": {
   "display_name": "Python 3",
   "language": "python",
   "name": "python3"
  },
  "language_info": {
   "codemirror_mode": {
    "name": "ipython",
    "version": 3
   },
   "file_extension": ".py",
   "mimetype": "text/x-python",
   "name": "python",
   "nbconvert_exporter": "python",
   "pygments_lexer": "ipython3",
   "version": "3.7.4"
  }
 },
 "nbformat": 4,
 "nbformat_minor": 2
}
