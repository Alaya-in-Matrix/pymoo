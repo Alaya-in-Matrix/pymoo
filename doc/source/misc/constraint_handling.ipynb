{
 "cells": [
  {
   "cell_type": "raw",
   "metadata": {
    "raw_mimetype": "text/restructuredtext"
   },
   "source": [
    ".. _nb_constraint_handling:"
   ]
  },
  {
   "cell_type": "markdown",
   "metadata": {},
   "source": [
    "## Constraint Handling"
   ]
  },
  {
   "cell_type": "markdown",
   "metadata": {},
   "source": [
    "### Inequality Constraints"
   ]
  },
  {
   "cell_type": "markdown",
   "metadata": {},
   "source": [
    "**If somebody is interested in implementing or willing to make contribution(s) regarding constraint handling of inequality constraints please let us know.\n",
    "The G problem is suite is already available to experiment with different algorithms. So far, mostly parameter-less constraint handling is used for our algorithms.**"
   ]
  },
  {
   "cell_type": "markdown",
   "metadata": {},
   "source": [
    "### Equality Constraints"
   ]
  },
  {
   "cell_type": "markdown",
   "metadata": {},
   "source": [
    "We got a couple of questions of how equality constraints should be handled in a genetic algorithm. In general, functions without any smoothness are challenging to handle for genetic algorithms. An equality constraint is basically an extreme case, where the constraint violation is 0 at exactly one point and otherwise 1. \n",
    "\n",
    "Let us consider the following constraint $g(x)$ where $x$ represents a variable:"
   ]
  },
  {
   "cell_type": "markdown",
   "metadata": {},
   "source": [
    "$g(x): x = 5$"
   ]
  },
  {
   "cell_type": "markdown",
   "metadata": {},
   "source": [
    "An equality constraint can be expressed by an inequality constraint:"
   ]
  },
  {
   "cell_type": "markdown",
   "metadata": {},
   "source": [
    "$g(x): |x - 5| \\leq 0$   "
   ]
  },
  {
   "cell_type": "markdown",
   "metadata": {},
   "source": [
    "or"
   ]
  },
  {
   "cell_type": "markdown",
   "metadata": {},
   "source": [
    "$g(x): (x-5)^2   \\leq 0$"
   ]
  },
  {
   "cell_type": "markdown",
   "metadata": {},
   "source": [
    "However, all of constraints above are very strict and make **most of the search space infeasible**. Without providing more information to the algorithm those constraint are very difficult to satisfy."
   ]
  },
  {
   "cell_type": "markdown",
   "metadata": {},
   "source": [
    "For this reason, the constraint can be smoothed by adding an epsilon to it and, therefore, having two inequality constraints:"
   ]
  },
  {
   "cell_type": "markdown",
   "metadata": {},
   "source": [
    "$g'(x): 5 - \\epsilon \\leq x \\leq 5 + \\epsilon$"
   ]
  },
  {
   "cell_type": "markdown",
   "metadata": {},
   "source": [
    "Also, it can be simply expressed in one inequality constraint by:"
   ]
  },
  {
   "cell_type": "markdown",
   "metadata": {},
   "source": [
    "$g'(x): (x-5)^2  - \\hat{\\epsilon} \\leq 0$"
   ]
  },
  {
   "cell_type": "markdown",
   "metadata": {},
   "source": [
    "Depending on the $\\epsilon$ the solutions will be more or less close to the desired value. However, the genetic algorithm does not know anything about the problem itself which makes it difficult to handle and focus the search in the infeasible space."
   ]
  },
  {
   "cell_type": "markdown",
   "metadata": {},
   "source": [
    "**Constraint Handling Through Repair**"
   ]
  },
  {
   "cell_type": "markdown",
   "metadata": {},
   "source": [
    "A simple approach is to handle constraints through a repair function. This is only possible if the equation of the constraint is known. The repair makes sure every solution that is evaluated is in fact feasible. Let us consider the following example where \n",
    "the equality constraints need to consider more than one variable:"
   ]
  },
  {
   "cell_type": "markdown",
   "metadata": {},
   "source": [
    "\\begin{align} \n",
    "\\begin{split}\n",
    "\\min \\;\\; & f_1(x) = (x_1^2 + x_2^2) \\\\ \n",
    "\\max \\;\\; & f_2(x) = -(x_1-1)^2 - x_2^2 \\\\[1mm]\n",
    "\\text{s.t.} \\;\\; & g_1(x_1, x_3) : x_1 + x_3 = 2\\\\[2mm]\n",
    "& -2 \\leq x_1 \\leq 2 \\\\\n",
    "& -2 \\leq x_2 \\leq 2 \\\\\n",
    "& -2 \\leq x_3 \\leq 2\n",
    "\\end{split}\n",
    "\\end{align}"
   ]
  },
  {
   "cell_type": "markdown",
   "metadata": {},
   "source": [
    "We implement the problem using by squaring the term and using an $\\epsilon$ as we have explained above. The source code for the problem looks as follows:"
   ]
  },
  {
   "cell_type": "code",
   "execution_count": 1,
   "metadata": {},
   "outputs": [],
   "source": [
    "import numpy as np\n",
    "\n",
    "from pymoo.model.problem import Problem\n",
    "\n",
    "\n",
    "class MyProblem(Problem):\n",
    "\n",
    "    def __init__(self):\n",
    "        super().__init__(n_var=3,\n",
    "                         n_obj=2,\n",
    "                         n_constr=1,\n",
    "                         xl=np.array([-2, -2, -2]),\n",
    "                         xu=np.array([2, 2, 2]))\n",
    "\n",
    "    def _evaluate(self, x, out, *args, **kwargs):\n",
    "        f1 = x[:, 0] ** 2 + x[:, 1] ** 2\n",
    "        f2 = (x[:, 0] - 1) ** 2 + x[:, 1] ** 2\n",
    "        g1 = (x[:, 0] + x[:, 2] - 2) ** 2 - 1e-5\n",
    "\n",
    "        out[\"F\"] = np.column_stack([f1, f2])\n",
    "        out[\"G\"] = g1\n"
   ]
  },
  {
   "cell_type": "markdown",
   "metadata": {},
   "source": [
    "As you might have noticed the problem has similar characteristics to problem in our getting started. \n",
    "Before a solution is evaluated a repair function is called. To make sure a solution is feasible, an approach would be to either set $x_3 = 2 - x_1$ or $x_1 = 2 - x_3$. Additionally, we need to consider that this repair might produce a variable to be out of bounds."
   ]
  },
  {
   "cell_type": "code",
   "execution_count": 2,
   "metadata": {},
   "outputs": [],
   "source": [
    "from pymoo.model.repair import Repair\n",
    "\n",
    "class MyRepair(Repair):\n",
    "\n",
    "    def _do(self, problem, pop, **kwargs):\n",
    "        for k in range(len(pop)):\n",
    "            x = pop[k].X\n",
    "            if np.random.random() < 0.5:\n",
    "                \n",
    "                x[2] = 2 - x[0]\n",
    "                if x[2] > 2:\n",
    "                    val = x[2] - 2\n",
    "                    x[0] += val\n",
    "                    x[2] -= val\n",
    "                    \n",
    "            else:\n",
    "                x[0] = 2 - x[2]\n",
    "                if x[0] > 2:\n",
    "                    val = x[0] - 2\n",
    "                    x[2] += val\n",
    "                    x[0] -= val\n",
    "                \n",
    "                \n",
    "        return pop"
   ]
  },
  {
   "cell_type": "markdown",
   "metadata": {},
   "source": [
    "Now the algorithm object needs to be initialized with the repair operator and then can be run to solve the problem:"
   ]
  },
  {
   "cell_type": "code",
   "execution_count": 3,
   "metadata": {},
   "outputs": [
    {
     "name": "stdout",
     "output_type": "stream",
     "text": [
      "====================================================================================================\n",
      "n_gen |  n_eval |   cv (min)   |   cv (avg)   |  n_nds  | delta_ideal  | delta_nadir  |   delta_f   \n",
      "====================================================================================================\n",
      "    1 |     100 |  0.00000E+00 |  0.00000E+00 |       5 |            - |            - |            -\n",
      "    2 |     200 |  0.00000E+00 |  0.00000E+00 |      11 |  0.055618092 |  0.382047403 |  0.096263287\n",
      "    3 |     300 |  0.00000E+00 |  0.00000E+00 |      17 |  0.025842665 |  0.072750314 |  0.046188141\n",
      "    4 |     400 |  0.00000E+00 |  0.00000E+00 |      26 |  0.002336572 |  0.002145159 |  0.016904647\n",
      "    5 |     500 |  0.00000E+00 |  0.00000E+00 |      40 |  0.001211493 |  0.033700365 |  0.011954721\n",
      "    6 |     600 |  0.00000E+00 |  0.00000E+00 |      52 |  0.000354057 |  0.074158937 |  0.013012498\n",
      "    7 |     700 |  0.00000E+00 |  0.00000E+00 |      72 |  0.000168691 |  0.004156081 |  0.005414720\n",
      "    8 |     800 |  0.00000E+00 |  0.00000E+00 |      93 |  0.000132785 |  0.002663388 |  0.003651793\n",
      "    9 |     900 |  0.00000E+00 |  0.00000E+00 |     100 |  0.001164071 |  0.066694097 |  0.003943605\n",
      "   10 |    1000 |  0.00000E+00 |  0.00000E+00 |     100 |  0.000020720 |  0.000020118 |  0.002154514\n",
      "   11 |    1100 |  0.00000E+00 |  0.00000E+00 |     100 |  0.000662304 |  0.034574202 |  0.002045963\n",
      "   12 |    1200 |  0.00000E+00 |  0.00000E+00 |     100 |  3.95143E-06 |  3.97141E-06 |  0.001283364\n",
      "   13 |    1300 |  0.00000E+00 |  0.00000E+00 |     100 |  5.98088E-07 |  0.003889728 |  0.001839679\n",
      "   14 |    1400 |  0.00000E+00 |  0.00000E+00 |     100 |  3.73314E-06 |  0.003870320 |  0.001734946\n",
      "   15 |    1500 |  0.00000E+00 |  0.00000E+00 |     100 |  9.00323E-07 |  9.04885E-07 |  0.001569638\n",
      "   16 |    1600 |  0.00000E+00 |  0.00000E+00 |     100 |  0.00000E+00 |  0.00000E+00 |  0.001456301\n",
      "   17 |    1700 |  0.00000E+00 |  0.00000E+00 |     100 |  0.00000E+00 |  0.00000E+00 |  0.001513338\n",
      "   18 |    1800 |  0.00000E+00 |  0.00000E+00 |     100 |  4.30341E-06 |  0.008379175 |  0.001564359\n",
      "   19 |    1900 |  0.00000E+00 |  0.00000E+00 |     100 |  0.00000E+00 |  0.00000E+00 |  0.001293048\n",
      "   20 |    2000 |  0.00000E+00 |  0.00000E+00 |     100 |  0.00000E+00 |  0.00000E+00 |  0.001524912\n"
     ]
    },
    {
     "data": {
      "image/png": "[encoded data removed]",
      "text/plain": [
       "<Figure size 576x432 with 1 Axes>"
      ]
     },
     "metadata": {
      "image/png": {
       "height": 372,
       "width": 498
      },
      "needs_background": "light"
     },
     "output_type": "display_data"
    }
   ],
   "source": [
    "from pymoo.algorithms.nsga2 import NSGA2\n",
    "\n",
    "algorithm = NSGA2(pop_size=100, repair=MyRepair(), eliminate_duplicates=True)\n",
    "\n",
    "from pymoo.optimize import minimize\n",
    "from pymoo.visualization.scatter import Scatter\n",
    "\n",
    "res = minimize(MyProblem(),\n",
    "               algorithm,\n",
    "               ('n_gen', 20),\n",
    "               seed=1,\n",
    "               verbose=True)\n",
    "\n",
    "plot = Scatter()\n",
    "plot.add(res.F, color=\"red\")\n",
    "plot.show()"
   ]
  },
  {
   "cell_type": "markdown",
   "metadata": {},
   "source": [
    "In our case it is easy to verify if the constraint is violated or not:"
   ]
  },
  {
   "cell_type": "code",
   "execution_count": 4,
   "metadata": {},
   "outputs": [
    {
     "name": "stdout",
     "output_type": "stream",
     "text": [
      "[2. 2. 2. 2. 2. 2. 2. 2. 2. 2. 2. 2. 2. 2. 2. 2. 2. 2. 2. 2. 2. 2. 2. 2.\n",
      " 2. 2. 2. 2. 2. 2. 2. 2. 2. 2. 2. 2. 2. 2. 2. 2. 2. 2. 2. 2. 2. 2. 2. 2.\n",
      " 2. 2. 2. 2. 2. 2. 2. 2. 2. 2. 2. 2. 2. 2. 2. 2. 2. 2. 2. 2. 2. 2. 2. 2.\n",
      " 2. 2. 2. 2. 2. 2. 2. 2. 2. 2. 2. 2. 2. 2. 2. 2. 2. 2. 2. 2. 2. 2. 2. 2.\n",
      " 2. 2. 2. 2.]\n"
     ]
    }
   ],
   "source": [
    "print(res.X[:, 0] + res.X[:, 2])"
   ]
  },
  {
   "cell_type": "markdown",
   "metadata": {},
   "source": [
    "If you would like to compare the solution without a repair you will see how searching only in the feasible space helps:"
   ]
  },
  {
   "cell_type": "code",
   "execution_count": 5,
   "metadata": {},
   "outputs": [
    {
     "name": "stdout",
     "output_type": "stream",
     "text": [
      "====================================================================================================\n",
      "n_gen |  n_eval |   cv (min)   |   cv (avg)   |  n_nds  | delta_ideal  | delta_nadir  |   delta_f   \n",
      "====================================================================================================\n",
      "    1 |     100 |  0.000035699 |  7.218880160 |       1 |            - |            - |            -\n",
      "    2 |     200 |  0.000035699 |  0.937483763 |       1 |  0.00000E+00 |  0.00000E+00 |  0.00000E+00\n",
      "    3 |     300 |  0.000035699 |  0.098161741 |       1 |  0.00000E+00 |  0.00000E+00 |  0.00000E+00\n",
      "    4 |     400 |  0.00000E+00 |  0.024978835 |       1 |  3.360562566 |  3.360562566 |  4.74270E+30\n",
      "    5 |     500 |  0.00000E+00 |  0.007024606 |       1 |  0.00000E+00 |  0.00000E+00 |  0.00000E+00\n",
      "    6 |     600 |  0.00000E+00 |  0.001830226 |       1 |  0.00000E+00 |  0.00000E+00 |  0.00000E+00\n",
      "    7 |     700 |  0.00000E+00 |  0.000759620 |       2 |  1.000000000 |  1.000000000 |  0.707106781\n",
      "    8 |     800 |  0.00000E+00 |  0.000303923 |       2 |  0.00000E+00 |  0.00000E+00 |  0.00000E+00\n",
      "    9 |     900 |  0.00000E+00 |  0.000120410 |       2 |  0.00000E+00 |  0.00000E+00 |  0.00000E+00\n",
      "   10 |    1000 |  0.00000E+00 |  0.000059157 |       2 |  0.00000E+00 |  0.00000E+00 |  0.00000E+00\n",
      "   11 |    1100 |  0.00000E+00 |  0.000032714 |       2 |  0.00000E+00 |  0.00000E+00 |  0.00000E+00\n",
      "   12 |    1200 |  0.00000E+00 |  0.000018232 |       1 |  0.426183586 |  1.806170339 |  6.01738E+29\n",
      "   13 |    1300 |  0.00000E+00 |  8.43545E-06 |       1 |  0.00000E+00 |  0.00000E+00 |  0.00000E+00\n",
      "   14 |    1400 |  0.00000E+00 |  2.73546E-06 |       1 |  0.00000E+00 |  0.00000E+00 |  0.00000E+00\n",
      "   15 |    1500 |  0.00000E+00 |  1.84774E-07 |       1 |  0.00000E+00 |  0.00000E+00 |  0.00000E+00\n",
      "   16 |    1600 |  0.00000E+00 |  0.00000E+00 |       1 |  0.00000E+00 |  0.00000E+00 |  0.00000E+00\n",
      "   17 |    1700 |  0.00000E+00 |  0.00000E+00 |       1 |  0.00000E+00 |  0.00000E+00 |  0.00000E+00\n",
      "   18 |    1800 |  0.00000E+00 |  0.00000E+00 |       1 |  0.018400947 |  0.018400947 |  2.60223E+28\n",
      "   19 |    1900 |  0.00000E+00 |  0.00000E+00 |       1 |  0.015017065 |  0.015017065 |  2.12368E+28\n",
      "   20 |    2000 |  0.00000E+00 |  0.00000E+00 |       1 |  0.00000E+00 |  0.00000E+00 |  0.00000E+00\n"
     ]
    },
    {
     "data": {
      "image/png": "[encoded data removed]",
      "text/plain": [
       "<Figure size 576x432 with 1 Axes>"
      ]
     },
     "metadata": {
      "image/png": {
       "height": 372,
       "width": 526
      },
      "needs_background": "light"
     },
     "output_type": "display_data"
    }
   ],
   "source": [
    "algorithm = NSGA2(pop_size=100, eliminate_duplicates=True)\n",
    "\n",
    "res = minimize(MyProblem(),\n",
    "               algorithm,\n",
    "               ('n_gen', 20),\n",
    "               seed=1,\n",
    "               verbose=True)\n",
    "\n",
    "plot = Scatter()\n",
    "plot.add(res.F, color=\"red\")\n",
    "plot.show()\n",
    "\n"
   ]
  },
  {
   "cell_type": "code",
   "execution_count": 6,
   "metadata": {},
   "outputs": [
    {
     "name": "stdout",
     "output_type": "stream",
     "text": [
      "[1.99825371]\n"
     ]
    }
   ],
   "source": [
    "print(res.X[:, 0] + res.X[:, 2])"
   ]
  },
  {
   "cell_type": "markdown",
   "metadata": {},
   "source": [
    "Here in fact the $\\epsilon$ term is necessary to find any feasible solution at all."
   ]
  }
 ],
 "metadata": {
  "kernelspec": {
   "display_name": "Python 3",
   "language": "python",
   "name": "python3"
  },
  "language_info": {
   "codemirror_mode": {
    "name": "ipython",
    "version": 3
   },
   "file_extension": ".py",
   "mimetype": "text/x-python",
   "name": "python",
   "nbconvert_exporter": "python",
   "pygments_lexer": "ipython3",
   "version": "3.7.4"
  }
 },
 "nbformat": 4,
 "nbformat_minor": 4
}
