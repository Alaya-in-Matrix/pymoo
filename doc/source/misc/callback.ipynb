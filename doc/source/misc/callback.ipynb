{
 "cells": [
  {
   "cell_type": "markdown",
   "metadata": {
    "raw_mimetype": "text/restructuredtext"
   },
   "source": [
    ".. _nb_callback:"
   ]
  },
  {
   "cell_type": "markdown",
   "metadata": {},
   "source": [
    "## Callback Function"
   ]
  },
  {
   "cell_type": "markdown",
   "metadata": {},
   "source": [
    "Moreover, the callback function can be used to execute a function each generation. \n",
    "This can be useful to print custom output or perform generational post-processing.\n",
    "\n",
    "For instance, to overwrite the custom print each generation:"
   ]
  },
  {
   "cell_type": "code",
   "execution_count": 1,
   "metadata": {
    "code": "algorithms/usage_custom_output.py"
   },
   "outputs": [
    {
     "name": "stdout",
     "output_type": "stream",
     "text": [
      "My Custom Output: 1     | 100     | 3.4068938395 | 4.4904152796 | 0.0000000000\n",
      "My Custom Output: 2     | 200     | 3.4068938395 | 4.1121617389 | 0.0000000000\n",
      "My Custom Output: 3     | 300     | 3.3159589611 | 3.8537078661 | 0.0000000000\n",
      "My Custom Output: 4     | 400     | 3.2146794649 | 3.5878158468 | 0.0000000000\n",
      "My Custom Output: 5     | 500     | 2.9864175509 | 3.3905357110 | 0.0000000000\n",
      "My Custom Output: 6     | 600     | 2.7945273953 | 3.2972062538 | 0.0000000000\n",
      "My Custom Output: 7     | 700     | 2.7945273953 | 3.2104683100 | 0.0000000000\n",
      "My Custom Output: 8     | 800     | 2.7263366816 | 2.9436474598 | 0.0000000000\n",
      "My Custom Output: 9     | 900     | 2.5060995727 | 2.7295135760 | 0.0000000000\n",
      "My Custom Output: 10    | 1000    | 2.2650145244 | 2.6078074972 | 0.0000000000\n"
     ]
    }
   ],
   "source": [
    "from pymoo.algorithms.nsga2 import NSGA2\n",
    "from pymoo.factory import get_problem\n",
    "from pymoo.optimize import minimize\n",
    "\n",
    "\n",
    "def my_callback(algorithm):\n",
    "    disp = algorithm.func_display_attrs(algorithm.problem, algorithm.evaluator, algorithm, algorithm.pf)\n",
    "    print(\"My Custom Output: \", end='')\n",
    "    algorithm._display(disp)\n",
    "\n",
    "\n",
    "problem = get_problem(\"zdt2\")\n",
    "\n",
    "algorithm = NSGA2(pop_size=100, elimate_duplicates=True, callback=my_callback)\n",
    "\n",
    "res = minimize(problem,\n",
    "               algorithm,\n",
    "               ('n_gen', 10),\n",
    "               seed=1,\n",
    "               verbose=False)\n",
    "\n"
   ]
  },
  {
   "cell_type": "markdown",
   "metadata": {},
   "source": [
    "Analogously, custom plots each generation or an animation can be created."
   ]
  }
 ],
 "metadata": {
  "kernelspec": {
   "display_name": "Python 3",
   "language": "python",
   "name": "python3"
  },
  "language_info": {
   "codemirror_mode": {
    "name": "ipython",
    "version": 3
   },
   "file_extension": ".py",
   "mimetype": "text/x-python",
   "name": "python",
   "nbconvert_exporter": "python",
   "pygments_lexer": "ipython3",
   "version": "3.7.4"
  }
 },
 "nbformat": 4,
 "nbformat_minor": 4
}
