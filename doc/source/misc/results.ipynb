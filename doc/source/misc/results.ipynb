{
 "cells": [
  {
   "cell_type": "markdown",
   "metadata": {
    "raw_mimetype": "text/restructuredtext"
   },
   "source": [
    ".. _nb_results:"
   ]
  },
  {
   "cell_type": "markdown",
   "metadata": {},
   "source": [
    "## Results"
   ]
  },
  {
   "cell_type": "markdown",
   "metadata": {},
   "source": [
    "After an algorithm has been executed a result object is returned. In the following, single- and multi-objective runs with and without constraints are shown and the corresponding `Result` object is explained:"
   ]
  },
  {
   "cell_type": "code",
   "execution_count": 1,
   "metadata": {},
   "outputs": [],
   "source": [
    "from pymoo.algorithms.so_genetic_algorithm import GA\n",
    "from pymoo.factory import get_problem\n",
    "from pymoo.optimize import minimize\n",
    "\n",
    "\n",
    "problem = get_problem(\"sphere\")\n",
    "algorithm = GA(pop_size=5)\n",
    "res = minimize(problem,\n",
    "               algorithm,\n",
    "               ('n_gen', 30),\n",
    "               seed=1)\n"
   ]
  },
  {
   "cell_type": "markdown",
   "metadata": {},
   "source": [
    "In this single-objective optimization problem, there exists a single best solution that was found. \n",
    "The result contains directly the best found values in the corresponding spaces. \n",
    "\n",
    "- `res.X` design space values are \n",
    "- `res.F` objective spaces values\n",
    "- `res.G` constraint values\n",
    "- `res.CV` aggregated constraint violation\n",
    "- `res.algorithm` algorithm object\n",
    "- `res.pop` final population object\n",
    "- `res.history` history of algorithm object. (only if `save_history` has been enabled during the algorithm initialization)\n",
    "\n",
    "Note, when the `minimize` function is called a deep copy of the algorithm object is created.\n",
    "This ensures that two independent runs with the same algorithm and same random seed have the same results without any side effects.\n",
    "\n",
    "The values from the final population can be extracted by using the `get` method. \n",
    "The population object is used internally, and store information for each individual. The `get`\n",
    "method allows to return vectors or matrices based on the provided properties.\n"
   ]
  },
  {
   "cell_type": "code",
   "execution_count": 2,
   "metadata": {},
   "outputs": [
    {
     "data": {
      "text/plain": [
       "(array([0.41919891, 0.47902208, 0.36089478, 0.5115848 , 0.45634212,\n",
       "        0.54653289, 0.37113741, 0.40521917, 0.36873299, 0.52631462]),\n",
       " array([0.07403714]),\n",
       " None,\n",
       " array([0.]))"
      ]
     },
     "execution_count": 2,
     "metadata": {},
     "output_type": "execute_result"
    }
   ],
   "source": [
    "res.X, res.F, res.G, res.CV"
   ]
  },
  {
   "cell_type": "code",
   "execution_count": 3,
   "metadata": {},
   "outputs": [
    {
     "data": {
      "text/plain": [
       "(<pymoo.algorithms.so_genetic_algorithm.GA at 0x11f794e10>,\n",
       " Population([<pymoo.model.individual.Individual object at 0x11f7a2550>,\n",
       "             <pymoo.model.individual.Individual object at 0x11f7a2650>,\n",
       "             <pymoo.model.individual.Individual object at 0x11f7a2590>,\n",
       "             <pymoo.model.individual.Individual object at 0x11f7a2810>,\n",
       "             <pymoo.model.individual.Individual object at 0x11f7a2990>],\n",
       "            dtype=object))"
      ]
     },
     "execution_count": 3,
     "metadata": {},
     "output_type": "execute_result"
    }
   ],
   "source": [
    "res.algorithm, res.pop"
   ]
  },
  {
   "cell_type": "markdown",
   "metadata": {},
   "source": [
    "The values from the final population can be extracted by using the `get` method. \n",
    "The population object is used internally, and store information for each individual. The `get`\n",
    "method allows to return vectors or matrices based on the provided properties."
   ]
  },
  {
   "cell_type": "code",
   "execution_count": 4,
   "metadata": {},
   "outputs": [
    {
     "data": {
      "text/plain": [
       "(array([[0.41919891, 0.47902208, 0.36089478, 0.5115848 , 0.45634212,\n",
       "         0.54653289, 0.37113741, 0.40521917, 0.36873299, 0.52631462],\n",
       "        [0.41919891, 0.51282797, 0.36089478, 0.51388238, 0.44440297,\n",
       "         0.54653289, 0.37113741, 0.45001996, 0.33100837, 0.51291793],\n",
       "        [0.41919891, 0.50077623, 0.36089478, 0.51328358, 0.61967624,\n",
       "         0.54653289, 0.37113741, 0.40521917, 0.37235219, 0.53021809],\n",
       "        [0.41919891, 0.51282797, 0.36089478, 0.51388238, 0.64152746,\n",
       "         0.54653289, 0.37113741, 0.40521917, 0.37502487, 0.51449625],\n",
       "        [0.41919891, 0.50077623, 0.36089478, 0.51328358, 0.42256495,\n",
       "         0.54653289, 0.37113741, 0.40521917, 0.32833565, 0.52863977]]),\n",
       " array([[0.07403714],\n",
       "        [0.07932131],\n",
       "        [0.08533991],\n",
       "        [0.08984959],\n",
       "        [0.09009549]]))"
      ]
     },
     "execution_count": 4,
     "metadata": {},
     "output_type": "execute_result"
    }
   ],
   "source": [
    "res.pop.get(\"X\"), res.pop.get(\"F\")"
   ]
  },
  {
   "cell_type": "markdown",
   "metadata": {},
   "source": [
    "In this run, the problem did not have any constraints and therefore `res.G` evaluated to `None`.\n",
    "Also note, that `res.CV` will always be set to 0 no matter if the problem has constraints or not."
   ]
  },
  {
   "cell_type": "markdown",
   "metadata": {},
   "source": [
    "Let us consider a problem that has, in fact, constraints:"
   ]
  },
  {
   "cell_type": "code",
   "execution_count": 5,
   "metadata": {},
   "outputs": [
    {
     "name": "stdout",
     "output_type": "stream",
     "text": [
      "===========================================================================\n",
      "n_gen |  n_eval |   cv (min)   |   cv (avg)   |     favg     |     fopt    \n",
      "===========================================================================\n",
      "    1 |       5 |  1.35027E+02 |  5.47570E+02 |            - |            -\n",
      "    2 |      10 |  1.35027E+02 |  3.60756E+02 |            - |            -\n",
      "    3 |      15 |  1.35027E+02 |  2.25988E+02 |            - |            -\n",
      "    4 |      20 |  1.35027E+02 |  1.44347E+02 |            - |            -\n",
      "    5 |      25 |  1.35009E+02 |  1.35709E+02 |            - |            -\n"
     ]
    }
   ],
   "source": [
    "problem = get_problem(\"g01\")\n",
    "algorithm = GA(pop_size=5)\n",
    "res = minimize(problem,\n",
    "               algorithm,\n",
    "               ('n_gen', 5),\n",
    "               verbose=True,\n",
    "               seed=1)"
   ]
  },
  {
   "cell_type": "code",
   "execution_count": 6,
   "metadata": {},
   "outputs": [
    {
     "data": {
      "text/plain": [
       "(None, None, None, None)"
      ]
     },
     "execution_count": 6,
     "metadata": {},
     "output_type": "execute_result"
    }
   ],
   "source": [
    "res.X, res.F, res.G, res.CV"
   ]
  },
  {
   "cell_type": "markdown",
   "metadata": {},
   "source": [
    "Here, the algorithm was not able to find any feasible solution in 5 generations. Therefore, all values contained in the results are equals to `None`. If in this case the least feasible solution should be returned, the flag `return_least_infeasible` needs to be enabled:"
   ]
  },
  {
   "cell_type": "code",
   "execution_count": 7,
   "metadata": {},
   "outputs": [
    {
     "name": "stdout",
     "output_type": "stream",
     "text": [
      "===========================================================================\n",
      "n_gen |  n_eval |   cv (min)   |   cv (avg)   |     favg     |     fopt    \n",
      "===========================================================================\n",
      "    1 |       5 |  1.35027E+02 |  5.47570E+02 |            - |            -\n",
      "    2 |      10 |  1.35027E+02 |  3.60756E+02 |            - |            -\n",
      "    3 |      15 |  1.35027E+02 |  2.25988E+02 |            - |            -\n",
      "    4 |      20 |  1.35027E+02 |  1.44347E+02 |            - |            -\n",
      "    5 |      25 |  1.35009E+02 |  1.35709E+02 |            - |            -\n"
     ]
    }
   ],
   "source": [
    "problem = get_problem(\"g01\")\n",
    "algorithm = GA(pop_size=5, return_least_infeasible=True)\n",
    "res = minimize(problem,\n",
    "               algorithm,\n",
    "               ('n_gen', 5),\n",
    "               verbose=True,\n",
    "               seed=1)"
   ]
  },
  {
   "cell_type": "code",
   "execution_count": 8,
   "metadata": {},
   "outputs": [
    {
     "data": {
      "text/plain": [
       "(array([ 0.75014431,  0.99342958,  0.74816565,  0.28044399,  0.78927933,\n",
       "         0.10322601,  0.44789353,  0.9085955 ,  0.29361415, 28.77753386,\n",
       "        13.00285721,  1.93669579,  0.67883553]),\n",
       " array([-44.01771073]),\n",
       " array([35.26753887, 23.71084958,  8.42274348, 22.77637934,  5.05542053,\n",
       "        -4.04862945, 27.42736655, 12.34851167, -0.17410937]),\n",
       " array([135.00881002]))"
      ]
     },
     "execution_count": 8,
     "metadata": {},
     "output_type": "execute_result"
    }
   ],
   "source": [
    "res.X, res.F, res.G, res.CV"
   ]
  },
  {
   "cell_type": "markdown",
   "metadata": {},
   "source": [
    "We have made this design decision, because an infeasible solution can often not be considered as a solution\n",
    "of the optimization problem. Therefore, having a solution equals to `None` indicates the fact no feasible solution has been found."
   ]
  },
  {
   "cell_type": "markdown",
   "metadata": {},
   "source": [
    "If the problem has multiple objective, the result object has the same structure but `res.X`, `res.F`, `res.G`, `res.CV` are a set \n",
    "of non-dominated solutions instead of a single one."
   ]
  },
  {
   "cell_type": "code",
   "execution_count": 9,
   "metadata": {},
   "outputs": [],
   "source": [
    "from pymoo.algorithms.nsga2 import NSGA2\n",
    "\n",
    "problem = get_problem(\"zdt2\")\n",
    "algorithm = NSGA2()\n",
    "res = minimize(problem,\n",
    "               algorithm,\n",
    "               ('n_gen', 10),\n",
    "               seed=1)"
   ]
  },
  {
   "cell_type": "code",
   "execution_count": 10,
   "metadata": {},
   "outputs": [
    {
     "data": {
      "text/plain": [
       "array([[9.20203865e-01, 2.78196295e+00],\n",
       "       [8.44885722e-01, 3.00931642e+00],\n",
       "       [3.22198205e-04, 3.29352972e+00],\n",
       "       [2.31557361e-05, 3.58881094e+00],\n",
       "       [5.05496673e-04, 3.28432654e+00],\n",
       "       [1.46697798e-02, 3.14288874e+00],\n",
       "       [2.61436263e-01, 3.11387760e+00],\n",
       "       [1.37675126e-02, 3.18163525e+00]])"
      ]
     },
     "execution_count": 10,
     "metadata": {},
     "output_type": "execute_result"
    }
   ],
   "source": [
    "res.F"
   ]
  }
 ],
 "metadata": {
  "kernelspec": {
   "display_name": "Python 3",
   "language": "python",
   "name": "python3"
  },
  "language_info": {
   "codemirror_mode": {
    "name": "ipython",
    "version": 3
   },
   "file_extension": ".py",
   "mimetype": "text/x-python",
   "name": "python",
   "nbconvert_exporter": "python",
   "pygments_lexer": "ipython3",
   "version": "3.7.4"
  }
 },
 "nbformat": 4,
 "nbformat_minor": 4
}
