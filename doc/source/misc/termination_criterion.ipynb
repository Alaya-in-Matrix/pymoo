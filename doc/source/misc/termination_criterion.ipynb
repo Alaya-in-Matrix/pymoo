{
 "cells": [
  {
   "cell_type": "raw",
   "metadata": {
    "raw_mimetype": "text/restructuredtext"
   },
   "source": [
    ".. _nb_termination:"
   ]
  },
  {
   "cell_type": "markdown",
   "metadata": {},
   "source": [
    "## Termination Criterion"
   ]
  },
  {
   "cell_type": "markdown",
   "metadata": {},
   "source": [
    "Whenever an algorithm is executed it needs to be decided whether a next iteration should be started  or not. For single-objective algorithms a naive implementation can consider the relative improvement in the last $n$ generations.\n"
   ]
  },
  {
   "cell_type": "raw",
   "metadata": {
    "raw_mimetype": "text/restructuredtext"
   },
   "source": [
    ".. _nb_n_eval:"
   ]
  },
  {
   "cell_type": "markdown",
   "metadata": {},
   "source": [
    "### Number of Evaluations ('n_eval')"
   ]
  },
  {
   "cell_type": "markdown",
   "metadata": {},
   "source": [
    "The termination can simply be reached by providing an upper bound for the number of function evaluations. Whenever, in an iteration the number of function evaluations is larger than this upper bound the algorithm terminates."
   ]
  },
  {
   "cell_type": "code",
   "execution_count": 1,
   "metadata": {
    "code": "termination/usage_n_eval.py"
   },
   "outputs": [
    {
     "name": "stdout",
     "output_type": "stream",
     "text": [
      "============================================================\n",
      "n_gen |  n_eval |     igd      |      gd      |      hv     \n",
      "============================================================\n",
      "    1 |     100 |  2.083143534 |  2.470275711 |  0.00000E+00\n",
      "    2 |     200 |  2.083143534 |  2.541012214 |  0.00000E+00\n",
      "    3 |     300 |  1.645150200 |  2.643981779 |  0.00000E+00\n"
     ]
    }
   ],
   "source": [
    "from pymoo.algorithms.nsga2 import NSGA2\n",
    "from pymoo.factory import get_problem, get_termination\n",
    "from pymoo.optimize import minimize\n",
    "\n",
    "problem = get_problem(\"zdt3\")\n",
    "algorithm = NSGA2(pop_size=100)\n",
    "termination = get_termination(\"n_eval\", 300)\n",
    "\n",
    "res = minimize(problem,\n",
    "               algorithm,\n",
    "               termination,\n",
    "               pf=problem.pareto_front(),\n",
    "               seed=1,\n",
    "               verbose=True)"
   ]
  },
  {
   "cell_type": "raw",
   "metadata": {
    "raw_mimetype": "text/restructuredtext"
   },
   "source": [
    ".. _nb_n_gen:"
   ]
  },
  {
   "cell_type": "markdown",
   "metadata": {},
   "source": [
    "### Number of Generations ('n_gen')"
   ]
  },
  {
   "cell_type": "markdown",
   "metadata": {},
   "source": [
    "Moreover, the number of generations / iterations can be limited as well. "
   ]
  },
  {
   "cell_type": "code",
   "execution_count": 2,
   "metadata": {
    "code": "termination/usage_n_gen.py"
   },
   "outputs": [
    {
     "name": "stdout",
     "output_type": "stream",
     "text": [
      "============================================================\n",
      "n_gen |  n_eval |     igd      |      gd      |      hv     \n",
      "============================================================\n",
      "    1 |     100 |  2.083143534 |  2.470275711 |  0.00000E+00\n",
      "    2 |     200 |  2.083143534 |  2.541012214 |  0.00000E+00\n",
      "    3 |     300 |  1.645150200 |  2.643981779 |  0.00000E+00\n",
      "    4 |     400 |  1.645150200 |  2.495032877 |  0.00000E+00\n",
      "    5 |     500 |  1.377082720 |  2.358907001 |  0.00000E+00\n",
      "    6 |     600 |  1.140794172 |  2.126785857 |  0.00000E+00\n",
      "    7 |     700 |  1.133602628 |  2.079613936 |  0.00000E+00\n",
      "    8 |     800 |  1.117438628 |  2.159774469 |  0.00000E+00\n",
      "    9 |     900 |  1.048025520 |  1.834387937 |  0.002692473\n",
      "   10 |    1000 |  1.018374082 |  1.486815031 |  0.002735728\n"
     ]
    }
   ],
   "source": [
    "from pymoo.algorithms.nsga2 import NSGA2\n",
    "from pymoo.factory import get_problem, get_termination\n",
    "from pymoo.optimize import minimize\n",
    "\n",
    "problem = get_problem(\"zdt3\")\n",
    "algorithm = NSGA2(pop_size=100)\n",
    "termination = get_termination(\"n_gen\", 10)\n",
    "\n",
    "res = minimize(problem,\n",
    "               algorithm,\n",
    "               termination,\n",
    "               pf=problem.pareto_front(),\n",
    "               seed=1,\n",
    "               verbose=True)"
   ]
  },
  {
   "cell_type": "raw",
   "metadata": {
    "raw_mimetype": "text/restructuredtext"
   },
   "source": [
    ".. _nb_time:"
   ]
  },
  {
   "cell_type": "markdown",
   "metadata": {},
   "source": [
    "### Based on Time ('time')"
   ]
  },
  {
   "cell_type": "markdown",
   "metadata": {},
   "source": [
    "The termination can be also based on the time of the algorithm to be executed. For instance, to run an algorithm for 3 seconds the termination can be defined by `get_termination(\"time\", \"00:00:03\")` or for 1 hour and 30 minutes by `get_termination(\"time\", \"01:30:00\")`."
   ]
  },
  {
   "cell_type": "code",
   "execution_count": 3,
   "metadata": {
    "code": "termination/usage_time.py"
   },
   "outputs": [
    {
     "name": "stdout",
     "output_type": "stream",
     "text": [
      "478\n"
     ]
    }
   ],
   "source": [
    "from pymoo.algorithms.nsga2 import NSGA2\n",
    "from pymoo.factory import get_problem, get_termination\n",
    "from pymoo.optimize import minimize\n",
    "\n",
    "problem = get_problem(\"zdt3\")\n",
    "algorithm = NSGA2(pop_size=100)\n",
    "termination = get_termination(\"time\", \"00:00:03\")\n",
    "\n",
    "res = minimize(problem,\n",
    "               algorithm,\n",
    "               termination,\n",
    "               pf=problem.pareto_front(),\n",
    "               seed=1,\n",
    "               verbose=False)\n",
    "\n",
    "print(res.algorithm.n_gen)\n"
   ]
  },
  {
   "cell_type": "raw",
   "metadata": {
    "raw_mimetype": "text/restructuredtext"
   },
   "source": [
    ".. _nb_xtol:"
   ]
  },
  {
   "cell_type": "markdown",
   "metadata": {},
   "source": [
    "### Design Space Tolerance ('x_tol')\n"
   ]
  },
  {
   "cell_type": "markdown",
   "metadata": {},
   "source": [
    "Also, we can track the change in the design space. For a parameter explanation please have a look at 'ftol'."
   ]
  },
  {
   "cell_type": "code",
   "execution_count": 4,
   "metadata": {
    "code": "termination/usage_xtol.py"
   },
   "outputs": [
    {
     "name": "stdout",
     "output_type": "stream",
     "text": [
      "110\n"
     ]
    }
   ],
   "source": [
    "from pymoo.algorithms.nsga2 import NSGA2\n",
    "from pymoo.factory import get_problem, get_termination\n",
    "from pymoo.optimize import minimize\n",
    "\n",
    "problem = get_problem(\"zdt3\")\n",
    "algorithm = NSGA2(pop_size=100)\n",
    "termination = get_termination(\"x_tol\", tol=0.001, n_last=20, nth_gen=10)\n",
    "\n",
    "res = minimize(problem,\n",
    "               algorithm,\n",
    "               termination,\n",
    "               pf=problem.pareto_front(),\n",
    "               seed=1,\n",
    "               verbose=False)\n",
    "\n",
    "print(res.algorithm.n_gen)\n"
   ]
  },
  {
   "cell_type": "raw",
   "metadata": {
    "raw_mimetype": "text/restructuredtext"
   },
   "source": [
    ".. _nb_ftol:"
   ]
  },
  {
   "cell_type": "markdown",
   "metadata": {},
   "source": [
    "### Objective Space Tolerance ('f_tol')\n",
    "\n",
    "Probably the most interesting stopping criterion is to use the objective space change to make decision whether to continue or not. Here, we mostly use a naive and efficient procedure to determine whether to stop or not. We aim to improve it further in the future. If somebody in interested in collaborating please let us know.\n",
    "\n",
    "The parameters of our implementation are:\n",
    "\n",
    "**tol**: What is the tolerance in the objective space in average. If the value is below this bound we terminate.\n",
    "\n",
    "**n_last**: To make the criterion more robust, we consider the last $n$ generations and take the maximum. This considers the worst case in a window.\n",
    "\n",
    "**n_max_gen**: As a fallback the generation number can be used. For some problems the termination criterion might not be reached, however, an upper bound for generations can be defined to stop in that case.\n",
    "\n",
    "**nth_gen**: Defines whenever the termination criterion is calculated. By default, every 10th generation."
   ]
  },
  {
   "cell_type": "code",
   "execution_count": 5,
   "metadata": {
    "code": "termination/usage_ftol_multi.py"
   },
   "outputs": [
    {
     "name": "stdout",
     "output_type": "stream",
     "text": [
      "============================================================\n",
      "n_gen |  n_eval |     igd      |      gd      |      hv     \n",
      "============================================================\n",
      "    1 |     100 |  2.083143534 |  2.470275711 |  0.00000E+00\n",
      "    2 |     200 |  2.083143534 |  2.541012214 |  0.00000E+00\n",
      "    3 |     300 |  1.645150200 |  2.643981779 |  0.00000E+00\n",
      "    4 |     400 |  1.645150200 |  2.495032877 |  0.00000E+00\n",
      "    5 |     500 |  1.377082720 |  2.358907001 |  0.00000E+00\n",
      "    6 |     600 |  1.140794172 |  2.126785857 |  0.00000E+00\n",
      "    7 |     700 |  1.133602628 |  2.079613936 |  0.00000E+00\n",
      "    8 |     800 |  1.117438628 |  2.159774469 |  0.00000E+00\n",
      "    9 |     900 |  1.048025520 |  1.834387937 |  0.002692473\n",
      "   10 |    1000 |  1.018374082 |  1.486815031 |  0.002735728\n",
      "   11 |    1100 |  0.880401550 |  1.356824485 |  0.005051478\n",
      "   12 |    1200 |  0.846637297 |  1.312712518 |  0.046908769\n",
      "   13 |    1300 |  0.733644432 |  1.108002298 |  0.048781863\n",
      "   14 |    1400 |  0.731200346 |  1.140088593 |  0.052330668\n",
      "   15 |    1500 |  0.714440556 |  1.017479772 |  0.080495169\n",
      "   16 |    1600 |  0.705859554 |  0.873142855 |  0.084014562\n",
      "   17 |    1700 |  0.700044274 |  0.862751275 |  0.087411857\n",
      "   18 |    1800 |  0.632960310 |  0.882753691 |  0.090502776\n",
      "   19 |    1900 |  0.586047905 |  0.839110910 |  0.106159321\n",
      "   20 |    2000 |  0.547093996 |  0.826625472 |  0.121667025\n",
      "   21 |    2100 |  0.485248215 |  0.803916141 |  0.164064872\n",
      "   22 |    2200 |  0.469300577 |  0.826548137 |  0.177075109\n",
      "   23 |    2300 |  0.447582653 |  0.824181632 |  0.200999817\n",
      "   24 |    2400 |  0.430638322 |  0.618613945 |  0.216234424\n",
      "   25 |    2500 |  0.412227022 |  0.569050496 |  0.221674029\n",
      "   26 |    2600 |  0.403323746 |  0.608012878 |  0.231982169\n",
      "   27 |    2700 |  0.369580699 |  0.539756552 |  0.254183686\n",
      "   28 |    2800 |  0.360584989 |  0.456185170 |  0.264525122\n",
      "   29 |    2900 |  0.340133406 |  0.430066150 |  0.289198715\n",
      "   30 |    3000 |  0.323313308 |  0.435392032 |  0.303600624\n",
      "   31 |    3100 |  0.315694039 |  0.417717881 |  0.306298805\n",
      "   32 |    3200 |  0.280932250 |  0.396354455 |  0.329743680\n",
      "   33 |    3300 |  0.275220596 |  0.364817784 |  0.343105265\n",
      "   34 |    3400 |  0.252506767 |  0.318169935 |  0.365748530\n",
      "   35 |    3500 |  0.245655936 |  0.299327084 |  0.379617099\n",
      "   36 |    3600 |  0.234072750 |  0.278201892 |  0.391815264\n",
      "   37 |    3700 |  0.221278072 |  0.271161521 |  0.406953135\n",
      "   38 |    3800 |  0.208104195 |  0.251844871 |  0.412969267\n",
      "   39 |    3900 |  0.197753107 |  0.245700755 |  0.434522245\n",
      "   40 |    4000 |  0.192095830 |  0.232701436 |  0.449134811\n",
      "   41 |    4100 |  0.176898191 |  0.220128394 |  0.469439585\n",
      "   42 |    4200 |  0.174119954 |  0.202285321 |  0.474967204\n",
      "   43 |    4300 |  0.171560718 |  0.182546494 |  0.480960854\n",
      "   44 |    4400 |  0.157766809 |  0.174532216 |  0.490631941\n",
      "   45 |    4500 |  0.152634447 |  0.164054152 |  0.496072817\n",
      "   46 |    4600 |  0.151147978 |  0.144982762 |  0.500435324\n",
      "   47 |    4700 |  0.145423724 |  0.137605444 |  0.512327306\n",
      "   48 |    4800 |  0.140467887 |  0.144705073 |  0.524160969\n",
      "   49 |    4900 |  0.138873110 |  0.135149596 |  0.528150522\n",
      "   50 |    5000 |  0.133752265 |  0.118960921 |  0.535344575\n",
      "   51 |    5100 |  0.128279792 |  0.117820714 |  0.550237603\n",
      "   52 |    5200 |  0.120866605 |  0.111750942 |  0.568368837\n",
      "   53 |    5300 |  0.115042214 |  0.114196161 |  0.578964803\n",
      "   54 |    5400 |  0.106019531 |  0.101447227 |  0.591566272\n",
      "   55 |    5500 |  0.094326967 |  0.076117925 |  0.614643614\n",
      "   56 |    5600 |  0.090459458 |  0.067798191 |  0.620703654\n",
      "   57 |    5700 |  0.088859432 |  0.065102907 |  0.623649954\n",
      "   58 |    5800 |  0.080923378 |  0.063364240 |  0.633876504\n",
      "   59 |    5900 |  0.075208931 |  0.053062839 |  0.636805092\n",
      "   60 |    6000 |  0.070172233 |  0.058862350 |  0.644576442\n",
      "   61 |    6100 |  0.066830988 |  0.053280125 |  0.649610745\n",
      "   62 |    6200 |  0.064922017 |  0.055486485 |  0.654079410\n",
      "   63 |    6300 |  0.062629136 |  0.051445994 |  0.658919478\n",
      "   64 |    6400 |  0.060972655 |  0.048934749 |  0.662241015\n",
      "   65 |    6500 |  0.056748461 |  0.048749971 |  0.669858668\n",
      "   66 |    6600 |  0.052926916 |  0.040835011 |  0.675695062\n",
      "   67 |    6700 |  0.050442578 |  0.040448498 |  0.678597247\n",
      "   68 |    6800 |  0.046634816 |  0.039841648 |  0.684645805\n",
      "   69 |    6900 |  0.041852096 |  0.033166098 |  0.693151811\n",
      "   70 |    7000 |  0.037531604 |  0.028288076 |  0.701822753\n",
      "   71 |    7100 |  0.036217440 |  0.027325163 |  0.704439640\n",
      "   72 |    7200 |  0.035855081 |  0.027689668 |  0.705942331\n",
      "   73 |    7300 |  0.032086610 |  0.024560216 |  0.711465594\n",
      "   74 |    7400 |  0.031319462 |  0.024353878 |  0.712910774\n",
      "   75 |    7500 |  0.029839935 |  0.024565949 |  0.715985810\n",
      "   76 |    7600 |  0.028526639 |  0.021685030 |  0.717942480\n",
      "   77 |    7700 |  0.026896380 |  0.020803052 |  0.720220227\n",
      "   78 |    7800 |  0.025616322 |  0.020707179 |  0.722801625\n",
      "   79 |    7900 |  0.024898948 |  0.019040416 |  0.723600959\n",
      "   80 |    8000 |  0.023829195 |  0.016346611 |  0.726072873\n",
      "   81 |    8100 |  0.022733935 |  0.017053052 |  0.727414917\n",
      "   82 |    8200 |  0.022524042 |  0.016782731 |  0.728191683\n",
      "   83 |    8300 |  0.021938278 |  0.016293434 |  0.729918387\n",
      "   84 |    8400 |  0.020906617 |  0.016507477 |  0.732440383\n",
      "   85 |    8500 |  0.018844571 |  0.015689419 |  0.735695969\n",
      "   86 |    8600 |  0.018545936 |  0.014738310 |  0.736618434\n",
      "   87 |    8700 |  0.017906404 |  0.014637158 |  0.737005437\n",
      "   88 |    8800 |  0.018007705 |  0.014435373 |  0.737288612\n",
      "   89 |    8900 |  0.017232950 |  0.013770834 |  0.738708416\n",
      "   90 |    9000 |  0.016782030 |  0.013328913 |  0.739638512\n",
      "   91 |    9100 |  0.016586933 |  0.013132199 |  0.740046224\n",
      "   92 |    9200 |  0.016655381 |  0.012762069 |  0.739991098\n",
      "   93 |    9300 |  0.016585373 |  0.012730280 |  0.740250928\n",
      "   94 |    9400 |  0.016501067 |  0.012623253 |  0.740910670\n",
      "   95 |    9500 |  0.015683771 |  0.012457551 |  0.742961126\n",
      "   96 |    9600 |  0.015492135 |  0.012624484 |  0.743468794\n",
      "   97 |    9700 |  0.015256302 |  0.012343369 |  0.744087552\n",
      "   98 |    9800 |  0.014852947 |  0.012176163 |  0.744820038\n",
      "   99 |    9900 |  0.014784727 |  0.012391118 |  0.745467334\n",
      "  100 |   10000 |  0.014407233 |  0.012140032 |  0.745917197\n",
      "  101 |   10100 |  0.014272132 |  0.011842489 |  0.746571904\n",
      "  102 |   10200 |  0.013915092 |  0.012204184 |  0.748445350\n",
      "  103 |   10300 |  0.013352325 |  0.011695710 |  0.749665106\n",
      "  104 |   10400 |  0.012761592 |  0.011302372 |  0.750931632\n",
      "  105 |   10500 |  0.012592445 |  0.011330264 |  0.751247885\n",
      "  106 |   10600 |  0.012125913 |  0.010982942 |  0.752090529\n",
      "  107 |   10700 |  0.011332250 |  0.010843688 |  0.753921551\n",
      "  108 |   10800 |  0.011307582 |  0.009776056 |  0.754272425\n",
      "  109 |   10900 |  0.011090917 |  0.009617310 |  0.754677337\n",
      "  110 |   11000 |  0.010664780 |  0.009478589 |  0.754891489\n",
      "  111 |   11100 |  0.010103221 |  0.009127160 |  0.756426085\n",
      "  112 |   11200 |  0.010386114 |  0.009251376 |  0.756812075\n",
      "  113 |   11300 |  0.009924601 |  0.008976363 |  0.757656523\n",
      "  114 |   11400 |  0.009792749 |  0.009005168 |  0.758239816\n",
      "  115 |   11500 |  0.009640614 |  0.008738028 |  0.758705445\n",
      "  116 |   11600 |  0.009397021 |  0.008367014 |  0.759127412\n",
      "  117 |   11700 |  0.009244871 |  0.008415928 |  0.759649265\n",
      "  118 |   11800 |  0.008947585 |  0.008299110 |  0.760595164\n",
      "  119 |   11900 |  0.008853529 |  0.008323559 |  0.761008358\n",
      "  120 |   12000 |  0.008958661 |  0.008257318 |  0.761237678\n",
      "  121 |   12100 |  0.009071561 |  0.008285881 |  0.761446820\n",
      "  122 |   12200 |  0.008778010 |  0.008133709 |  0.761966323\n",
      "  123 |   12300 |  0.008700121 |  0.007888848 |  0.762828043\n",
      "  124 |   12400 |  0.008607816 |  0.007949202 |  0.762841283\n",
      "  125 |   12500 |  0.008681763 |  0.008061849 |  0.763663704\n",
      "  126 |   12600 |  0.008465179 |  0.007919217 |  0.763975117\n",
      "  127 |   12700 |  0.008356050 |  0.008096854 |  0.764215634\n",
      "  128 |   12800 |  0.007963872 |  0.008130828 |  0.765253923\n",
      "  129 |   12900 |  0.007905625 |  0.008180422 |  0.765351982\n",
      "  130 |   13000 |  0.007788916 |  0.008266771 |  0.765662927\n",
      "  131 |   13100 |  0.007842512 |  0.008169795 |  0.765680254\n",
      "  132 |   13200 |  0.007862926 |  0.007816107 |  0.765780467\n",
      "  133 |   13300 |  0.007658491 |  0.007673122 |  0.766289061\n",
      "  134 |   13400 |  0.007407436 |  0.007546163 |  0.766718030\n",
      "  135 |   13500 |  0.007456483 |  0.007349012 |  0.766984957\n",
      "  136 |   13600 |  0.007057062 |  0.007163333 |  0.767557739\n",
      "  137 |   13700 |  0.007211211 |  0.007106950 |  0.767812542\n",
      "  138 |   13800 |  0.006926135 |  0.007022276 |  0.768297929\n",
      "  139 |   13900 |  0.007131111 |  0.007054392 |  0.768351400\n",
      "  140 |   14000 |  0.007186327 |  0.007135976 |  0.768622685\n",
      "  141 |   14100 |  0.006701141 |  0.006650866 |  0.768768212\n",
      "  142 |   14200 |  0.006662776 |  0.006511451 |  0.768798463\n",
      "  143 |   14300 |  0.006712135 |  0.006691830 |  0.769135978\n",
      "  144 |   14400 |  0.006571374 |  0.006726656 |  0.769262305\n",
      "  145 |   14500 |  0.006907566 |  0.006881632 |  0.769379655\n",
      "  146 |   14600 |  0.006872800 |  0.007075636 |  0.769550367\n",
      "  147 |   14700 |  0.006613824 |  0.007056987 |  0.769960085\n",
      "  148 |   14800 |  0.006301008 |  0.006780777 |  0.770257663\n",
      "  149 |   14900 |  0.006816838 |  0.007189462 |  0.770476908\n",
      "  150 |   15000 |  0.006619891 |  0.006921154 |  0.770625860\n",
      "  151 |   15100 |  0.006601782 |  0.006917033 |  0.771171734\n",
      "  152 |   15200 |  0.006423120 |  0.006599487 |  0.771168190\n",
      "  153 |   15300 |  0.006530498 |  0.006833234 |  0.771349505\n",
      "  154 |   15400 |  0.006434187 |  0.006632133 |  0.771498179\n",
      "  155 |   15500 |  0.006639357 |  0.006839766 |  0.771829084\n",
      "155\n"
     ]
    },
    {
     "data": {
      "image/png": "[encoded data removed]",
      "text/plain": [
       "<Figure size 576x432 with 1 Axes>"
      ]
     },
     "metadata": {
      "image/png": {
       "height": 387,
       "width": 513
      },
      "needs_background": "light"
     },
     "output_type": "display_data"
    }
   ],
   "source": [
    "from pymoo.algorithms.nsga2 import NSGA2\n",
    "from pymoo.factory import get_problem, get_termination\n",
    "from pymoo.optimize import minimize\n",
    "from pymoo.visualization.scatter import Scatter\n",
    "\n",
    "problem = get_problem(\"zdt3\")\n",
    "algorithm = NSGA2(pop_size=100)\n",
    "termination = get_termination(\"f_tol\")\n",
    "\n",
    "res = minimize(problem,\n",
    "               algorithm,\n",
    "               termination,\n",
    "               pf=True,\n",
    "               seed=1,\n",
    "               verbose=True)\n",
    "\n",
    "print(res.algorithm.n_gen)\n",
    "plot = Scatter(title=\"ZDT3\")\n",
    "plot.add(problem.pareto_front(use_cache=False, flatten=False), plot_type=\"line\", color=\"black\")\n",
    "plot.add(res.F, color=\"red\", alpha=0.8, s=20)\n",
    "plot.show()\n",
    "\n"
   ]
  }
 ],
 "metadata": {
  "celltoolbar": "Raw Cell Format",
  "kernelspec": {
   "display_name": "Python 3",
   "language": "python",
   "name": "python3"
  },
  "language_info": {
   "codemirror_mode": {
    "name": "ipython",
    "version": 3
   },
   "file_extension": ".py",
   "mimetype": "text/x-python",
   "name": "python",
   "nbconvert_exporter": "python",
   "pygments_lexer": "ipython3",
   "version": "3.7.3"
  }
 },
 "nbformat": 4,
 "nbformat_minor": 4
}
