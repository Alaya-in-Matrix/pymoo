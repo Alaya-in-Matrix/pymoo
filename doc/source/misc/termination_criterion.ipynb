{
 "cells": [
  {
   "cell_type": "raw",
   "metadata": {
    "raw_mimetype": "text/restructuredtext"
   },
   "source": [
    ".. _nb_termination:"
   ]
  },
  {
   "cell_type": "markdown",
   "metadata": {},
   "source": [
    "## Termination Criterion"
   ]
  },
  {
   "cell_type": "markdown",
   "metadata": {},
   "source": [
    "Whenever an algorithm is executed it needs to be decided whether a next iteration should be started  or not. For single-objective algorithms a naive implementation can consider the relative improvement in the last $n$ generations.\n"
   ]
  },
  {
   "cell_type": "raw",
   "metadata": {
    "raw_mimetype": "text/restructuredtext"
   },
   "source": [
    ".. _nb_n_eval:"
   ]
  },
  {
   "cell_type": "markdown",
   "metadata": {},
   "source": [
    "### Number of Evaluations ('n_eval')"
   ]
  },
  {
   "cell_type": "markdown",
   "metadata": {},
   "source": [
    "The termination can simply be reached by providing an upper bound for the number of function evaluations. Whenever, in an iteration the number of function evaluations is larger than this upper bound the algorithm terminates."
   ]
  },
  {
   "cell_type": "code",
   "execution_count": 1,
   "metadata": {
    "code": "termination/usage_n_eval.py"
   },
   "outputs": [
    {
     "name": "stdout",
     "output_type": "stream",
     "text": [
      "======================================================================\n",
      "n_gen | n_eval  | igd          | gd           | hv          \n",
      "======================================================================\n",
      "1     | 100     | 2.0831435338 | 3.1025851756 | 0.0000000000\n",
      "2     | 200     | 2.0831435338 | 2.7762579284 | 0.0000000000\n",
      "3     | 300     | 1.4397631492 | 2.6202677161 | 0.0000000000\n"
     ]
    }
   ],
   "source": [
    "from pymoo.algorithms.nsga2 import NSGA2\n",
    "from pymoo.factory import get_problem, get_termination\n",
    "from pymoo.optimize import minimize\n",
    "\n",
    "problem = get_problem(\"zdt3\")\n",
    "algorithm = NSGA2(pop_size=100)\n",
    "termination = get_termination(\"n_eval\", 300)\n",
    "\n",
    "res = minimize(problem,\n",
    "               algorithm,\n",
    "               termination,\n",
    "               pf=problem.pareto_front(),\n",
    "               seed=1,\n",
    "               verbose=True)"
   ]
  },
  {
   "cell_type": "raw",
   "metadata": {
    "raw_mimetype": "text/restructuredtext"
   },
   "source": [
    ".. _nb_n_gen:"
   ]
  },
  {
   "cell_type": "markdown",
   "metadata": {},
   "source": [
    "### Number of Generations ('n_gen')"
   ]
  },
  {
   "cell_type": "markdown",
   "metadata": {},
   "source": [
    "Moreover, the number of generations / iterations can be limited as well. "
   ]
  },
  {
   "cell_type": "code",
   "execution_count": 2,
   "metadata": {
    "code": "termination/usage_n_gen.py"
   },
   "outputs": [
    {
     "name": "stdout",
     "output_type": "stream",
     "text": [
      "======================================================================\n",
      "n_gen | n_eval  | igd          | gd           | hv          \n",
      "======================================================================\n",
      "1     | 100     | 2.0831435338 | 3.1025851756 | 0.0000000000\n",
      "2     | 200     | 2.0831435338 | 2.7762579284 | 0.0000000000\n",
      "3     | 300     | 1.4397631492 | 2.6202677161 | 0.0000000000\n",
      "4     | 400     | 1.4397631492 | 2.5084234772 | 0.0000000000\n",
      "5     | 500     | 1.3868587086 | 2.2914029594 | 0.0000000000\n",
      "6     | 600     | 1.2823153200 | 2.1250941821 | 0.0000000000\n",
      "7     | 700     | 1.1733227807 | 2.0375213076 | 0.0000000000\n",
      "8     | 800     | 1.0649222876 | 1.8189030621 | 0.0000000000\n",
      "9     | 900     | 0.8197972200 | 1.6041517113 | 0.0025056832\n",
      "10    | 1000    | 0.7952518411 | 1.5300429731 | 0.0028316497\n"
     ]
    }
   ],
   "source": [
    "from pymoo.algorithms.nsga2 import NSGA2\n",
    "from pymoo.factory import get_problem, get_termination\n",
    "from pymoo.optimize import minimize\n",
    "\n",
    "problem = get_problem(\"zdt3\")\n",
    "algorithm = NSGA2(pop_size=100)\n",
    "termination = get_termination(\"n_gen\", 10)\n",
    "\n",
    "res = minimize(problem,\n",
    "               algorithm,\n",
    "               termination,\n",
    "               pf=problem.pareto_front(),\n",
    "               seed=1,\n",
    "               verbose=True)"
   ]
  },
  {
   "cell_type": "raw",
   "metadata": {
    "raw_mimetype": "text/restructuredtext"
   },
   "source": [
    ".. _nb_xtol:"
   ]
  },
  {
   "cell_type": "markdown",
   "metadata": {},
   "source": [
    "### Design Space Tolerance ('x_tol')\n"
   ]
  },
  {
   "cell_type": "markdown",
   "metadata": {},
   "source": [
    "Also, we can track the change in the design space. For a parameter explanation please have a look at 'ftol'."
   ]
  },
  {
   "cell_type": "code",
   "execution_count": 3,
   "metadata": {
    "code": "termination/usage_xtol.py"
   },
   "outputs": [
    {
     "name": "stdout",
     "output_type": "stream",
     "text": [
      "130\n"
     ]
    }
   ],
   "source": [
    "from pymoo.algorithms.nsga2 import NSGA2\n",
    "from pymoo.factory import get_problem, get_termination\n",
    "from pymoo.optimize import minimize\n",
    "\n",
    "problem = get_problem(\"zdt3\")\n",
    "algorithm = NSGA2(pop_size=100)\n",
    "termination = get_termination(\"x_tol\", tol=0.001, n_last=20, n_max_gen=None, nth_gen=10)\n",
    "\n",
    "res = minimize(problem,\n",
    "               algorithm,\n",
    "               termination,\n",
    "               pf=problem.pareto_front(),\n",
    "               seed=1,\n",
    "               verbose=False)\n",
    "\n",
    "print(res.algorithm.n_gen)\n"
   ]
  },
  {
   "cell_type": "raw",
   "metadata": {
    "raw_mimetype": "text/restructuredtext"
   },
   "source": [
    ".. _nb_ftol:"
   ]
  },
  {
   "cell_type": "markdown",
   "metadata": {},
   "source": [
    "### Objective Space Tolerance ('f_tol')\n",
    "\n",
    "Probably the most interesting stopping criterion is to use the objective space change to make decision whether to continue or not. Here, we mostly use a naive and efficient procedure to determine whether to stop or not. We aim to improve it further in the future. If somebody in interested in collaborating please let us know.\n",
    "\n",
    "The parameters of our implementation are:\n",
    "\n",
    "**tol**: What is the tolerance in the objective space in average. If the value is below this bound we terminate.\n",
    "\n",
    "**n_last**: To make the criterion more robust, we consider the last $n$ generations and take the maximum. This considers the worst case in a window.\n",
    "\n",
    "**n_max_gen**: As a fallback the generation number can be used. For some problems the termination criterion might not be reached, however, an upper bound for generations can be defined to stop in that case.\n",
    "\n",
    "**nth_gen**: Defines whenever the termination criterion is calculated. By default, every 10th generation."
   ]
  },
  {
   "cell_type": "code",
   "execution_count": 4,
   "metadata": {
    "code": "termination/usage_ftol.py"
   },
   "outputs": [
    {
     "name": "stdout",
     "output_type": "stream",
     "text": [
      "90\n"
     ]
    },
    {
     "data": {
      "image/png": "[encoded data removed]",
      "text/plain": [
       "<Figure size 576x432 with 1 Axes>"
      ]
     },
     "metadata": {
      "image/png": {
       "height": 387,
       "width": 513
      },
      "needs_background": "light"
     },
     "output_type": "display_data"
    }
   ],
   "source": [
    "from pymoo.algorithms.nsga2 import NSGA2\n",
    "from pymoo.factory import get_problem, get_termination\n",
    "from pymoo.optimize import minimize\n",
    "from pymoo.visualization.scatter import Scatter\n",
    "\n",
    "problem = get_problem(\"zdt3\")\n",
    "algorithm = NSGA2(pop_size=100)\n",
    "termination = get_termination(\"f_tol\", tol=0.001, n_last=20, n_max_gen=1000, nth_gen=10)\n",
    "\n",
    "res = minimize(problem,\n",
    "               algorithm,\n",
    "               termination,\n",
    "               pf=problem.pareto_front(),\n",
    "               seed=1,\n",
    "               verbose=False)\n",
    "\n",
    "print(res.algorithm.n_gen)\n",
    "plot = Scatter(title=\"ZDT3\")\n",
    "plot.add(problem.pareto_front(use_cache=False, flatten=False), plot_type=\"line\", color=\"black\")\n",
    "plot.add(res.F, color=\"red\", alpha=0.8, s=20)\n",
    "plot.show()\n"
   ]
  }
 ],
 "metadata": {
  "celltoolbar": "Raw Cell Format",
  "kernelspec": {
   "display_name": "Python 3",
   "language": "python",
   "name": "python3"
  },
  "language_info": {
   "codemirror_mode": {
    "name": "ipython",
    "version": 3
   },
   "file_extension": ".py",
   "mimetype": "text/x-python",
   "name": "python",
   "nbconvert_exporter": "python",
   "pygments_lexer": "ipython3",
   "version": "3.7.4"
  }
 },
 "nbformat": 4,
 "nbformat_minor": 4
}
