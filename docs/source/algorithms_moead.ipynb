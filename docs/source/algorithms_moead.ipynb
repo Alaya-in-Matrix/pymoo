{
 "cells": [
  {
   "cell_type": "markdown",
   "metadata": {},
   "source": [
    "### MOEA/D\n",
    "\n",
    "\n",
    "<cite data-cite=\"moead\"></cite>"
   ]
  },
  {
   "cell_type": "code",
   "execution_count": null,
   "metadata": {},
   "outputs": [
    {
     "name": "stdout",
     "output_type": "stream",
     "text": [
      "Best solution found: [0.99569724 0.97829096 0.99494822 0.99692585 0.95984854 0.97470472\n",
      " 0.95430831 0.99918398 0.95537571 2.84637561 2.65230982 2.63294262\n",
      " 0.96236227]\n",
      "Function value: [-13.76934674]\n"
     ]
    }
   ],
   "source": [
    "from pymoo.optimize import minimize\n",
    "from pymoo.util import plotting\n",
    "from pymop.factory import get_problem, UniformReferenceDirectionFactory\n",
    "\n",
    "# create the optimization problem\n",
    "problem = get_problem(\"dtlz2\")\n",
    "ref_dirs = UniformReferenceDirectionFactory(3, n_points=100).do()\n",
    "pf = problem.pareto_front(ref_dirs)\n",
    "\n",
    "res = minimize(problem,\n",
    "               method='moead',\n",
    "               method_args={\n",
    "                   'ref_dirs': ref_dirs,\n",
    "                   'n_neighbors': 15,\n",
    "                   'decomposition': 'pbi',\n",
    "                   'prob_neighbor_mating': 0.7\n",
    "               },\n",
    "               termination=('n_gen', 200),\n",
    "               pf=pf,\n",
    "               save_history=False,\n",
    "               disp=True)\n",
    "plotting.plot(pf, res.F, labels=[\"Pareto-front\", \"F\"])\n"
   ]
  },
  {
   "cell_type": "code",
   "execution_count": null,
   "metadata": {},
   "outputs": [],
   "source": []
  }
 ],
 "metadata": {
  "kernelspec": {
   "display_name": "Python 3",
   "language": "python",
   "name": "python3"
  },
  "language_info": {
   "codemirror_mode": {
    "name": "ipython",
    "version": 3
   },
   "file_extension": ".py",
   "mimetype": "text/x-python",
   "name": "python",
   "nbconvert_exporter": "python",
   "pygments_lexer": "ipython3",
   "version": "3.6.5"
  }
 },
 "nbformat": 4,
 "nbformat_minor": 2
}
