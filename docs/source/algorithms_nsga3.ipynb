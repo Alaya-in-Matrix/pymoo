{
 "cells": [
  {
   "cell_type": "markdown",
   "metadata": {},
   "source": [
    "### NSGA-III\n",
    "\n",
    "\n",
    "<cite data-cite=\"nsga3-part1,nsga3-part2\"></cite>"
   ]
  },
  {
   "cell_type": "code",
   "execution_count": 2,
   "metadata": {},
   "outputs": [
    {
     "name": "stdout",
     "output_type": "stream",
     "text": [
      "Best solution found: [0.99569724 0.97829096 0.99494822 0.99692585 0.95984854 0.97470472\n",
      " 0.95430831 0.99918398 0.95537571 2.84637561 2.65230982 2.63294262\n",
      " 0.96236227]\n",
      "Function value: [-13.76934674]\n"
     ]
    }
   ],
   "source": [
    "from pymoo.optimize import minimize\n",
    "from pymoo.util import plotting\n",
    "from pymoo.util.reference_direction import UniformReferenceDirectionFactory\n",
    "from pymop.factory import get_problem\n",
    "\n",
    "problem = get_problem(\"dtlz1\")\n",
    "\n",
    "# create the reference directions to be used for the optimization\n",
    "ref_dirs = UniformReferenceDirectionFactory(3, n_points=91).do()\n",
    "\n",
    "# create the pareto front for the given reference lines\n",
    "pf = problem.pareto_front(ref_dirs)\n",
    "\n",
    "res = minimize(problem,\n",
    "               method='nsga3',\n",
    "               method_args={\n",
    "                   'pop_size': 92,\n",
    "                   'ref_dirs': ref_dirs\n",
    "               },\n",
    "               termination=('n_gen', 600),\n",
    "               pf=pf,\n",
    "               seed=4,\n",
    "               disp=True)\n",
    "\n",
    "# if desired we can filter out the solutions that are not close to ref_dirs\n",
    "closest_to_ref_dir = res.opt.get(\"closest\")\n",
    "plotting.plot(res.F[closest_to_ref_dir, :], show=True)\n"
   ]
  },
  {
   "cell_type": "code",
   "execution_count": null,
   "metadata": {},
   "outputs": [],
   "source": []
  }
 ],
 "metadata": {
  "kernelspec": {
   "display_name": "Python 3",
   "language": "python",
   "name": "python3"
  },
  "language_info": {
   "codemirror_mode": {
    "name": "ipython",
    "version": 3
   },
   "file_extension": ".py",
   "mimetype": "text/x-python",
   "name": "python",
   "nbconvert_exporter": "python",
   "pygments_lexer": "ipython3",
   "version": "3.6.5"
  }
 },
 "nbformat": 4,
 "nbformat_minor": 2
}
