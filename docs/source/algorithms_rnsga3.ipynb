{
 "cells": [
  {
   "cell_type": "markdown",
   "metadata": {},
   "source": [
    "### R-NSGA-III\n",
    "\n",
    "\n",
    "<cite data-cite=\"rnsga3\"></cite>"
   ]
  },
  {
   "cell_type": "code",
   "execution_count": null,
   "metadata": {},
   "outputs": [
    {
     "name": "stdout",
     "output_type": "stream",
     "text": [
      "Best solution found: [0.99569724 0.97829096 0.99494822 0.99692585 0.95984854 0.97470472\n",
      " 0.95430831 0.99918398 0.95537571 2.84637561 2.65230982 2.63294262\n",
      " 0.96236227]\n",
      "Function value: [-13.76934674]\n"
     ]
    }
   ],
   "source": [
    "import numpy as np\n",
    "\n",
    "from pymoo.optimize import minimize\n",
    "from pymoo.util import plotting\n",
    "from pymop.factory import get_problem\n",
    "\n",
    "problem = get_problem(\"zdt1\")\n",
    "pf = problem.pareto_front()\n",
    "\n",
    "# create the reference directions to be used for the optimization\n",
    "ref_points = np.array([[0.3, 0.4], [0.8, 0.5]])\n",
    "\n",
    "res = minimize(problem,\n",
    "               method='rnsga3',\n",
    "               method_args={\n",
    "                   'ref_points': ref_points,\n",
    "                   'pop_per_ref_point': 50,\n",
    "                   'mu': 0.1\n",
    "               },\n",
    "               termination=('n_gen', 400),\n",
    "               pf=pf,\n",
    "               disp=True)\n",
    "plotting.plot(pf, res.F, ref_points, show=True, labels=['pf', 'F', 'ref_points'])\n"
   ]
  },
  {
   "cell_type": "code",
   "execution_count": null,
   "metadata": {},
   "outputs": [],
   "source": []
  }
 ],
 "metadata": {
  "kernelspec": {
   "display_name": "Python 3",
   "language": "python",
   "name": "python3"
  },
  "language_info": {
   "codemirror_mode": {
    "name": "ipython",
    "version": 3
   },
   "file_extension": ".py",
   "mimetype": "text/x-python",
   "name": "python",
   "nbconvert_exporter": "python",
   "pygments_lexer": "ipython3",
   "version": "3.6.5"
  }
 },
 "nbformat": 4,
 "nbformat_minor": 2
}
